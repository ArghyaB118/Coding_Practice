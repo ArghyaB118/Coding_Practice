{
 "cells": [
  {
   "cell_type": "markdown",
   "metadata": {
    "colab_type": "text",
    "id": "x_BkOtqBIKQz"
   },
   "source": [
    "# Data Science Challenge\n",
    "\n",
    "## The problem is to find a binary classification of yearly avaialability of hotels\n",
    "\n",
    "https://towardsdatascience.com/create-a-model-to-predict-house-prices-using-python-d34fe8fad88f\n",
    "\n",
    "The hypothesis representation, $h_{\\theta}(x) = g(\\theta^{T} x)$, where $z = \\theta^{T} x$, and $g(z) = \\frac{1}{1 + e^{-z}}$. The function is called **logistic function or sigmoid function**, where $h_{\\theta} (x) = [0, 1]$. Hence, $h_{\\theta}(x) = P(y = 1 | x, \\theta) = 1 - P(y = 0| x, \\theta)$."
   ]
  },
  {
   "cell_type": "code",
   "execution_count": 12,
   "metadata": {
    "colab": {},
    "colab_type": "code",
    "id": "U_VthdACIKQ6"
   },
   "outputs": [],
   "source": [
    "# To install packages that are not installed by default, uncomment the last two lines \n",
    "# of this cell and replace <package list> with a list of necessary packages.\n",
    "# This will ensure the notebook has all the dependencies and works everywhere.\n",
    "\n",
    "#import sys\n",
    "#!{sys.executable} -m pip install <package list>"
   ]
  },
  {
   "cell_type": "code",
   "execution_count": 13,
   "metadata": {
    "colab": {},
    "colab_type": "code",
    "id": "VzGFUCCVIKRL"
   },
   "outputs": [],
   "source": [
    "#Libraries\n",
    "import pandas as pd\n",
    "import numpy as np\n",
    "import seaborn as sns\n",
    "import matplotlib.pyplot as plt \n",
    "pd.set_option(\"display.max_columns\", 101)"
   ]
  },
  {
   "cell_type": "markdown",
   "metadata": {
    "colab_type": "text",
    "id": "TZ23KNY8IKRT"
   },
   "source": [
    "## Data Description"
   ]
  },
  {
   "cell_type": "markdown",
   "metadata": {
    "colab_type": "text",
    "id": "jWSkqquEIKRW"
   },
   "source": [
    "Column | Description\n",
    ":---|:---\n",
    "`id` | The unique ID assigned to every hotel.\n",
    "`region` | The region in which the hotel is located..\n",
    "`latitude` | The latitude of the hotel.\n",
    "`longitude` | The longitude of the hotel.\n",
    "`accommodation_type` | The type of accommodation offered by the hotel. For example: Private room, Entire house/apt, etc.\n",
    "`cost` | The cost of booking the hotel for one night. (in \\$\\$)\n",
    "`minimum_nights` | The minimum number of nights stay required.\n",
    "`number_of_reviews` | The number of reviews accumulated by the hotel.\n",
    "`reviews_per_month` | The average number of reviews received by the hotel per month.\n",
    "`owner_id` | The unique ID assigned to every owner. An owner can own multiple hotels.\n",
    "`owned_hotels` | The number of hotels owned by the owner.\n",
    "`yearly_availability` | It indicates if the hotel accepts bookings around the year. Values are 0 (not available for 365 days in a year) and 1 (available for 365 days in a year)."
   ]
  },
  {
   "cell_type": "markdown",
   "metadata": {
    "colab_type": "text",
    "id": "BWQqx7cSIKRX"
   },
   "source": [
    "## Data Wrangling & Visualization"
   ]
  },
  {
   "cell_type": "code",
   "execution_count": 14,
   "metadata": {
    "colab": {},
    "colab_type": "code",
    "id": "SsjL7tf7IKRc"
   },
   "outputs": [],
   "source": [
    "# Dataset is already loaded below\n",
    "data = pd.read_csv(\"train.csv\")"
   ]
  },
  {
   "cell_type": "code",
   "execution_count": 15,
   "metadata": {
    "colab": {},
    "colab_type": "code",
    "id": "kzuHtZEkIKRh",
    "outputId": "9d14832c-2eda-48eb-df41-548113a94a73"
   },
   "outputs": [
    {
     "data": {
      "text/html": [
       "<div>\n",
       "<style scoped>\n",
       "    .dataframe tbody tr th:only-of-type {\n",
       "        vertical-align: middle;\n",
       "    }\n",
       "\n",
       "    .dataframe tbody tr th {\n",
       "        vertical-align: top;\n",
       "    }\n",
       "\n",
       "    .dataframe thead th {\n",
       "        text-align: right;\n",
       "    }\n",
       "</style>\n",
       "<table border=\"1\" class=\"dataframe\">\n",
       "  <thead>\n",
       "    <tr style=\"text-align: right;\">\n",
       "      <th></th>\n",
       "      <th>id</th>\n",
       "      <th>region</th>\n",
       "      <th>latitude</th>\n",
       "      <th>longitude</th>\n",
       "      <th>accommodation_type</th>\n",
       "      <th>cost</th>\n",
       "      <th>minimum_nights</th>\n",
       "      <th>number_of_reviews</th>\n",
       "      <th>reviews_per_month</th>\n",
       "      <th>owner_id</th>\n",
       "      <th>owned_hotels</th>\n",
       "      <th>yearly_availability</th>\n",
       "    </tr>\n",
       "  </thead>\n",
       "  <tbody>\n",
       "    <tr>\n",
       "      <th>0</th>\n",
       "      <td>13232</td>\n",
       "      <td>Manhattan</td>\n",
       "      <td>40.71854</td>\n",
       "      <td>-74.00439</td>\n",
       "      <td>Entire home/apt</td>\n",
       "      <td>170</td>\n",
       "      <td>5</td>\n",
       "      <td>7</td>\n",
       "      <td>0.56</td>\n",
       "      <td>929983</td>\n",
       "      <td>1</td>\n",
       "      <td>0</td>\n",
       "    </tr>\n",
       "    <tr>\n",
       "      <th>1</th>\n",
       "      <td>246</td>\n",
       "      <td>Brooklyn</td>\n",
       "      <td>40.64446</td>\n",
       "      <td>-73.95030</td>\n",
       "      <td>Entire home/apt</td>\n",
       "      <td>65</td>\n",
       "      <td>3</td>\n",
       "      <td>238</td>\n",
       "      <td>2.30</td>\n",
       "      <td>281764</td>\n",
       "      <td>1</td>\n",
       "      <td>0</td>\n",
       "    </tr>\n",
       "    <tr>\n",
       "      <th>2</th>\n",
       "      <td>19091</td>\n",
       "      <td>Queens</td>\n",
       "      <td>40.78573</td>\n",
       "      <td>-73.81062</td>\n",
       "      <td>Private room</td>\n",
       "      <td>85</td>\n",
       "      <td>1</td>\n",
       "      <td>0</td>\n",
       "      <td>NaN</td>\n",
       "      <td>19923341</td>\n",
       "      <td>1</td>\n",
       "      <td>1</td>\n",
       "    </tr>\n",
       "    <tr>\n",
       "      <th>3</th>\n",
       "      <td>34305</td>\n",
       "      <td>Manhattan</td>\n",
       "      <td>40.73863</td>\n",
       "      <td>-73.98002</td>\n",
       "      <td>Private room</td>\n",
       "      <td>210</td>\n",
       "      <td>30</td>\n",
       "      <td>0</td>\n",
       "      <td>NaN</td>\n",
       "      <td>200380610</td>\n",
       "      <td>65</td>\n",
       "      <td>1</td>\n",
       "    </tr>\n",
       "    <tr>\n",
       "      <th>4</th>\n",
       "      <td>444</td>\n",
       "      <td>Manhattan</td>\n",
       "      <td>40.82426</td>\n",
       "      <td>-73.94630</td>\n",
       "      <td>Shared room</td>\n",
       "      <td>75</td>\n",
       "      <td>3</td>\n",
       "      <td>38</td>\n",
       "      <td>0.42</td>\n",
       "      <td>745069</td>\n",
       "      <td>3</td>\n",
       "      <td>1</td>\n",
       "    </tr>\n",
       "  </tbody>\n",
       "</table>\n",
       "</div>"
      ],
      "text/plain": [
       "      id     region  latitude  longitude accommodation_type  cost  \\\n",
       "0  13232  Manhattan  40.71854  -74.00439    Entire home/apt   170   \n",
       "1    246   Brooklyn  40.64446  -73.95030    Entire home/apt    65   \n",
       "2  19091     Queens  40.78573  -73.81062       Private room    85   \n",
       "3  34305  Manhattan  40.73863  -73.98002       Private room   210   \n",
       "4    444  Manhattan  40.82426  -73.94630        Shared room    75   \n",
       "\n",
       "   minimum_nights  number_of_reviews  reviews_per_month   owner_id  \\\n",
       "0               5                  7               0.56     929983   \n",
       "1               3                238               2.30     281764   \n",
       "2               1                  0                NaN   19923341   \n",
       "3              30                  0                NaN  200380610   \n",
       "4               3                 38               0.42     745069   \n",
       "\n",
       "   owned_hotels  yearly_availability  \n",
       "0             1                    0  \n",
       "1             1                    0  \n",
       "2             1                    1  \n",
       "3            65                    1  \n",
       "4             3                    1  "
      ]
     },
     "execution_count": 15,
     "metadata": {},
     "output_type": "execute_result"
    }
   ],
   "source": [
    "data.head()"
   ]
  },
  {
   "cell_type": "code",
   "execution_count": 16,
   "metadata": {
    "colab": {},
    "colab_type": "code",
    "id": "0mhMZRlBIKRu",
    "outputId": "0a669059-5528-4ec0-d64b-8231f6aadf45"
   },
   "outputs": [
    {
     "name": "stdout",
     "output_type": "stream",
     "text": [
      "Index(['id', 'region', 'latitude', 'longitude', 'accommodation_type', 'cost',\n",
      "       'minimum_nights', 'number_of_reviews', 'reviews_per_month', 'owner_id',\n",
      "       'owned_hotels', 'yearly_availability'],\n",
      "      dtype='object')\n",
      "id                       int64\n",
      "region                  object\n",
      "latitude               float64\n",
      "longitude              float64\n",
      "accommodation_type      object\n",
      "cost                     int64\n",
      "minimum_nights           int64\n",
      "number_of_reviews        int64\n",
      "reviews_per_month      float64\n",
      "owner_id                 int64\n",
      "owned_hotels             int64\n",
      "yearly_availability      int64\n",
      "dtype: object\n"
     ]
    }
   ],
   "source": [
    "#Explore columns\n",
    "print(data.columns)\n",
    "print(data.dtypes)"
   ]
  },
  {
   "cell_type": "code",
   "execution_count": 17,
   "metadata": {
    "colab": {},
    "colab_type": "code",
    "id": "-SrTmyfJIKR1",
    "outputId": "12b270ca-8c3f-402b-d6c1-286c17e63fdd"
   },
   "outputs": [
    {
     "data": {
      "text/html": [
       "<div>\n",
       "<style scoped>\n",
       "    .dataframe tbody tr th:only-of-type {\n",
       "        vertical-align: middle;\n",
       "    }\n",
       "\n",
       "    .dataframe tbody tr th {\n",
       "        vertical-align: top;\n",
       "    }\n",
       "\n",
       "    .dataframe thead th {\n",
       "        text-align: right;\n",
       "    }\n",
       "</style>\n",
       "<table border=\"1\" class=\"dataframe\">\n",
       "  <thead>\n",
       "    <tr style=\"text-align: right;\">\n",
       "      <th></th>\n",
       "      <th>id</th>\n",
       "      <th>latitude</th>\n",
       "      <th>longitude</th>\n",
       "      <th>cost</th>\n",
       "      <th>minimum_nights</th>\n",
       "      <th>number_of_reviews</th>\n",
       "      <th>reviews_per_month</th>\n",
       "      <th>owner_id</th>\n",
       "      <th>owned_hotels</th>\n",
       "      <th>yearly_availability</th>\n",
       "    </tr>\n",
       "  </thead>\n",
       "  <tbody>\n",
       "    <tr>\n",
       "      <th>count</th>\n",
       "      <td>2870.000000</td>\n",
       "      <td>2870.000000</td>\n",
       "      <td>2870.000000</td>\n",
       "      <td>2870.000000</td>\n",
       "      <td>2870.000000</td>\n",
       "      <td>2870.000000</td>\n",
       "      <td>2194.000000</td>\n",
       "      <td>2.870000e+03</td>\n",
       "      <td>2870.000000</td>\n",
       "      <td>2870.000000</td>\n",
       "    </tr>\n",
       "    <tr>\n",
       "      <th>mean</th>\n",
       "      <td>26760.657143</td>\n",
       "      <td>40.731224</td>\n",
       "      <td>-73.950158</td>\n",
       "      <td>195.943206</td>\n",
       "      <td>11.530314</td>\n",
       "      <td>16.315331</td>\n",
       "      <td>1.157502</td>\n",
       "      <td>7.202195e+07</td>\n",
       "      <td>8.411498</td>\n",
       "      <td>0.498606</td>\n",
       "    </tr>\n",
       "    <tr>\n",
       "      <th>std</th>\n",
       "      <td>14140.930062</td>\n",
       "      <td>0.054942</td>\n",
       "      <td>0.049745</td>\n",
       "      <td>406.184714</td>\n",
       "      <td>37.972339</td>\n",
       "      <td>32.481722</td>\n",
       "      <td>1.355028</td>\n",
       "      <td>8.076516e+07</td>\n",
       "      <td>27.105522</td>\n",
       "      <td>0.500085</td>\n",
       "    </tr>\n",
       "    <tr>\n",
       "      <th>min</th>\n",
       "      <td>0.000000</td>\n",
       "      <td>40.507080</td>\n",
       "      <td>-74.242850</td>\n",
       "      <td>10.000000</td>\n",
       "      <td>1.000000</td>\n",
       "      <td>0.000000</td>\n",
       "      <td>0.010000</td>\n",
       "      <td>2.787000e+03</td>\n",
       "      <td>1.000000</td>\n",
       "      <td>0.000000</td>\n",
       "    </tr>\n",
       "    <tr>\n",
       "      <th>25%</th>\n",
       "      <td>15931.750000</td>\n",
       "      <td>40.692463</td>\n",
       "      <td>-73.984003</td>\n",
       "      <td>75.000000</td>\n",
       "      <td>1.000000</td>\n",
       "      <td>1.000000</td>\n",
       "      <td>0.240000</td>\n",
       "      <td>7.388002e+06</td>\n",
       "      <td>1.000000</td>\n",
       "      <td>0.000000</td>\n",
       "    </tr>\n",
       "    <tr>\n",
       "      <th>50%</th>\n",
       "      <td>28946.500000</td>\n",
       "      <td>40.728250</td>\n",
       "      <td>-73.956720</td>\n",
       "      <td>120.000000</td>\n",
       "      <td>3.000000</td>\n",
       "      <td>4.000000</td>\n",
       "      <td>0.650000</td>\n",
       "      <td>3.352708e+07</td>\n",
       "      <td>1.000000</td>\n",
       "      <td>0.000000</td>\n",
       "    </tr>\n",
       "    <tr>\n",
       "      <th>75%</th>\n",
       "      <td>38478.500000</td>\n",
       "      <td>40.762658</td>\n",
       "      <td>-73.934202</td>\n",
       "      <td>200.000000</td>\n",
       "      <td>6.000000</td>\n",
       "      <td>16.000000</td>\n",
       "      <td>1.530000</td>\n",
       "      <td>1.207625e+08</td>\n",
       "      <td>3.000000</td>\n",
       "      <td>1.000000</td>\n",
       "    </tr>\n",
       "    <tr>\n",
       "      <th>max</th>\n",
       "      <td>48893.000000</td>\n",
       "      <td>40.898730</td>\n",
       "      <td>-73.721730</td>\n",
       "      <td>9999.000000</td>\n",
       "      <td>999.000000</td>\n",
       "      <td>395.000000</td>\n",
       "      <td>10.370000</td>\n",
       "      <td>2.738123e+08</td>\n",
       "      <td>327.000000</td>\n",
       "      <td>1.000000</td>\n",
       "    </tr>\n",
       "  </tbody>\n",
       "</table>\n",
       "</div>"
      ],
      "text/plain": [
       "                 id     latitude    longitude         cost  minimum_nights  \\\n",
       "count   2870.000000  2870.000000  2870.000000  2870.000000     2870.000000   \n",
       "mean   26760.657143    40.731224   -73.950158   195.943206       11.530314   \n",
       "std    14140.930062     0.054942     0.049745   406.184714       37.972339   \n",
       "min        0.000000    40.507080   -74.242850    10.000000        1.000000   \n",
       "25%    15931.750000    40.692463   -73.984003    75.000000        1.000000   \n",
       "50%    28946.500000    40.728250   -73.956720   120.000000        3.000000   \n",
       "75%    38478.500000    40.762658   -73.934202   200.000000        6.000000   \n",
       "max    48893.000000    40.898730   -73.721730  9999.000000      999.000000   \n",
       "\n",
       "       number_of_reviews  reviews_per_month      owner_id  owned_hotels  \\\n",
       "count        2870.000000        2194.000000  2.870000e+03   2870.000000   \n",
       "mean           16.315331           1.157502  7.202195e+07      8.411498   \n",
       "std            32.481722           1.355028  8.076516e+07     27.105522   \n",
       "min             0.000000           0.010000  2.787000e+03      1.000000   \n",
       "25%             1.000000           0.240000  7.388002e+06      1.000000   \n",
       "50%             4.000000           0.650000  3.352708e+07      1.000000   \n",
       "75%            16.000000           1.530000  1.207625e+08      3.000000   \n",
       "max           395.000000          10.370000  2.738123e+08    327.000000   \n",
       "\n",
       "       yearly_availability  \n",
       "count          2870.000000  \n",
       "mean              0.498606  \n",
       "std               0.500085  \n",
       "min               0.000000  \n",
       "25%               0.000000  \n",
       "50%               0.000000  \n",
       "75%               1.000000  \n",
       "max               1.000000  "
      ]
     },
     "execution_count": 17,
     "metadata": {},
     "output_type": "execute_result"
    }
   ],
   "source": [
    "#Description\n",
    "data.describe()"
   ]
  },
  {
   "cell_type": "markdown",
   "metadata": {},
   "source": [
    "#### Steps in data wrangling and cleaning\n",
    "\n",
    "1. Dropping the column id.\n",
    "2. Checking if there are missing values in any columns.\n",
    "3. Only one column has missing values: reviews_per_month. Replacing the missing values by the column average.\n",
    "4. Converting the accomodation_type column to a float column with numerical data replacing the three unique types present.\n",
    "5. Converting the region column to a float column with numerical data replacing the five unique types present.\n",
    "6. Generating scatter plot to understand if there are weird outliers in the following columns: "
   ]
  },
  {
   "cell_type": "code",
   "execution_count": 18,
   "metadata": {},
   "outputs": [
    {
     "name": "stdout",
     "output_type": "stream",
     "text": [
      "['id', 'region', 'latitude', 'longitude', 'accommodation_type', 'cost', 'minimum_nights', 'number_of_reviews', 'reviews_per_month', 'owner_id', 'owned_hotels', 'yearly_availability']\n",
      "The number of missing values in id is 0\n",
      "The number of missing values in region is 0\n",
      "The number of missing values in latitude is 0\n",
      "The number of missing values in longitude is 0\n",
      "The number of missing values in accommodation_type is 0\n",
      "The number of missing values in cost is 0\n",
      "The number of missing values in minimum_nights is 0\n",
      "The number of missing values in number_of_reviews is 0\n",
      "The number of missing values in reviews_per_month is 676\n",
      "The number of missing values in owner_id is 0\n",
      "The number of missing values in owned_hotels is 0\n",
      "The number of missing values in yearly_availability is 0\n"
     ]
    }
   ],
   "source": [
    "column_list = data.columns.to_list()\n",
    "print(column_list)\n",
    "for i in column_list:\n",
    "    print(\"The number of missing values in\", i, \"is\", data[i].isna().sum())"
   ]
  },
  {
   "cell_type": "code",
   "execution_count": 19,
   "metadata": {},
   "outputs": [
    {
     "name": "stdout",
     "output_type": "stream",
     "text": [
      "The number of missing values in reviews_per_month is 0\n"
     ]
    }
   ],
   "source": [
    "data = data.drop('id', axis = 1)\n",
    "data.loc[data.reviews_per_month.isna(), 'reviews_per_month'] = round(data.reviews_per_month.mean())\n",
    "print(\"The number of missing values in reviews_per_month is\", data.reviews_per_month.isna().sum())"
   ]
  },
  {
   "cell_type": "code",
   "execution_count": 20,
   "metadata": {},
   "outputs": [
    {
     "name": "stdout",
     "output_type": "stream",
     "text": [
      "['Entire home/apt' 'Private room' 'Shared room']\n"
     ]
    },
    {
     "data": {
      "image/png": "[encoded data removed]",
      "text/plain": [
       "<Figure size 432x288 with 1 Axes>"
      ]
     },
     "metadata": {
      "needs_background": "light"
     },
     "output_type": "display_data"
    }
   ],
   "source": [
    "data['accommodation_type'].value_counts().plot(kind='bar')\n",
    "sns.despine\n",
    "\n",
    "print(data.accommodation_type.unique())\n",
    "data.loc[data.accommodation_type == \"Entire home/apt\", \"accommodation_type\"] = 1\n",
    "data.loc[data.accommodation_type == \"Private room\", \"accommodation_type\"] = 2\n",
    "data.loc[data.accommodation_type == \"Shared room\", \"accommodation_type\"] = 0\n",
    "\n",
    "data = data.astype({'accommodation_type': float})"
   ]
  },
  {
   "cell_type": "code",
   "execution_count": 21,
   "metadata": {},
   "outputs": [
    {
     "name": "stdout",
     "output_type": "stream",
     "text": [
      "['Manhattan' 'Brooklyn' 'Queens' 'Bronx' 'Staten Island']\n"
     ]
    },
    {
     "data": {
      "image/png": "[encoded data removed]",
      "text/plain": [
       "<Figure size 432x288 with 1 Axes>"
      ]
     },
     "metadata": {
      "needs_background": "light"
     },
     "output_type": "display_data"
    }
   ],
   "source": [
    "print(data.region.unique())\n",
    "data['region'].value_counts().plot(kind='bar')\n",
    "sns.despine\n",
    "\n",
    "data.loc[data.region == \"Manhattan\", \"region\"] = 4\n",
    "data.loc[data.region == \"Brooklyn\", \"region\"] = 3\n",
    "data.loc[data.region == \"Queens\", \"region\"] = 2\n",
    "data.loc[data.region == \"Bronx\", \"region\"] = 1\n",
    "data.loc[data.region == \"Staten Island\", \"region\"] = 0\n",
    "\n",
    "data = data.astype({'region': float})"
   ]
  },
  {
   "cell_type": "code",
   "execution_count": 41,
   "metadata": {},
   "outputs": [
    {
     "data": {
      "image/png": "[encoded data removed]",
      "text/plain": [
       "<Figure size 1008x432 with 5 Axes>"
      ]
     },
     "metadata": {
      "needs_background": "light"
     },
     "output_type": "display_data"
    }
   ],
   "source": [
    "set1 = ['cost', 'minimum_nights', 'number_of_reviews', 'reviews_per_month', 'owned_hotels']\n",
    "plt.figure(figsize=(14, 6))\n",
    "for i, col in enumerate(set1):\n",
    "    plt.subplot(2, 3, i+1)\n",
    "    plt.scatter(data[col], data.yearly_availability)"
   ]
  },
  {
   "cell_type": "markdown",
   "metadata": {},
   "source": [
    "### Handling outliers\n",
    "\n",
    "We observe only one set of outlier where the number of owned hotels is more than 200 and the yearly availability is 0. However, the number of data points are too much to call them outliers."
   ]
  },
  {
   "cell_type": "code",
   "execution_count": 42,
   "metadata": {},
   "outputs": [
    {
     "data": {
      "text/html": [
       "<div>\n",
       "<style scoped>\n",
       "    .dataframe tbody tr th:only-of-type {\n",
       "        vertical-align: middle;\n",
       "    }\n",
       "\n",
       "    .dataframe tbody tr th {\n",
       "        vertical-align: top;\n",
       "    }\n",
       "\n",
       "    .dataframe thead th {\n",
       "        text-align: right;\n",
       "    }\n",
       "</style>\n",
       "<table border=\"1\" class=\"dataframe\">\n",
       "  <thead>\n",
       "    <tr style=\"text-align: right;\">\n",
       "      <th></th>\n",
       "      <th>region</th>\n",
       "      <th>latitude</th>\n",
       "      <th>longitude</th>\n",
       "      <th>accommodation_type</th>\n",
       "      <th>cost</th>\n",
       "      <th>minimum_nights</th>\n",
       "      <th>number_of_reviews</th>\n",
       "      <th>reviews_per_month</th>\n",
       "      <th>owner_id</th>\n",
       "      <th>owned_hotels</th>\n",
       "      <th>yearly_availability</th>\n",
       "    </tr>\n",
       "  </thead>\n",
       "  <tbody>\n",
       "    <tr>\n",
       "      <th>84</th>\n",
       "      <td>4.0</td>\n",
       "      <td>40.76008</td>\n",
       "      <td>-73.98721</td>\n",
       "      <td>2.0</td>\n",
       "      <td>227</td>\n",
       "      <td>29</td>\n",
       "      <td>0</td>\n",
       "      <td>1.00</td>\n",
       "      <td>219517861</td>\n",
       "      <td>327</td>\n",
       "      <td>1</td>\n",
       "    </tr>\n",
       "    <tr>\n",
       "      <th>246</th>\n",
       "      <td>4.0</td>\n",
       "      <td>40.71686</td>\n",
       "      <td>-74.00484</td>\n",
       "      <td>1.0</td>\n",
       "      <td>305</td>\n",
       "      <td>30</td>\n",
       "      <td>0</td>\n",
       "      <td>1.00</td>\n",
       "      <td>107434423</td>\n",
       "      <td>232</td>\n",
       "      <td>0</td>\n",
       "    </tr>\n",
       "    <tr>\n",
       "      <th>260</th>\n",
       "      <td>4.0</td>\n",
       "      <td>40.73021</td>\n",
       "      <td>-74.00379</td>\n",
       "      <td>1.0</td>\n",
       "      <td>305</td>\n",
       "      <td>30</td>\n",
       "      <td>0</td>\n",
       "      <td>1.00</td>\n",
       "      <td>107434423</td>\n",
       "      <td>232</td>\n",
       "      <td>0</td>\n",
       "    </tr>\n",
       "    <tr>\n",
       "      <th>442</th>\n",
       "      <td>4.0</td>\n",
       "      <td>40.70887</td>\n",
       "      <td>-74.01446</td>\n",
       "      <td>2.0</td>\n",
       "      <td>233</td>\n",
       "      <td>30</td>\n",
       "      <td>0</td>\n",
       "      <td>1.00</td>\n",
       "      <td>107434423</td>\n",
       "      <td>232</td>\n",
       "      <td>1</td>\n",
       "    </tr>\n",
       "    <tr>\n",
       "      <th>483</th>\n",
       "      <td>4.0</td>\n",
       "      <td>40.74285</td>\n",
       "      <td>-73.99595</td>\n",
       "      <td>2.0</td>\n",
       "      <td>277</td>\n",
       "      <td>29</td>\n",
       "      <td>0</td>\n",
       "      <td>1.00</td>\n",
       "      <td>219517861</td>\n",
       "      <td>327</td>\n",
       "      <td>1</td>\n",
       "    </tr>\n",
       "    <tr>\n",
       "      <th>504</th>\n",
       "      <td>4.0</td>\n",
       "      <td>40.71659</td>\n",
       "      <td>-74.00653</td>\n",
       "      <td>1.0</td>\n",
       "      <td>388</td>\n",
       "      <td>30</td>\n",
       "      <td>0</td>\n",
       "      <td>1.00</td>\n",
       "      <td>107434423</td>\n",
       "      <td>232</td>\n",
       "      <td>0</td>\n",
       "    </tr>\n",
       "    <tr>\n",
       "      <th>1154</th>\n",
       "      <td>4.0</td>\n",
       "      <td>40.75194</td>\n",
       "      <td>-73.99501</td>\n",
       "      <td>1.0</td>\n",
       "      <td>243</td>\n",
       "      <td>30</td>\n",
       "      <td>0</td>\n",
       "      <td>1.00</td>\n",
       "      <td>107434423</td>\n",
       "      <td>232</td>\n",
       "      <td>0</td>\n",
       "    </tr>\n",
       "    <tr>\n",
       "      <th>1455</th>\n",
       "      <td>4.0</td>\n",
       "      <td>40.73897</td>\n",
       "      <td>-73.99637</td>\n",
       "      <td>1.0</td>\n",
       "      <td>280</td>\n",
       "      <td>30</td>\n",
       "      <td>0</td>\n",
       "      <td>1.00</td>\n",
       "      <td>107434423</td>\n",
       "      <td>232</td>\n",
       "      <td>0</td>\n",
       "    </tr>\n",
       "    <tr>\n",
       "      <th>1611</th>\n",
       "      <td>4.0</td>\n",
       "      <td>40.74883</td>\n",
       "      <td>-73.97520</td>\n",
       "      <td>2.0</td>\n",
       "      <td>200</td>\n",
       "      <td>29</td>\n",
       "      <td>0</td>\n",
       "      <td>1.00</td>\n",
       "      <td>219517861</td>\n",
       "      <td>327</td>\n",
       "      <td>1</td>\n",
       "    </tr>\n",
       "    <tr>\n",
       "      <th>1990</th>\n",
       "      <td>4.0</td>\n",
       "      <td>40.75146</td>\n",
       "      <td>-73.99000</td>\n",
       "      <td>2.0</td>\n",
       "      <td>215</td>\n",
       "      <td>30</td>\n",
       "      <td>0</td>\n",
       "      <td>1.00</td>\n",
       "      <td>107434423</td>\n",
       "      <td>232</td>\n",
       "      <td>0</td>\n",
       "    </tr>\n",
       "    <tr>\n",
       "      <th>2061</th>\n",
       "      <td>4.0</td>\n",
       "      <td>40.74229</td>\n",
       "      <td>-73.99590</td>\n",
       "      <td>2.0</td>\n",
       "      <td>209</td>\n",
       "      <td>29</td>\n",
       "      <td>0</td>\n",
       "      <td>1.00</td>\n",
       "      <td>219517861</td>\n",
       "      <td>327</td>\n",
       "      <td>1</td>\n",
       "    </tr>\n",
       "    <tr>\n",
       "      <th>2158</th>\n",
       "      <td>4.0</td>\n",
       "      <td>40.71488</td>\n",
       "      <td>-74.00687</td>\n",
       "      <td>1.0</td>\n",
       "      <td>332</td>\n",
       "      <td>30</td>\n",
       "      <td>1</td>\n",
       "      <td>0.19</td>\n",
       "      <td>107434423</td>\n",
       "      <td>232</td>\n",
       "      <td>0</td>\n",
       "    </tr>\n",
       "    <tr>\n",
       "      <th>2169</th>\n",
       "      <td>4.0</td>\n",
       "      <td>40.74305</td>\n",
       "      <td>-73.99415</td>\n",
       "      <td>1.0</td>\n",
       "      <td>254</td>\n",
       "      <td>29</td>\n",
       "      <td>0</td>\n",
       "      <td>1.00</td>\n",
       "      <td>219517861</td>\n",
       "      <td>327</td>\n",
       "      <td>1</td>\n",
       "    </tr>\n",
       "    <tr>\n",
       "      <th>2450</th>\n",
       "      <td>4.0</td>\n",
       "      <td>40.77804</td>\n",
       "      <td>-73.98409</td>\n",
       "      <td>1.0</td>\n",
       "      <td>283</td>\n",
       "      <td>30</td>\n",
       "      <td>0</td>\n",
       "      <td>1.00</td>\n",
       "      <td>107434423</td>\n",
       "      <td>232</td>\n",
       "      <td>0</td>\n",
       "    </tr>\n",
       "    <tr>\n",
       "      <th>2613</th>\n",
       "      <td>4.0</td>\n",
       "      <td>40.76118</td>\n",
       "      <td>-73.98635</td>\n",
       "      <td>2.0</td>\n",
       "      <td>699</td>\n",
       "      <td>29</td>\n",
       "      <td>0</td>\n",
       "      <td>1.00</td>\n",
       "      <td>219517861</td>\n",
       "      <td>327</td>\n",
       "      <td>1</td>\n",
       "    </tr>\n",
       "    <tr>\n",
       "      <th>2860</th>\n",
       "      <td>4.0</td>\n",
       "      <td>40.74250</td>\n",
       "      <td>-73.99443</td>\n",
       "      <td>2.0</td>\n",
       "      <td>260</td>\n",
       "      <td>29</td>\n",
       "      <td>0</td>\n",
       "      <td>1.00</td>\n",
       "      <td>219517861</td>\n",
       "      <td>327</td>\n",
       "      <td>1</td>\n",
       "    </tr>\n",
       "  </tbody>\n",
       "</table>\n",
       "</div>"
      ],
      "text/plain": [
       "      region  latitude  longitude  accommodation_type  cost  minimum_nights  \\\n",
       "84       4.0  40.76008  -73.98721                 2.0   227              29   \n",
       "246      4.0  40.71686  -74.00484                 1.0   305              30   \n",
       "260      4.0  40.73021  -74.00379                 1.0   305              30   \n",
       "442      4.0  40.70887  -74.01446                 2.0   233              30   \n",
       "483      4.0  40.74285  -73.99595                 2.0   277              29   \n",
       "504      4.0  40.71659  -74.00653                 1.0   388              30   \n",
       "1154     4.0  40.75194  -73.99501                 1.0   243              30   \n",
       "1455     4.0  40.73897  -73.99637                 1.0   280              30   \n",
       "1611     4.0  40.74883  -73.97520                 2.0   200              29   \n",
       "1990     4.0  40.75146  -73.99000                 2.0   215              30   \n",
       "2061     4.0  40.74229  -73.99590                 2.0   209              29   \n",
       "2158     4.0  40.71488  -74.00687                 1.0   332              30   \n",
       "2169     4.0  40.74305  -73.99415                 1.0   254              29   \n",
       "2450     4.0  40.77804  -73.98409                 1.0   283              30   \n",
       "2613     4.0  40.76118  -73.98635                 2.0   699              29   \n",
       "2860     4.0  40.74250  -73.99443                 2.0   260              29   \n",
       "\n",
       "      number_of_reviews  reviews_per_month   owner_id  owned_hotels  \\\n",
       "84                    0               1.00  219517861           327   \n",
       "246                   0               1.00  107434423           232   \n",
       "260                   0               1.00  107434423           232   \n",
       "442                   0               1.00  107434423           232   \n",
       "483                   0               1.00  219517861           327   \n",
       "504                   0               1.00  107434423           232   \n",
       "1154                  0               1.00  107434423           232   \n",
       "1455                  0               1.00  107434423           232   \n",
       "1611                  0               1.00  219517861           327   \n",
       "1990                  0               1.00  107434423           232   \n",
       "2061                  0               1.00  219517861           327   \n",
       "2158                  1               0.19  107434423           232   \n",
       "2169                  0               1.00  219517861           327   \n",
       "2450                  0               1.00  107434423           232   \n",
       "2613                  0               1.00  219517861           327   \n",
       "2860                  0               1.00  219517861           327   \n",
       "\n",
       "      yearly_availability  \n",
       "84                      1  \n",
       "246                     0  \n",
       "260                     0  \n",
       "442                     1  \n",
       "483                     1  \n",
       "504                     0  \n",
       "1154                    0  \n",
       "1455                    0  \n",
       "1611                    1  \n",
       "1990                    0  \n",
       "2061                    1  \n",
       "2158                    0  \n",
       "2169                    1  \n",
       "2450                    0  \n",
       "2613                    1  \n",
       "2860                    1  "
      ]
     },
     "execution_count": 42,
     "metadata": {},
     "output_type": "execute_result"
    }
   ],
   "source": [
    "filtered_data = data[data['owned_hotels'] > 200]\n",
    "filtered_data"
   ]
  },
  {
   "cell_type": "markdown",
   "metadata": {},
   "source": [
    "#### Pearson coefficient\n",
    "\n",
    "Next we check the pearson coefficient to understand the correlation between the numerical variables and the target variable: yearly_availability\n",
    "\n",
    "We observe there are a few variables that have very low correlation with the target variable.\n",
    "https://towardsdatascience.com/feature-selection-with-pandas-e3690ad8504b"
   ]
  },
  {
   "cell_type": "code",
   "execution_count": 122,
   "metadata": {},
   "outputs": [
    {
     "data": {
      "image/png": "[encoded data removed]",
      "text/plain": [
       "<Figure size 864x720 with 2 Axes>"
      ]
     },
     "metadata": {
      "needs_background": "light"
     },
     "output_type": "display_data"
    }
   ],
   "source": [
    "plt.figure(figsize=(12,10))\n",
    "cor = data.corr()\n",
    "sns.heatmap(cor, annot=True, cmap=plt.cm.Reds)\n",
    "plt.show()"
   ]
  },
  {
   "cell_type": "markdown",
   "metadata": {},
   "source": [
    "#### First approach: Logistic Regression\n",
    "First we try to make a logical regression model. After fitting the model on the training data and testing the accuracy on the testing data (sliced 33% of the dataframe), the accuracy is only ~50%\n",
    "\n",
    "#### Corrected Approach: Decision Tree\n",
    "We change our strategy. We choose decision tree to make the model. We obtain accuracy ~88%"
   ]
  },
  {
   "cell_type": "code",
   "execution_count": 123,
   "metadata": {},
   "outputs": [
    {
     "data": {
      "text/plain": [
       "LogisticRegression(C=1.0, class_weight=None, dual=False, fit_intercept=True,\n",
       "                   intercept_scaling=1, l1_ratio=None, max_iter=100,\n",
       "                   multi_class='warn', n_jobs=None, penalty='l2',\n",
       "                   random_state=0, solver='liblinear', tol=0.0001, verbose=0,\n",
       "                   warm_start=False)"
      ]
     },
     "execution_count": 123,
     "metadata": {},
     "output_type": "execute_result"
    }
   ],
   "source": [
    "from sklearn.model_selection import train_test_split\n",
    "y = pd.DataFrame(data['yearly_availability'])\n",
    "data = data.drop('yearly_availability', axis = 1)\n",
    "y = np.ravel(y)\n",
    "X_train, X_test, y_train, y_test = train_test_split(data, y, test_size=0.33, random_state=1)\n",
    "from sklearn.linear_model import LogisticRegression\n",
    "semiLRmodel = LogisticRegression(solver='liblinear', random_state=0)\n",
    "semiLRmodel.fit(X_train, y_train)"
   ]
  },
  {
   "cell_type": "code",
   "execution_count": 124,
   "metadata": {},
   "outputs": [
    {
     "name": "stdout",
     "output_type": "stream",
     "text": [
      "0.5073839662447257\n"
     ]
    },
    {
     "data": {
      "text/plain": [
       "array([[  0, 467],\n",
       "       [  0, 481]])"
      ]
     },
     "execution_count": 124,
     "metadata": {},
     "output_type": "execute_result"
    }
   ],
   "source": [
    "from sklearn.metrics import classification_report, confusion_matrix\n",
    "print(semiLRmodel.score(X_test, y_test))\n",
    "confusion_matrix(y_test, semiLRmodel.predict(X_test))"
   ]
  },
  {
   "cell_type": "markdown",
   "metadata": {},
   "source": [
    "## Decision Tree\n",
    "\n",
    "Root node, splitting node, parent node, leaf node\n",
    "\n",
    "What is pruning a tree?\n",
    "We split a node further based on a feature.\n",
    "\n",
    "Why is pruning a tree important?\n",
    "1. to avoid overfitting\n",
    "2. to improve predictive accuracy\n",
    "3. to reduce complexity\n",
    "\n",
    "decision boundary: boundaries on the decision plane\n",
    "\n",
    "We split a decision tree based on a feature in a way that maximizes the **information gain**. We measure the information gain as difference between the impurity of parent node and sum of the impurities of the children nodes. For a decision tree node $D_p$ that has $N_p$ data points, splitted by feature $f$, where each children node $D_j$ has $N_j$ data points, and there are $N$ labels in total:\n",
    "$$IG(D_p, f) = I(D_p) - \\sum_{j = 1}^{N} \\frac{N_i}{N_p} I(D_j)$$\n",
    "Our objective is to lower the impurity of the children nodes. There are largely three ways to select the impurity measure as information gain.\n",
    "1. **Gini impurity (IG):** \n",
    "IG is defined as a measure that denotes how often do we label a randomly chosen element incorrectly if it is labelled randomly according to the distribution of the labels in the subset. Mathematically, $IG = 1 - \\sum_{i=1}{j} p_i^2$, where \\# of classes present = $j$ and $p$ is the distribution of classes in the node.\n",
    "<img src=\"decision_tree.jpeg\" alt=\"drawing\" width=\"300\"/>\n",
    "$$IG_{l} = 1 - (\\frac{N_{l_1}}{N_{l_1} + N_{l_2}})^2 - (\\frac{N_{l_2}}{N_{l_1} + N_{l_2}})^2 \\text{ and } IG_{r} = 1 - (\\frac{N_{r_1}}{N_{r_1} + N_{r_2}})^2 - (\\frac{N_{r_2}}{N_{r_1} + N_{r_2}})^2 \\text{ and } IG = (\\frac{N_1}{N_1 + N_2}) IG_{l} + (\\frac{N_2}{N_1 + N_2}) IG_{r}$$\n",
    "2. **Entropy (IH):** \n",
    "$$IH = - \\sum_{i = 1}^{j} p_i log_2{p_i} \\text{, where } j = \\text{ # classes present and } p = \\text{ distribition of classes on the node}$$\n",
    "$$IH_{target} = - (\\frac{N_1}{N_1 + N_2}) \\log_2 (\\frac{N_1}{N_1 + N_2}) - (\\frac{N_2}{N_1 + N_2}) \\log_2 (\\frac{N_2}{N_1 + N_2})$$\n",
    "$$IH_{l} = - (\\frac{N_{l_1}}{N_{l_1} + N_{l_2}}) \\log_2 (\\frac{N_{l_1}}{N_{l_1} + N_{l_2}}) - (\\frac{N_{l_2}}{N_{l_1} + N_{l_2}}) \\log_2 (\\frac{N_{l_2}}{N_{l_1} + N_{l_2}}) \\text{ and } IH = IH_{target} - IH_{l} - IH_{r}$$\n",
    "3. **Misclassification Error (IE):**\n",
    "$$IE = 1 - \\max(p(i \\text{ \\ } j))$$\n",
    "\n",
    "\n",
    "#### How to deal with continuous data: CART (Classification and Regression Tree)\n",
    "1. Get average of each gap in the data.\n",
    "2. Caculate IG for each such value.\n",
    "3. Choose the one for which IG is the lowest (maximum information gain).\n",
    "\n",
    "#### "
   ]
  },
  {
   "cell_type": "markdown",
   "metadata": {},
   "source": [
    "### Confusion matrix, Precision, Recall, F Score\n",
    "\n",
    "For a classification task, where 1 = positively classified and 0 = negatively classified\n",
    "1. TP: true label = 1, predicted label = 1\n",
    "2. FP: true label = 0, predicted label = 1\n",
    "3. TN: true label = 0, predicted label = 0\n",
    "4. FN: true label = 1, predicted label = 0\n",
    "\n",
    "Confusion Matrix: \n",
    "\n",
    "\\[TP FN\\]\n",
    "\\[FP TN\\]\n",
    "\n",
    "Precision, therefore, calculates the accuracy for the minority class. \n",
    "$Precision = \\frac{TP}{TP + FP}$\n",
    "\n",
    "Unlike precision that only comments on the correct positive predictions out of all positive predictions, recall provides an indication of missed positive predictions.\n",
    "$Recall = \\frac{TP}{TP + FN}$\n",
    "\n",
    "Alone, neither precision or recall tells the whole story. We can have excellent precision with terrible recall, or alternately, terrible precision with excellent recall. F-measure provides a way to express both concerns with a single score. This is the harmonic mean of the two fractions.\n",
    "\n",
    "$Fscore = (2 * Precision * Recall) / (Precision + Recall)$\n",
    "\n",
    "https://machinelearningmastery.com/precision-recall-and-f-measure-for-imbalanced-classification/"
   ]
  },
  {
   "cell_type": "code",
   "execution_count": 125,
   "metadata": {},
   "outputs": [
    {
     "name": "stdout",
     "output_type": "stream",
     "text": [
      "0.8776371308016878\n"
     ]
    },
    {
     "data": {
      "text/plain": [
       "array([[414,  53],\n",
       "       [ 63, 418]])"
      ]
     },
     "execution_count": 125,
     "metadata": {},
     "output_type": "execute_result"
    }
   ],
   "source": [
    "from sklearn import tree\n",
    "semiDTmodel = tree.DecisionTreeClassifier()\n",
    "semiDTmodel = semiDTmodel.fit(X_train, y_train)\n",
    "print(semiDTmodel.score(X_test, y_test))\n",
    "confusion_matrix(y_test, semiDTmodel.predict(X_test))"
   ]
  },
  {
   "cell_type": "code",
   "execution_count": 126,
   "metadata": {
    "colab": {},
    "colab_type": "code",
    "id": "px5KNTQ7IKSK"
   },
   "outputs": [
    {
     "data": {
      "text/plain": [
       "['region',\n",
       " 'latitude',\n",
       " 'longitude',\n",
       " 'accommodation_type',\n",
       " 'cost',\n",
       " 'minimum_nights',\n",
       " 'number_of_reviews',\n",
       " 'reviews_per_month',\n",
       " 'owner_id',\n",
       " 'owned_hotels']"
      ]
     },
     "execution_count": 126,
     "metadata": {},
     "output_type": "execute_result"
    }
   ],
   "source": [
    "data.columns.to_list()"
   ]
  },
  {
   "cell_type": "code",
   "execution_count": null,
   "metadata": {
    "colab": {},
    "colab_type": "code",
    "id": "W9B6xKGpIKSQ"
   },
   "outputs": [],
   "source": []
  },
  {
   "cell_type": "markdown",
   "metadata": {
    "colab_type": "text",
    "id": "ymsdDaIPIKSX"
   },
   "source": [
    "## Visualization, Modeling, Machine Learning\n",
    "\n",
    "Build a model that categorizes hotels on the basis of their yearly availability.  Identify how different features influence the decision. Please explain the findings effectively to technical and non-technical audiences using comments and visualizations, if appropriate.\n",
    "- **Build an optimized model that effectively solves the business problem.**\n",
    "- **The model will be evaluated on the basis of Accuracy.**\n",
    "- **Read the test.csv file and prepare features for testing.**"
   ]
  },
  {
   "cell_type": "code",
   "execution_count": 127,
   "metadata": {
    "colab": {},
    "colab_type": "code",
    "id": "Hsxh3SMgIKSY",
    "outputId": "d98d0f00-f33f-407b-df59-a9915bb03fa1"
   },
   "outputs": [],
   "source": [
    "#Loading Test data\n",
    "test_data=pd.read_csv('test.csv')\n",
    "test_data.head()\n",
    "\n",
    "submission_df = pd.DataFrame(columns = ['id', 'yearly_availability'])\n",
    "submission_df['id'] = test_data['id']\n",
    "test_data = test_data.drop('id', axis = 1)"
   ]
  },
  {
   "cell_type": "code",
   "execution_count": 128,
   "metadata": {},
   "outputs": [
    {
     "name": "stdout",
     "output_type": "stream",
     "text": [
      "['Brooklyn' 'Manhattan' 'Queens' 'Bronx' 'Staten Island']\n",
      "['Shared room' 'Entire home/apt' 'Private room']\n"
     ]
    }
   ],
   "source": [
    "print(test_data.region.unique())\n",
    "print(test_data.accommodation_type.unique())"
   ]
  },
  {
   "cell_type": "code",
   "execution_count": 129,
   "metadata": {
    "colab": {},
    "colab_type": "code",
    "id": "73vBzp7lIKSf"
   },
   "outputs": [],
   "source": [
    "test_data.loc[test_data.region == \"Manhattan\", \"region\"] = 4\n",
    "test_data.loc[test_data.region == \"Brooklyn\", \"region\"] = 3\n",
    "test_data.loc[test_data.region == \"Queens\", \"region\"] = 2\n",
    "test_data.loc[test_data.region == \"Bronx\", \"region\"] = 1\n",
    "test_data.loc[test_data.region == \"Staten Island\", \"region\"] = 0\n",
    "\n",
    "test_data = test_data.astype({'region': float})\n",
    "\n",
    "test_data.loc[test_data.accommodation_type == \"Entire home/apt\", \"accommodation_type\"] = 1\n",
    "test_data.loc[test_data.accommodation_type == \"Private room\", \"accommodation_type\"] = 2\n",
    "test_data.loc[test_data.accommodation_type == \"Shared room\", \"accommodation_type\"] = 0\n",
    "\n",
    "test_data = test_data.astype({'accommodation_type': float})"
   ]
  },
  {
   "cell_type": "code",
   "execution_count": 130,
   "metadata": {
    "colab": {},
    "colab_type": "code",
    "id": "1XiIoLYLIKSj"
   },
   "outputs": [
    {
     "name": "stdout",
     "output_type": "stream",
     "text": [
      "['region', 'latitude', 'longitude', 'accommodation_type', 'cost', 'minimum_nights', 'number_of_reviews', 'reviews_per_month', 'owner_id', 'owned_hotels']\n",
      "0\n",
      "0\n",
      "0\n",
      "0\n",
      "0\n",
      "0\n",
      "173\n",
      "0\n",
      "0\n",
      "0\n"
     ]
    }
   ],
   "source": [
    "\n",
    "print(test_data.columns.to_list())\n",
    "\n",
    "print(test_data.latitude.isna().sum())\n",
    "print(test_data.longitude.isna().sum())\n",
    "print(test_data.accommodation_type.isna().sum())\n",
    "print(test_data.cost.isna().sum())\n",
    "print(test_data.minimum_nights.isna().sum())\n",
    "print(test_data.number_of_reviews.isna().sum())\n",
    "print(test_data.reviews_per_month.isna().sum())\n",
    "print(test_data.owner_id.isna().sum())\n",
    "print(test_data.owned_hotels.isna().sum())\n",
    "\n",
    "test_data.loc[test_data.reviews_per_month.isna(), 'reviews_per_month'] = round(test_data.reviews_per_month.mean())\n",
    "\n",
    "print(test_data.reviews_per_month.isna().sum())"
   ]
  },
  {
   "cell_type": "code",
   "execution_count": null,
   "metadata": {
    "colab": {},
    "colab_type": "code",
    "id": "7tBCHjd3IKSp"
   },
   "outputs": [],
   "source": []
  },
  {
   "cell_type": "code",
   "execution_count": null,
   "metadata": {
    "colab": {},
    "colab_type": "code",
    "id": "1Vk1EEy9IKSv"
   },
   "outputs": [],
   "source": []
  },
  {
   "cell_type": "code",
   "execution_count": null,
   "metadata": {
    "colab": {},
    "colab_type": "code",
    "id": "nkQU41WSIKSz"
   },
   "outputs": [],
   "source": []
  },
  {
   "cell_type": "markdown",
   "metadata": {
    "colab_type": "text",
    "id": "MK_rdXETIKS4"
   },
   "source": [
    "\n",
    "\n",
    "**Highlight the most important features of the model for management.**\n",
    "\n",
    "> #### Task:\n",
    "- **Visualize the top 20 features and their feature importance.**\n"
   ]
  },
  {
   "cell_type": "code",
   "execution_count": 131,
   "metadata": {
    "colab": {},
    "colab_type": "code",
    "id": "HHFM3XPMIKS6"
   },
   "outputs": [
    {
     "data": {
      "text/plain": [
       "['region',\n",
       " 'latitude',\n",
       " 'longitude',\n",
       " 'accommodation_type',\n",
       " 'cost',\n",
       " 'minimum_nights',\n",
       " 'number_of_reviews',\n",
       " 'reviews_per_month',\n",
       " 'owner_id',\n",
       " 'owned_hotels']"
      ]
     },
     "execution_count": 131,
     "metadata": {},
     "output_type": "execute_result"
    }
   ],
   "source": [
    "data.columns.to_list()"
   ]
  },
  {
   "cell_type": "markdown",
   "metadata": {},
   "source": [
    "#### Using the mutual information gain\n",
    "\n",
    "The mutual information gain cannot increase the prediction accuracy. That means the prediction accuracy is fairly stable with the input variables.\n",
    "\n",
    "From the absolute values of the pearson correlation coefficients, we can understand the feature importance. If we sort them in an ascending order, it looks like as follows:\n",
    "'latitude' < 'region' < 'longitude' < 'owner_id' < 'cost' < 'minimum_nights' < 'number_of_reviews' < 'owned_hotels' < 'reviews_per_month' < 'accommodation_type'"
   ]
  },
  {
   "cell_type": "code",
   "execution_count": 132,
   "metadata": {
    "colab": {},
    "colab_type": "code",
    "id": "jabG4TJwIKS_"
   },
   "outputs": [
    {
     "name": "stdout",
     "output_type": "stream",
     "text": [
      "0.8776371308016878\n"
     ]
    },
    {
     "data": {
      "text/plain": [
       "array([[408,  59],\n",
       "       [ 60, 421]])"
      ]
     },
     "execution_count": 132,
     "metadata": {},
     "output_type": "execute_result"
    }
   ],
   "source": [
    "from sklearn.feature_selection import mutual_info_regression\n",
    "from sklearn.feature_selection import SelectKBest\n",
    "def select_ig_based_features(X_train, y_train, X_test):\n",
    "    # configure to select a subset of features\n",
    "    fs = SelectKBest(score_func=mutual_info_regression, k=10)\n",
    "    # learn relationship from training data\n",
    "    fs.fit(X_train, y_train)\n",
    "    # transform train input data\n",
    "    X_train_fs = fs.transform(X_train)\n",
    "    # transform test input data\n",
    "    X_test_fs = fs.transform(X_test)\n",
    "    return X_train_fs, X_test_fs, fs\n",
    "\n",
    "\n",
    "X_train_fs, X_test_fs, fs = select_ig_based_features(X_train, y_train, X_test)\n",
    "semiDTmodel2 = tree.DecisionTreeClassifier()\n",
    "semiDTmodel2 = semiDTmodel2.fit(X_train_fs, y_train)\n",
    "print(semiDTmodel.score(X_test_fs, y_test))\n",
    "confusion_matrix(y_test, semiDTmodel2.predict(X_test))"
   ]
  },
  {
   "cell_type": "code",
   "execution_count": 133,
   "metadata": {},
   "outputs": [
    {
     "name": "stdout",
     "output_type": "stream",
     "text": [
      "region -0.09367376413132177\n",
      "latitude -0.02511910040395189\n",
      "longitude 0.11988189398717922\n",
      "accommodation_type 0.4808515844145509\n",
      "cost 0.14757638366762357\n",
      "minimum_nights 0.17355023840575715\n",
      "number_of_reviews -0.1916452729428953\n",
      "reviews_per_month -0.23234457948325832\n",
      "owner_id 0.12123357520094889\n",
      "owned_hotels 0.19190647360874957\n",
      "[-0.09367376413132177, -0.02511910040395189, 0.11988189398717922, 0.4808515844145509, 0.14757638366762357, 0.17355023840575715, -0.1916452729428953, -0.23234457948325832, 0.12123357520094889, 0.19190647360874957] ['latitude', 'region', 'longitude', 'owner_id', 'cost', 'minimum_nights', 'number_of_reviews', 'owned_hotels', 'reviews_per_month', 'accommodation_type'] [True, True, True, True, True, True, True, True, True, True]\n"
     ]
    }
   ],
   "source": [
    "cor_list = []\n",
    "feature_name = data.columns.tolist()\n",
    "for i in feature_name:\n",
    "    cor = np.corrcoef(data[i], y)\n",
    "    print(i, cor[0,1])\n",
    "    cor_list.append(cor[0,1])\n",
    "cor_list = [0 if np.isnan(i) else i for i in cor_list]\n",
    "cor_feature = data.iloc[:,np.argsort(np.abs(cor_list))[-10:]].columns.tolist()\n",
    "cor_support = [True if i in cor_feature else False for i in feature_name]\n",
    "print(cor_list, cor_feature, cor_support)"
   ]
  },
  {
   "cell_type": "markdown",
   "metadata": {
    "colab_type": "text",
    "id": "UFogmgYZIKTE"
   },
   "source": [
    "> #### Task:\n",
    "- **Submit the predictions on the test dataset using your optimized model** <br/>\n",
    "    For each record in the test set (`test.csv`), predict the value of the `yearly_availability` variable. Submit a CSV file with a header row and one row per test entry.\n",
    "\n",
    "The file (`submissions.csv`) should have exactly 2 columns:\n",
    "   - **id**\n",
    "   - **yearly_availability**"
   ]
  },
  {
   "cell_type": "code",
   "execution_count": 134,
   "metadata": {
    "colab": {},
    "colab_type": "code",
    "id": "7xgNg25MIKTG"
   },
   "outputs": [],
   "source": [
    "LRmodel = LogisticRegression(solver='liblinear', random_state=0)\n",
    "LRmodel.fit(data, y)\n",
    "y_predict = LRmodel.predict(test_data)\n",
    "submission_df['yearly_availability'] = y_predict"
   ]
  },
  {
   "cell_type": "code",
   "execution_count": 135,
   "metadata": {},
   "outputs": [
    {
     "data": {
      "text/plain": [
       "<function seaborn.utils.despine(fig=None, ax=None, top=True, right=True, left=False, bottom=False, offset=None, trim=False)>"
      ]
     },
     "execution_count": 135,
     "metadata": {},
     "output_type": "execute_result"
    },
    {
     "data": {
      "image/png": "[encoded data removed]",
      "text/plain": [
       "<Figure size 432x288 with 1 Axes>"
      ]
     },
     "metadata": {
      "needs_background": "light"
     },
     "output_type": "display_data"
    }
   ],
   "source": [
    "submission_df['yearly_availability'].value_counts().plot(kind='bar')\n",
    "sns.despine"
   ]
  },
  {
   "cell_type": "code",
   "execution_count": 136,
   "metadata": {},
   "outputs": [],
   "source": [
    "DTmodel = tree.DecisionTreeClassifier()\n",
    "DTmodel = DTmodel.fit(data, y)\n",
    "y_predict = DTmodel.predict(test_data)\n",
    "submission_df['yearly_availability'] = y_predict"
   ]
  },
  {
   "cell_type": "code",
   "execution_count": 137,
   "metadata": {},
   "outputs": [
    {
     "data": {
      "text/plain": [
       "<function seaborn.utils.despine(fig=None, ax=None, top=True, right=True, left=False, bottom=False, offset=None, trim=False)>"
      ]
     },
     "execution_count": 137,
     "metadata": {},
     "output_type": "execute_result"
    },
    {
     "data": {
      "image/png": "[encoded data removed]",
      "text/plain": [
       "<Figure size 432x288 with 1 Axes>"
      ]
     },
     "metadata": {
      "needs_background": "light"
     },
     "output_type": "display_data"
    }
   ],
   "source": [
    "submission_df['yearly_availability'].value_counts().plot(kind='bar')\n",
    "sns.despine"
   ]
  },
  {
   "cell_type": "code",
   "execution_count": 138,
   "metadata": {
    "colab": {},
    "colab_type": "code",
    "id": "nBRVPrYbIKTQ"
   },
   "outputs": [],
   "source": [
    "#Submission\n",
    "submission_df.to_csv('submissions.csv',index=False)"
   ]
  },
  {
   "cell_type": "markdown",
   "metadata": {
    "colab_type": "text",
    "id": "H_pB8zTcIKTW"
   },
   "source": [
    "---"
   ]
  }
 ],
 "metadata": {
  "colab": {
   "collapsed_sections": [],
   "name": "Questions.ipynb",
   "provenance": [],
   "version": "0.3.2"
  },
  "kernelspec": {
   "display_name": "Python 3 (ipykernel)",
   "language": "python",
   "name": "python3"
  },
  "language_info": {
   "codemirror_mode": {
    "name": "ipython",
    "version": 3
   },
   "file_extension": ".py",
   "mimetype": "text/x-python",
   "name": "python",
   "nbconvert_exporter": "python",
   "pygments_lexer": "ipython3",
   "version": "3.9.6"
  },
  "toc": {
   "base_numbering": 1,
   "nav_menu": {},
   "number_sections": true,
   "sideBar": true,
   "skip_h1_title": false,
   "title_cell": "Table of Contents",
   "title_sidebar": "Contents",
   "toc_cell": false,
   "toc_position": {},
   "toc_section_display": true,
   "toc_window_display": false
  }
 },
 "nbformat": 4,
 "nbformat_minor": 4
}
