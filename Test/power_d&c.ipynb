{
 "cells": [
  {
   "cell_type": "markdown",
   "metadata": {},
   "source": [
    "complexity = O(n), space complexity = O(1)"
   ]
  },
  {
   "cell_type": "code",
   "execution_count": 1,
   "metadata": {},
   "outputs": [
    {
     "name": "stdout",
     "output_type": "stream",
     "text": [
      "125\n"
     ]
    }
   ],
   "source": [
    "def power(x,y):\n",
    "    if (y == 0): return 1\n",
    "    elif (y % 2 == 1): return x * power(x, (y-1) / 2) * power(x, (y-1) / 2)\n",
    "    elif (y % 2 == 0): return power(x, y / 2) * power(x, y / 2)\n",
    "    else: print(\"some error in input\")\n",
    "x = 5; y = 3\n",
    "ans = power(x, y); print(ans)"
   ]
  },
  {
   "cell_type": "markdown",
   "metadata": {},
   "source": [
    "complexity = log(n), space complexity = O(1)"
   ]
  },
  {
   "cell_type": "code",
   "execution_count": 10,
   "metadata": {},
   "outputs": [
    {
     "name": "stdout",
     "output_type": "stream",
     "text": [
      "216\n"
     ]
    }
   ],
   "source": [
    "def power_optimized(x, y):\n",
    "    if (y == 0): return 1\n",
    "    y_temp = int(y / 2); temp = power(x , y_temp)\n",
    "    if (y % 2 == 0): return temp * temp\n",
    "    elif (y % 2 == 1): return x * temp * temp\n",
    "    else: print(\"some error in input\")\n",
    "x = 6; y = 3\n",
    "ans = power_optimized(x, y); print(ans)        "
   ]
  },
  {
   "cell_type": "code",
   "execution_count": null,
   "metadata": {},
   "outputs": [],
   "source": []
  }
 ],
 "metadata": {
  "kernelspec": {
   "display_name": "Python 3",
   "language": "python",
   "name": "python3"
  },
  "language_info": {
   "codemirror_mode": {
    "name": "ipython",
    "version": 3
   },
   "file_extension": ".py",
   "mimetype": "text/x-python",
   "name": "python",
   "nbconvert_exporter": "python",
   "pygments_lexer": "ipython3",
   "version": "3.7.0"
  }
 },
 "nbformat": 4,
 "nbformat_minor": 2
}
