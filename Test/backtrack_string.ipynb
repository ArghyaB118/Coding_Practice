{
 "cells": [
  {
   "cell_type": "markdown",
   "metadata": {},
   "source": [
    "backtracking to find all possible arrangements with a string given"
   ]
  },
  {
   "cell_type": "code",
   "execution_count": 9,
   "metadata": {},
   "outputs": [
    {
     "name": "stdout",
     "output_type": "stream",
     "text": [
      "['a', 'b', 'c']\n",
      "['aa', 'ab', 'ac', 'ba', 'bb', 'bc', 'ca', 'cb', 'cc']\n",
      "['aaa', 'aab', 'aac', 'aba', 'abb', 'abc', 'aca', 'acb', 'acc', 'baa', 'bab', 'bac', 'bba', 'bbb', 'bbc', 'bca', 'bcb', 'bcc', 'caa', 'cab', 'cac', 'cba', 'cbb', 'cbc', 'cca', 'ccb', 'ccc']\n"
     ]
    }
   ],
   "source": [
    "def permute(length, s):\n",
    "    if length == 1:\n",
    "        return s\n",
    "    else:\n",
    "        return [ y + x\n",
    "                 for y in permute(1, s)\n",
    "                 for x in permute(length - 1, s)\n",
    "                 ]\n",
    "    \n",
    "string = \"abc\"\n",
    "input_str = list(string)\n",
    "len_str = len(string)\n",
    "print(permute(1, [\"a\",\"b\",\"c\"]))\n",
    "print(permute(2, [\"a\",\"b\",\"c\"])) # for 2 positions, every position having 3 options, we have 3*3 options in total\n",
    "print(permute(len_str, input_str)) #we got 3*3*3 options in total"
   ]
  },
  {
   "cell_type": "code",
   "execution_count": 30,
   "metadata": {},
   "outputs": [
    {
     "name": "stdout",
     "output_type": "stream",
     "text": [
      "['aaa', 'aab', 'aac', 'aba', 'abb', 'abc', 'aca', 'acb', 'acc', 'baa', 'bab', 'bac', 'bba', 'bbb', 'bbc', 'bca', 'bcb', 'bcc', 'caa', 'cab', 'cac', 'cba', 'cbb', 'cbc', 'cca', 'ccb', 'ccc']\n"
     ]
    }
   ],
   "source": [
    "def permute(length, s):\n",
    "    out_str = list()\n",
    "    if length == 1: \n",
    "        out_str = s\n",
    "    else: \n",
    "        out_str = [digit + bits for digit in permute(1, s) for bits in permute(length - 1, s)]\n",
    "    return out_str\n",
    "string = \"abc\"\n",
    "input_str = list(string)\n",
    "len_str = len(string)\n",
    "print(permute(len_str, input_str))"
   ]
  },
  {
   "cell_type": "code",
   "execution_count": 19,
   "metadata": {},
   "outputs": [
    {
     "ename": "SyntaxError",
     "evalue": "invalid syntax (<ipython-input-19-5f31e7c3dff9>, line 15)",
     "output_type": "error",
     "traceback": [
      "\u001b[0;36m  File \u001b[0;32m\"<ipython-input-19-5f31e7c3dff9>\"\u001b[0;36m, line \u001b[0;32m15\u001b[0m\n\u001b[0;31m    print toString(a)\u001b[0m\n\u001b[0m                 ^\u001b[0m\n\u001b[0;31mSyntaxError\u001b[0m\u001b[0;31m:\u001b[0m invalid syntax\n"
     ]
    }
   ],
   "source": [
    "\n",
    "# Python program to print all permutations with \n",
    "# duplicates allowed \n",
    "  \n",
    "def toString(List): \n",
    "    return ''.join(List) \n",
    "  \n",
    "# Function to print permutations of string \n",
    "# This function takes three parameters: \n",
    "# 1. String \n",
    "# 2. Starting index of the string \n",
    "# 3. Ending index of the string. \n",
    "def permute(a, l, r): \n",
    "    if l==r: \n",
    "        print toString(a) \n",
    "    else: \n",
    "        for i in xrange(l,r+1): \n",
    "            a[l], a[i] = a[i], a[l] \n",
    "            permute(a, l+1, r) \n",
    "            a[l], a[i] = a[i], a[l] # backtrack \n",
    "    return a\n",
    "# Driver program to test the above function \n",
    "string = \"ABC\"\n",
    "n = len(string) \n",
    "a = list(string) \n",
    "permute(a, 0, n-1) \n",
    "permute(a, 1, 1)"
   ]
  },
  {
   "cell_type": "markdown",
   "metadata": {},
   "source": [
    "solving the problem without backtracking, complexity n^2"
   ]
  },
  {
   "cell_type": "code",
   "execution_count": 22,
   "metadata": {},
   "outputs": [
    {
     "name": "stdout",
     "output_type": "stream",
     "text": [
      "['BAC', 'CAA', 'BAA', 'BCB', 'CCA', 'CCB']\n"
     ]
    }
   ],
   "source": [
    "def permute_str(string):\n",
    "    len_str = len(string)\n",
    "    out_str = list()\n",
    "    list_str = list(string)\n",
    "    list_str_mod = list_str.copy()\n",
    "    for i in range(len_str):\n",
    "        for j in range(len_str):\n",
    "            if i != j:\n",
    "                list_str_mod[i], list_str_mod[j] = list_str[j], list_str[i]\n",
    "                temp = ''.join(list_str_mod)\n",
    "                out_str.append(temp)\n",
    "    return out_str\n",
    "string = \"ABC\"\n",
    "out = permute_str(string); print(out)"
   ]
  },
  {
   "cell_type": "code",
   "execution_count": 28,
   "metadata": {},
   "outputs": [
    {
     "name": "stdout",
     "output_type": "stream",
     "text": [
      "['b', 'c']\n"
     ]
    }
   ],
   "source": [
    "a = ['a', 'b', 'c']\n",
    "a.remove('a')\n",
    "print(a)"
   ]
  },
  {
   "cell_type": "code",
   "execution_count": null,
   "metadata": {},
   "outputs": [],
   "source": []
  }
 ],
 "metadata": {
  "kernelspec": {
   "display_name": "Python 3",
   "language": "python",
   "name": "python3"
  },
  "language_info": {
   "codemirror_mode": {
    "name": "ipython",
    "version": 3
   },
   "file_extension": ".py",
   "mimetype": "text/x-python",
   "name": "python",
   "nbconvert_exporter": "python",
   "pygments_lexer": "ipython3",
   "version": "3.7.0"
  }
 },
 "nbformat": 4,
 "nbformat_minor": 2
}
