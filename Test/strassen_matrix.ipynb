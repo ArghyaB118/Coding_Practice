{
 "cells": [
  {
   "cell_type": "markdown",
   "metadata": {},
   "source": [
    "# naive approach"
   ]
  },
  {
   "cell_type": "code",
   "execution_count": 4,
   "metadata": {},
   "outputs": [],
   "source": [
    "import numpy as np\n",
    "\n",
    "def mat_mul_naive(matrix1, matrix2):\n",
    "    [row1, col1] = matrix1.shape\n",
    "    [row2, col2] = matrix2.shape\n",
    "    matrix3 = np.zeros((row1, col2)); matrix3 = np.array(matrix3)\n",
    "    if col1 != row2 :\n",
    "        print(\"matrix multiplication is not possible.\")\n",
    "    else:\n",
    "        for i in range(row1):\n",
    "            for j in range(col2):\n",
    "                matrix3[i][j] = 0\n",
    "                for k in range(row2):\n",
    "                    matrix3[i][j] += matrix1[i][k] * matrix2[k][j]\n",
    "    return matrix3\n",
    "\n",
    "matrix1 = [[1, 2, 3], [4, 0, 7], [3, 6, 1]]; matrix1 = np.array(matrix1)\n",
    "matrix2 = [[5, 2, 1], [0, 0, 3], [2, 9, 2]]; matrix2 = np.array(matrix2)\n",
    "matrix3 = mat_mul_naive(matrix1, matrix2); print(matrix3)"
   ]
  },
  {
   "cell_type": "code",
   "execution_count": null,
   "metadata": {},
   "outputs": [],
   "source": []
  },
  {
   "cell_type": "code",
   "execution_count": null,
   "metadata": {},
   "outputs": [],
   "source": []
  }
 ],
 "metadata": {
  "kernelspec": {
   "display_name": "Python 3",
   "language": "python",
   "name": "python3"
  },
  "language_info": {
   "codemirror_mode": {
    "name": "ipython",
    "version": 3
   },
   "file_extension": ".py",
   "mimetype": "text/x-python",
   "name": "python",
   "nbconvert_exporter": "python",
   "pygments_lexer": "ipython3",
   "version": "3.7.0"
  }
 },
 "nbformat": 4,
 "nbformat_minor": 2
}
