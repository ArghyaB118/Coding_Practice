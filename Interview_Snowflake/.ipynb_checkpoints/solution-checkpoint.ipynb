{
 "cells": [
  {
   "cell_type": "markdown",
   "metadata": {},
   "source": [
    "# Data Science Challenge: Price prediction of houses\n",
    "\n",
    "Machine learning problems are usually of two broad natures: supervised learning, unsupervised learning, and semi-supervised learning. \n",
    "1. For **supervised learning**, a dataset of features and labels is given. The objective is to find a hypothesis.\n",
    "2. For **unsupervised learning**, the task is to derive a structure previously unknown from the data, e.g. clustering.\n",
    "This problem has a given large dataset. We shall use supervised learning.\n",
    "\n",
    "Supervised learning problems can be of two natures: regression and classification. This problem is a regression problem."
   ]
  },
  {
   "cell_type": "code",
   "execution_count": 211,
   "metadata": {},
   "outputs": [],
   "source": [
    "# If you'd like to install packages that aren't installed by default, uncomment the last two lines of this cell and replace <package list> with a list of your packages.\n",
    "# This will ensure your notebook has all the dependencies and works everywhere\n",
    "import os\n",
    "import sys\n",
    "#!{sys.executable} -m pip install <package list>"
   ]
  },
  {
   "cell_type": "code",
   "execution_count": 212,
   "metadata": {},
   "outputs": [],
   "source": [
    "#Libraries\n",
    "import pandas as pd\n",
    "import numpy as np\n",
    "import matplotlib.pyplot as plt \n",
    "import seaborn as sns\n",
    "from sklearn.linear_model import LinearRegression\n",
    "pd.set_option(\"display.max_columns\", 101)"
   ]
  },
  {
   "cell_type": "markdown",
   "metadata": {},
   "source": [
    "## Data Description"
   ]
  },
  {
   "cell_type": "markdown",
   "metadata": {},
   "source": [
    "Column | Description\n",
    ":---|:---\n",
    "`id` | Unique id of every property\n",
    "`area` | Area of the structure (sq. feet)\n",
    "`bathrooms` | Number of bathrooms\n",
    "`bedrooms` | Number of rooms\n",
    "`condo_fee`| Condominium fee `(US $$)` \n",
    "`parking_spots`| Number of parking spots\n",
    "`attached_rooms` | Number of bedrooms with direct access to a bathroom.\n",
    "`type` | Kind of real estate\n",
    "`lat` | Latitude of the property\n",
    "`lon` | Longitude of the property\n",
    "`year_built` | Year the real property was built\n",
    "`overall_condition` | Abstract evaluation of the owner\n",
    "`has_elevator` | If the property has elevator or not\n",
    "`leasures_available` | List of leasures in the property\n",
    "`price`| Price of the real estate `(US $$)`"
   ]
  },
  {
   "cell_type": "markdown",
   "metadata": {},
   "source": [
    "## Data Wrangling & Visualization\n",
    "\n",
    "Some key steps to data wrangling/ data cleaning/ data remediation/ data munging:\n",
    "1. Data Acquisition: Identify and obtain access to the data within your sources.\n",
    "2. Joining Data: Combine the edited data for further use and analysis.\n",
    "3. Data Cleansing: Redesign the data into a usable and functional format and correct/remove any bad data.\n",
    "        A. Merging multiple data sources into a single dataset for analysis\n",
    "        B. Identifying gaps in data (for example, empty cells in a spreadsheet) and either filling or deleting them\n",
    "        C. Deleting data that’s either unnecessary or irrelevant to the project you’re working on\n",
    "        D. Identifying extreme outliers in data and either explaining the discrepancies or removing them so that analysis can take place\n",
    "        \n",
    "        \n",
    "Action Items:\n",
    "1. Data exploration: Visualization of data is made to analyze and understand the data.\n",
    "2. Dealing with missing values: Having Missing values in the data set has been a common issue when dealing with large data set and care must be taken to replace them. It can be replaced by either of the following ways.\n",
    "        A. mean/ mode imputation - independent of the other features of Xn.\n",
    "        B. imputation by regression - the value may depend on other features of Xn.\n",
    "        C. labelling them as NaN value (non-ideal).\n",
    "3. Reshaping data: Here the data is either modified from the addressing of pre-existing data or the data is modified and manipulated according to the requirements.\n",
    "4. Filtering data: The unwanted rows and columns are filtered and removed which makes the data into a compressed format.\n",
    "5. Others: After making the raw data into an efficient dataset, it is bought into useful for data visualization, data analyzing, training the model, etc."
   ]
  },
  {
   "cell_type": "code",
   "execution_count": 213,
   "metadata": {},
   "outputs": [
    {
     "name": "stdout",
     "output_type": "stream",
     "text": [
      "Index(['id', 'area', 'bathrooms', 'bedrooms', 'condo_fee', 'parking_spots',\n",
      "       'attached_rooms', 'type', 'lat', 'lon', 'year_built',\n",
      "       'overall_condition', 'has_elevator', 'leasures_available', 'price'],\n",
      "      dtype='object')\n",
      "id                      int64\n",
      "area                    int64\n",
      "bathrooms             float64\n",
      "bedrooms              float64\n",
      "condo_fee             float64\n",
      "parking_spots         float64\n",
      "attached_rooms        float64\n",
      "type                   object\n",
      "lat                   float64\n",
      "lon                   float64\n",
      "year_built            float64\n",
      "overall_condition      object\n",
      "has_elevator           object\n",
      "leasures_available     object\n",
      "price                   int64\n",
      "dtype: object\n"
     ]
    },
    {
     "data": {
      "text/html": [
       "<div>\n",
       "<style scoped>\n",
       "    .dataframe tbody tr th:only-of-type {\n",
       "        vertical-align: middle;\n",
       "    }\n",
       "\n",
       "    .dataframe tbody tr th {\n",
       "        vertical-align: top;\n",
       "    }\n",
       "\n",
       "    .dataframe thead th {\n",
       "        text-align: right;\n",
       "    }\n",
       "</style>\n",
       "<table border=\"1\" class=\"dataframe\">\n",
       "  <thead>\n",
       "    <tr style=\"text-align: right;\">\n",
       "      <th></th>\n",
       "      <th>id</th>\n",
       "      <th>area</th>\n",
       "      <th>bathrooms</th>\n",
       "      <th>bedrooms</th>\n",
       "      <th>condo_fee</th>\n",
       "      <th>parking_spots</th>\n",
       "      <th>attached_rooms</th>\n",
       "      <th>type</th>\n",
       "      <th>lat</th>\n",
       "      <th>lon</th>\n",
       "      <th>year_built</th>\n",
       "      <th>overall_condition</th>\n",
       "      <th>has_elevator</th>\n",
       "      <th>leasures_available</th>\n",
       "      <th>price</th>\n",
       "    </tr>\n",
       "  </thead>\n",
       "  <tbody>\n",
       "    <tr>\n",
       "      <th>0</th>\n",
       "      <td>794</td>\n",
       "      <td>380</td>\n",
       "      <td>6.0</td>\n",
       "      <td>4.0</td>\n",
       "      <td>0.0</td>\n",
       "      <td>3.0</td>\n",
       "      <td>3.0</td>\n",
       "      <td>house</td>\n",
       "      <td>-5.855204</td>\n",
       "      <td>-35.220087</td>\n",
       "      <td>1974.0</td>\n",
       "      <td>Score 3</td>\n",
       "      <td>Yes</td>\n",
       "      <td>NaN</td>\n",
       "      <td>500000</td>\n",
       "    </tr>\n",
       "    <tr>\n",
       "      <th>1</th>\n",
       "      <td>199</td>\n",
       "      <td>60</td>\n",
       "      <td>2.0</td>\n",
       "      <td>2.0</td>\n",
       "      <td>0.0</td>\n",
       "      <td>1.0</td>\n",
       "      <td>1.0</td>\n",
       "      <td>apartment</td>\n",
       "      <td>-5.808983</td>\n",
       "      <td>-35.227251</td>\n",
       "      <td>NaN</td>\n",
       "      <td>Score 6</td>\n",
       "      <td>y</td>\n",
       "      <td>NaN</td>\n",
       "      <td>207480</td>\n",
       "    </tr>\n",
       "    <tr>\n",
       "      <th>2</th>\n",
       "      <td>1849</td>\n",
       "      <td>430</td>\n",
       "      <td>NaN</td>\n",
       "      <td>NaN</td>\n",
       "      <td>0.0</td>\n",
       "      <td>8.0</td>\n",
       "      <td>4.0</td>\n",
       "      <td>house</td>\n",
       "      <td>-5.843724</td>\n",
       "      <td>NaN</td>\n",
       "      <td>1980.0</td>\n",
       "      <td>Score 4</td>\n",
       "      <td>y</td>\n",
       "      <td>barbecue space</td>\n",
       "      <td>800000</td>\n",
       "    </tr>\n",
       "    <tr>\n",
       "      <th>3</th>\n",
       "      <td>33</td>\n",
       "      <td>55</td>\n",
       "      <td>2.0</td>\n",
       "      <td>2.0</td>\n",
       "      <td>280.0</td>\n",
       "      <td>0.0</td>\n",
       "      <td>1.0</td>\n",
       "      <td>apartment</td>\n",
       "      <td>-5.882136</td>\n",
       "      <td>-35.172217</td>\n",
       "      <td>1991.0</td>\n",
       "      <td>Score 5</td>\n",
       "      <td>yes</td>\n",
       "      <td>sports court</td>\n",
       "      <td>208900</td>\n",
       "    </tr>\n",
       "    <tr>\n",
       "      <th>4</th>\n",
       "      <td>179</td>\n",
       "      <td>50</td>\n",
       "      <td>2.0</td>\n",
       "      <td>2.0</td>\n",
       "      <td>420.0</td>\n",
       "      <td>1.0</td>\n",
       "      <td>2.0</td>\n",
       "      <td>apartment</td>\n",
       "      <td>-5.866124</td>\n",
       "      <td>-35.182770</td>\n",
       "      <td>2002.0</td>\n",
       "      <td>Score 4</td>\n",
       "      <td>y</td>\n",
       "      <td>BARBECUE SPACE,playground</td>\n",
       "      <td>210000</td>\n",
       "    </tr>\n",
       "  </tbody>\n",
       "</table>\n",
       "</div>"
      ],
      "text/plain": [
       "     id  area  bathrooms  bedrooms  condo_fee  parking_spots  attached_rooms  \\\n",
       "0   794   380        6.0       4.0        0.0            3.0             3.0   \n",
       "1   199    60        2.0       2.0        0.0            1.0             1.0   \n",
       "2  1849   430        NaN       NaN        0.0            8.0             4.0   \n",
       "3    33    55        2.0       2.0      280.0            0.0             1.0   \n",
       "4   179    50        2.0       2.0      420.0            1.0             2.0   \n",
       "\n",
       "        type       lat        lon  year_built overall_condition has_elevator  \\\n",
       "0      house -5.855204 -35.220087      1974.0           Score 3          Yes   \n",
       "1  apartment -5.808983 -35.227251         NaN           Score 6            y   \n",
       "2      house -5.843724        NaN      1980.0           Score 4            y   \n",
       "3  apartment -5.882136 -35.172217      1991.0           Score 5          yes   \n",
       "4  apartment -5.866124 -35.182770      2002.0           Score 4            y   \n",
       "\n",
       "          leasures_available   price  \n",
       "0                        NaN  500000  \n",
       "1                        NaN  207480  \n",
       "2             barbecue space  800000  \n",
       "3               sports court  208900  \n",
       "4  BARBECUE SPACE,playground  210000  "
      ]
     },
     "execution_count": 213,
     "metadata": {},
     "output_type": "execute_result"
    }
   ],
   "source": [
    "# Loading the dataset\n",
    "data = pd.read_csv(\"train.csv\")\n",
    "\n",
    "#Explore columns\n",
    "print(data.columns)\n",
    "print(data.dtypes)\n",
    "\n",
    "data.head()"
   ]
  },
  {
   "cell_type": "code",
   "execution_count": 214,
   "metadata": {},
   "outputs": [
    {
     "name": "stdout",
     "output_type": "stream",
     "text": [
      "Number of total houses 4056\n"
     ]
    },
    {
     "data": {
      "text/html": [
       "<div>\n",
       "<style scoped>\n",
       "    .dataframe tbody tr th:only-of-type {\n",
       "        vertical-align: middle;\n",
       "    }\n",
       "\n",
       "    .dataframe tbody tr th {\n",
       "        vertical-align: top;\n",
       "    }\n",
       "\n",
       "    .dataframe thead th {\n",
       "        text-align: right;\n",
       "    }\n",
       "</style>\n",
       "<table border=\"1\" class=\"dataframe\">\n",
       "  <thead>\n",
       "    <tr style=\"text-align: right;\">\n",
       "      <th></th>\n",
       "      <th>id</th>\n",
       "      <th>area</th>\n",
       "      <th>bathrooms</th>\n",
       "      <th>bedrooms</th>\n",
       "      <th>condo_fee</th>\n",
       "      <th>parking_spots</th>\n",
       "      <th>attached_rooms</th>\n",
       "      <th>lat</th>\n",
       "      <th>lon</th>\n",
       "      <th>year_built</th>\n",
       "      <th>price</th>\n",
       "    </tr>\n",
       "  </thead>\n",
       "  <tbody>\n",
       "    <tr>\n",
       "      <th>count</th>\n",
       "      <td>4056.000000</td>\n",
       "      <td>4056.000000</td>\n",
       "      <td>4036.000000</td>\n",
       "      <td>4030.000000</td>\n",
       "      <td>4044.000000</td>\n",
       "      <td>4046.000000</td>\n",
       "      <td>4044.000000</td>\n",
       "      <td>4045.000000</td>\n",
       "      <td>4041.000000</td>\n",
       "      <td>2533.000000</td>\n",
       "      <td>4.056000e+03</td>\n",
       "    </tr>\n",
       "    <tr>\n",
       "      <th>mean</th>\n",
       "      <td>2377.640039</td>\n",
       "      <td>107.705621</td>\n",
       "      <td>2.268831</td>\n",
       "      <td>2.635732</td>\n",
       "      <td>354.116222</td>\n",
       "      <td>1.618389</td>\n",
       "      <td>1.369683</td>\n",
       "      <td>-5.835676</td>\n",
       "      <td>-35.203506</td>\n",
       "      <td>1987.765101</td>\n",
       "      <td>3.962545e+05</td>\n",
       "    </tr>\n",
       "    <tr>\n",
       "      <th>std</th>\n",
       "      <td>1386.164798</td>\n",
       "      <td>95.332348</td>\n",
       "      <td>1.240710</td>\n",
       "      <td>0.835317</td>\n",
       "      <td>366.596604</td>\n",
       "      <td>1.032332</td>\n",
       "      <td>1.018299</td>\n",
       "      <td>0.034061</td>\n",
       "      <td>0.016523</td>\n",
       "      <td>15.413998</td>\n",
       "      <td>2.677453e+05</td>\n",
       "    </tr>\n",
       "    <tr>\n",
       "      <th>min</th>\n",
       "      <td>0.000000</td>\n",
       "      <td>20.000000</td>\n",
       "      <td>0.000000</td>\n",
       "      <td>0.000000</td>\n",
       "      <td>0.000000</td>\n",
       "      <td>-7.000000</td>\n",
       "      <td>0.000000</td>\n",
       "      <td>-5.899991</td>\n",
       "      <td>-35.244931</td>\n",
       "      <td>1956.000000</td>\n",
       "      <td>6.000000e+04</td>\n",
       "    </tr>\n",
       "    <tr>\n",
       "      <th>25%</th>\n",
       "      <td>1177.750000</td>\n",
       "      <td>57.000000</td>\n",
       "      <td>1.000000</td>\n",
       "      <td>2.000000</td>\n",
       "      <td>0.000000</td>\n",
       "      <td>1.000000</td>\n",
       "      <td>1.000000</td>\n",
       "      <td>-5.866124</td>\n",
       "      <td>-35.213829</td>\n",
       "      <td>1973.000000</td>\n",
       "      <td>2.300000e+05</td>\n",
       "    </tr>\n",
       "    <tr>\n",
       "      <th>50%</th>\n",
       "      <td>2362.500000</td>\n",
       "      <td>91.000000</td>\n",
       "      <td>2.000000</td>\n",
       "      <td>3.000000</td>\n",
       "      <td>320.000000</td>\n",
       "      <td>2.000000</td>\n",
       "      <td>1.000000</td>\n",
       "      <td>-5.828402</td>\n",
       "      <td>-35.203220</td>\n",
       "      <td>1993.000000</td>\n",
       "      <td>3.300000e+05</td>\n",
       "    </tr>\n",
       "    <tr>\n",
       "      <th>75%</th>\n",
       "      <td>3592.250000</td>\n",
       "      <td>128.250000</td>\n",
       "      <td>3.000000</td>\n",
       "      <td>3.000000</td>\n",
       "      <td>561.000000</td>\n",
       "      <td>2.000000</td>\n",
       "      <td>2.000000</td>\n",
       "      <td>-5.808077</td>\n",
       "      <td>-35.196726</td>\n",
       "      <td>2002.000000</td>\n",
       "      <td>5.000000e+05</td>\n",
       "    </tr>\n",
       "    <tr>\n",
       "      <th>max</th>\n",
       "      <td>4771.000000</td>\n",
       "      <td>4200.000000</td>\n",
       "      <td>22.000000</td>\n",
       "      <td>22.000000</td>\n",
       "      <td>2500.000000</td>\n",
       "      <td>24.000000</td>\n",
       "      <td>22.000000</td>\n",
       "      <td>-5.726315</td>\n",
       "      <td>-35.170270</td>\n",
       "      <td>2010.000000</td>\n",
       "      <td>5.300000e+06</td>\n",
       "    </tr>\n",
       "  </tbody>\n",
       "</table>\n",
       "</div>"
      ],
      "text/plain": [
       "                id         area    bathrooms     bedrooms    condo_fee  \\\n",
       "count  4056.000000  4056.000000  4036.000000  4030.000000  4044.000000   \n",
       "mean   2377.640039   107.705621     2.268831     2.635732   354.116222   \n",
       "std    1386.164798    95.332348     1.240710     0.835317   366.596604   \n",
       "min       0.000000    20.000000     0.000000     0.000000     0.000000   \n",
       "25%    1177.750000    57.000000     1.000000     2.000000     0.000000   \n",
       "50%    2362.500000    91.000000     2.000000     3.000000   320.000000   \n",
       "75%    3592.250000   128.250000     3.000000     3.000000   561.000000   \n",
       "max    4771.000000  4200.000000    22.000000    22.000000  2500.000000   \n",
       "\n",
       "       parking_spots  attached_rooms          lat          lon   year_built  \\\n",
       "count    4046.000000     4044.000000  4045.000000  4041.000000  2533.000000   \n",
       "mean        1.618389        1.369683    -5.835676   -35.203506  1987.765101   \n",
       "std         1.032332        1.018299     0.034061     0.016523    15.413998   \n",
       "min        -7.000000        0.000000    -5.899991   -35.244931  1956.000000   \n",
       "25%         1.000000        1.000000    -5.866124   -35.213829  1973.000000   \n",
       "50%         2.000000        1.000000    -5.828402   -35.203220  1993.000000   \n",
       "75%         2.000000        2.000000    -5.808077   -35.196726  2002.000000   \n",
       "max        24.000000       22.000000    -5.726315   -35.170270  2010.000000   \n",
       "\n",
       "              price  \n",
       "count  4.056000e+03  \n",
       "mean   3.962545e+05  \n",
       "std    2.677453e+05  \n",
       "min    6.000000e+04  \n",
       "25%    2.300000e+05  \n",
       "50%    3.300000e+05  \n",
       "75%    5.000000e+05  \n",
       "max    5.300000e+06  "
      ]
     },
     "execution_count": 214,
     "metadata": {},
     "output_type": "execute_result"
    }
   ],
   "source": [
    "#Description\n",
    "print(\"Number of total houses\", data.shape[0])\n",
    "data.describe()"
   ]
  },
  {
   "cell_type": "markdown",
   "metadata": {},
   "source": [
    "### Working on the column: bathrooms\n",
    "1. How many percentage is missing values? Is there a heavy hitter? If the number of data with missing values is very less, we can replace by the heavy hitter.\n",
    "2. After replacing the missing values, we want to see how the data is distributed. Is it an important feature for price?"
   ]
  },
  {
   "cell_type": "code",
   "execution_count": 215,
   "metadata": {},
   "outputs": [
    {
     "name": "stdout",
     "output_type": "stream",
     "text": [
      "Different values of number of bathrooms: [ 6.  2. nan  5.  4.  3.  1.  0. 15.  7. 22.  8. 12.]\n",
      "Percentage of houses with bathrooms not specified: 0.4930966469428008\n",
      "Percentage of houses with 2 bathrooms 33.3086785009862\n"
     ]
    },
    {
     "data": {
      "image/png": "[encoded data removed]",
      "text/plain": [
       "<Figure size 432x288 with 1 Axes>"
      ]
     },
     "metadata": {
      "needs_background": "light"
     },
     "output_type": "display_data"
    }
   ],
   "source": [
    "print(\"Different values of number of bathrooms:\", data.bathrooms.unique())\n",
    "data['bathrooms'].value_counts().plot(kind='bar')\n",
    "sns.despine\n",
    "print(\"Percentage of houses with bathrooms not specified:\", data['bathrooms'].isna().sum() / data.shape[0] * 100) \n",
    "print(\"Percentage of houses with 2 bathrooms\", data[data['bathrooms'] == 2].shape[0] / data.shape[0] * 100)"
   ]
  },
  {
   "cell_type": "markdown",
   "metadata": {},
   "source": [
    "From the above analysis it does not make sense to apply the heavy hitter value to replace the nan values for this column. We replace the missing values with the mean value.\n",
    "\n",
    "From the scatter plot, we see there are a 3 outliers. The price is not much, but number of bathrooms is large. Let's print these data and visualize."
   ]
  },
  {
   "cell_type": "code",
   "execution_count": 216,
   "metadata": {},
   "outputs": [
    {
     "name": "stdout",
     "output_type": "stream",
     "text": [
      "Percentage of houses with bathrooms not specified: 0.0\n",
      "Percentage of houses with 2 bathrooms 33.80177514792899\n"
     ]
    }
   ],
   "source": [
    "data.loc[data.bathrooms.isna(), 'bathrooms'] = round(data['bathrooms'].mean())\n",
    "print(\"Percentage of houses with bathrooms not specified:\", data['bathrooms'].isna().sum() / data.shape[0] * 100) \n",
    "print(\"Percentage of houses with\", round(data['bathrooms'].mean()), \"bathrooms\", data[data['bathrooms'] == round(data['bathrooms'].mean())].shape[0] / data.shape[0] * 100)"
   ]
  },
  {
   "cell_type": "code",
   "execution_count": 217,
   "metadata": {},
   "outputs": [
    {
     "data": {
      "text/plain": [
       "<matplotlib.collections.PathCollection at 0x128ead070>"
      ]
     },
     "execution_count": 217,
     "metadata": {},
     "output_type": "execute_result"
    },
    {
     "data": {
      "image/png": "[encoded data removed]",
      "text/plain": [
       "<Figure size 432x288 with 1 Axes>"
      ]
     },
     "metadata": {
      "needs_background": "light"
     },
     "output_type": "display_data"
    }
   ],
   "source": [
    "plt.scatter(data.price, data.bathrooms)"
   ]
  },
  {
   "cell_type": "code",
   "execution_count": 218,
   "metadata": {},
   "outputs": [
    {
     "data": {
      "text/html": [
       "<div>\n",
       "<style scoped>\n",
       "    .dataframe tbody tr th:only-of-type {\n",
       "        vertical-align: middle;\n",
       "    }\n",
       "\n",
       "    .dataframe tbody tr th {\n",
       "        vertical-align: top;\n",
       "    }\n",
       "\n",
       "    .dataframe thead th {\n",
       "        text-align: right;\n",
       "    }\n",
       "</style>\n",
       "<table border=\"1\" class=\"dataframe\">\n",
       "  <thead>\n",
       "    <tr style=\"text-align: right;\">\n",
       "      <th></th>\n",
       "      <th>id</th>\n",
       "      <th>area</th>\n",
       "      <th>bathrooms</th>\n",
       "      <th>bedrooms</th>\n",
       "      <th>condo_fee</th>\n",
       "      <th>parking_spots</th>\n",
       "      <th>attached_rooms</th>\n",
       "      <th>type</th>\n",
       "      <th>lat</th>\n",
       "      <th>lon</th>\n",
       "      <th>year_built</th>\n",
       "      <th>overall_condition</th>\n",
       "      <th>has_elevator</th>\n",
       "      <th>leasures_available</th>\n",
       "      <th>price</th>\n",
       "    </tr>\n",
       "  </thead>\n",
       "  <tbody>\n",
       "    <tr>\n",
       "      <th>752</th>\n",
       "      <td>99</td>\n",
       "      <td>800</td>\n",
       "      <td>15.0</td>\n",
       "      <td>NaN</td>\n",
       "      <td>NaN</td>\n",
       "      <td>NaN</td>\n",
       "      <td>15.0</td>\n",
       "      <td>NaN</td>\n",
       "      <td>NaN</td>\n",
       "      <td>NaN</td>\n",
       "      <td>1994.0</td>\n",
       "      <td>Score 7</td>\n",
       "      <td>Yes</td>\n",
       "      <td>barbecue space</td>\n",
       "      <td>650000</td>\n",
       "    </tr>\n",
       "    <tr>\n",
       "      <th>1985</th>\n",
       "      <td>2759</td>\n",
       "      <td>520</td>\n",
       "      <td>22.0</td>\n",
       "      <td>22.0</td>\n",
       "      <td>0.0</td>\n",
       "      <td>3.0</td>\n",
       "      <td>22.0</td>\n",
       "      <td>other</td>\n",
       "      <td>-5.778982</td>\n",
       "      <td>-35.194817</td>\n",
       "      <td>NaN</td>\n",
       "      <td>Score 4</td>\n",
       "      <td>y</td>\n",
       "      <td>NaN</td>\n",
       "      <td>1100000</td>\n",
       "    </tr>\n",
       "    <tr>\n",
       "      <th>3055</th>\n",
       "      <td>3803</td>\n",
       "      <td>840</td>\n",
       "      <td>12.0</td>\n",
       "      <td>18.0</td>\n",
       "      <td>NaN</td>\n",
       "      <td>12.0</td>\n",
       "      <td>6.0</td>\n",
       "      <td>other</td>\n",
       "      <td>NaN</td>\n",
       "      <td>-35.201828</td>\n",
       "      <td>1970.0</td>\n",
       "      <td>Score 4</td>\n",
       "      <td>y</td>\n",
       "      <td>NaN</td>\n",
       "      <td>1200000</td>\n",
       "    </tr>\n",
       "  </tbody>\n",
       "</table>\n",
       "</div>"
      ],
      "text/plain": [
       "        id  area  bathrooms  bedrooms  condo_fee  parking_spots  \\\n",
       "752     99   800       15.0       NaN        NaN            NaN   \n",
       "1985  2759   520       22.0      22.0        0.0            3.0   \n",
       "3055  3803   840       12.0      18.0        NaN           12.0   \n",
       "\n",
       "      attached_rooms   type       lat        lon  year_built  \\\n",
       "752             15.0    NaN       NaN        NaN      1994.0   \n",
       "1985            22.0  other -5.778982 -35.194817         NaN   \n",
       "3055             6.0  other       NaN -35.201828      1970.0   \n",
       "\n",
       "     overall_condition has_elevator leasures_available    price  \n",
       "752            Score 7          Yes     barbecue space   650000  \n",
       "1985           Score 4            y                NaN  1100000  \n",
       "3055           Score 4            y                NaN  1200000  "
      ]
     },
     "execution_count": 218,
     "metadata": {},
     "output_type": "execute_result"
    }
   ],
   "source": [
    "filtered_data = data[data['bathrooms'] > 10]\n",
    "filtered_data"
   ]
  },
  {
   "cell_type": "markdown",
   "metadata": {},
   "source": [
    "#### what do we do with these 3 data points?\n",
    "\n",
    "1. 15 bathrooms and 15 attached rooms, but no bedrooms! Price is not too much. For the other 2 data points 22 + 22 + 22 and 12 + 6 + 18.\n",
    "2. The scores are not much (only 4), no leasures available.\n",
    "3. Another observation: longitude is almost the same for the 2nd and 3rd data point.\n",
    "4. Hence, action items are as follows.\n",
    "        A. condo fee and year built: nothing to do\n",
    "        B. bedroom: place 15\n",
    "        C. type: other\n",
    "        D. lat: put the one available value for the missing values.\n",
    "        E. lon: put the average for the missing value."
   ]
  },
  {
   "cell_type": "code",
   "execution_count": 219,
   "metadata": {},
   "outputs": [
    {
     "data": {
      "text/html": [
       "<div>\n",
       "<style scoped>\n",
       "    .dataframe tbody tr th:only-of-type {\n",
       "        vertical-align: middle;\n",
       "    }\n",
       "\n",
       "    .dataframe tbody tr th {\n",
       "        vertical-align: top;\n",
       "    }\n",
       "\n",
       "    .dataframe thead th {\n",
       "        text-align: right;\n",
       "    }\n",
       "</style>\n",
       "<table border=\"1\" class=\"dataframe\">\n",
       "  <thead>\n",
       "    <tr style=\"text-align: right;\">\n",
       "      <th></th>\n",
       "      <th>id</th>\n",
       "      <th>area</th>\n",
       "      <th>bathrooms</th>\n",
       "      <th>bedrooms</th>\n",
       "      <th>condo_fee</th>\n",
       "      <th>parking_spots</th>\n",
       "      <th>attached_rooms</th>\n",
       "      <th>type</th>\n",
       "      <th>lat</th>\n",
       "      <th>lon</th>\n",
       "      <th>year_built</th>\n",
       "      <th>overall_condition</th>\n",
       "      <th>has_elevator</th>\n",
       "      <th>leasures_available</th>\n",
       "      <th>price</th>\n",
       "    </tr>\n",
       "  </thead>\n",
       "  <tbody>\n",
       "    <tr>\n",
       "      <th>752</th>\n",
       "      <td>99</td>\n",
       "      <td>800</td>\n",
       "      <td>15.0</td>\n",
       "      <td>15.0</td>\n",
       "      <td>NaN</td>\n",
       "      <td>NaN</td>\n",
       "      <td>15.0</td>\n",
       "      <td>other</td>\n",
       "      <td>-5.778982</td>\n",
       "      <td>-35.198323</td>\n",
       "      <td>1994.0</td>\n",
       "      <td>Score 7</td>\n",
       "      <td>Yes</td>\n",
       "      <td>barbecue space</td>\n",
       "      <td>650000</td>\n",
       "    </tr>\n",
       "    <tr>\n",
       "      <th>1985</th>\n",
       "      <td>2759</td>\n",
       "      <td>520</td>\n",
       "      <td>22.0</td>\n",
       "      <td>22.0</td>\n",
       "      <td>0.0</td>\n",
       "      <td>3.0</td>\n",
       "      <td>22.0</td>\n",
       "      <td>other</td>\n",
       "      <td>-5.778982</td>\n",
       "      <td>-35.194817</td>\n",
       "      <td>NaN</td>\n",
       "      <td>Score 4</td>\n",
       "      <td>y</td>\n",
       "      <td>NaN</td>\n",
       "      <td>1100000</td>\n",
       "    </tr>\n",
       "    <tr>\n",
       "      <th>3055</th>\n",
       "      <td>3803</td>\n",
       "      <td>840</td>\n",
       "      <td>12.0</td>\n",
       "      <td>18.0</td>\n",
       "      <td>NaN</td>\n",
       "      <td>12.0</td>\n",
       "      <td>6.0</td>\n",
       "      <td>other</td>\n",
       "      <td>-5.778982</td>\n",
       "      <td>-35.201828</td>\n",
       "      <td>1970.0</td>\n",
       "      <td>Score 4</td>\n",
       "      <td>y</td>\n",
       "      <td>NaN</td>\n",
       "      <td>1200000</td>\n",
       "    </tr>\n",
       "  </tbody>\n",
       "</table>\n",
       "</div>"
      ],
      "text/plain": [
       "        id  area  bathrooms  bedrooms  condo_fee  parking_spots  \\\n",
       "752     99   800       15.0      15.0        NaN            NaN   \n",
       "1985  2759   520       22.0      22.0        0.0            3.0   \n",
       "3055  3803   840       12.0      18.0        NaN           12.0   \n",
       "\n",
       "      attached_rooms   type       lat        lon  year_built  \\\n",
       "752             15.0  other -5.778982 -35.198323      1994.0   \n",
       "1985            22.0  other -5.778982 -35.194817         NaN   \n",
       "3055             6.0  other -5.778982 -35.201828      1970.0   \n",
       "\n",
       "     overall_condition has_elevator leasures_available    price  \n",
       "752            Score 7          Yes     barbecue space   650000  \n",
       "1985           Score 4            y                NaN  1100000  \n",
       "3055           Score 4            y                NaN  1200000  "
      ]
     },
     "execution_count": 219,
     "metadata": {},
     "output_type": "execute_result"
    }
   ],
   "source": [
    "data.loc[data['id'] == 99, 'bedrooms'] = 15\n",
    "data.loc[data['id'] == 99, 'type'] = \"other\"\n",
    "\n",
    "data.loc[data['id'] == 99, 'lat'] = data.loc[data['id'] == 2759, 'lat'].values[0]\n",
    "data.loc[data['id'] == 3803, 'lat'] = data.loc[data['id'] == 2759, 'lat'].values[0]\n",
    "data.loc[data['id'] == 99, 'lon'] = (data.loc[data['id'] == 2759, 'lon'].values[0] + data.loc[data['id'] == 3803, 'lon'].values[0]) / 2\n",
    "\n",
    "filtered_data = data[data['bathrooms'] > 10]\n",
    "filtered_data"
   ]
  },
  {
   "cell_type": "markdown",
   "metadata": {},
   "source": [
    "### Same analysis on the column: bedrooms"
   ]
  },
  {
   "cell_type": "code",
   "execution_count": 220,
   "metadata": {},
   "outputs": [
    {
     "name": "stdout",
     "output_type": "stream",
     "text": [
      "Different values of number of bedrooms: [ 4.  2. nan  3.  1. 15.  0.  6.  9. 22.  5. 18.  7.]\n",
      "Percentage of houses with bedrooms not specified: 0.616370808678501\n",
      "Percentage of houses with 3 bedrooms 51.65187376725838\n"
     ]
    },
    {
     "data": {
      "image/png": "[encoded data removed]",
      "text/plain": [
       "<Figure size 432x288 with 1 Axes>"
      ]
     },
     "metadata": {
      "needs_background": "light"
     },
     "output_type": "display_data"
    }
   ],
   "source": [
    "print(\"Different values of number of bedrooms:\", data.bedrooms.unique())\n",
    "data['bedrooms'].value_counts().plot(kind='bar')\n",
    "sns.despine\n",
    "print(\"Percentage of houses with bedrooms not specified:\", data['bedrooms'].isna().sum() / data.shape[0] * 100) \n",
    "print(\"Percentage of houses with 3 bedrooms\", data[data['bedrooms'] == 3].shape[0] / data.shape[0] * 100)"
   ]
  },
  {
   "cell_type": "code",
   "execution_count": 221,
   "metadata": {},
   "outputs": [
    {
     "name": "stdout",
     "output_type": "stream",
     "text": [
      "Percentage of houses with bedrooms not specified: 0.0\n",
      "Percentage of houses with 3 bedrooms 52.26824457593688\n"
     ]
    }
   ],
   "source": [
    "data.loc[data.bedrooms.isna(), \"bedrooms\"] = 3\n",
    "print(\"Percentage of houses with bedrooms not specified:\", data['bedrooms'].isna().sum() / data.shape[0] * 100) \n",
    "print(\"Percentage of houses with 3 bedrooms\", data[data['bedrooms'] == 3].shape[0] / data.shape[0] * 100)"
   ]
  },
  {
   "cell_type": "markdown",
   "metadata": {},
   "source": [
    "### Working on the column: area\n",
    "#### A few questions we need to answer regarding the importance of different columns\n",
    "1. Is there any nan values in area?\n",
    "2. Does price depend on area?\n",
    "\n",
    "From the following scatter plot, it looks like area is going to be an important feature in our analysis. The outlier house with more area has high price. Makes sense!"
   ]
  },
  {
   "cell_type": "code",
   "execution_count": 222,
   "metadata": {},
   "outputs": [
    {
     "name": "stdout",
     "output_type": "stream",
     "text": [
      "Number of data points with missing values in area 0\n"
     ]
    },
    {
     "data": {
      "text/plain": [
       "<matplotlib.collections.PathCollection at 0x128fcebe0>"
      ]
     },
     "execution_count": 222,
     "metadata": {},
     "output_type": "execute_result"
    },
    {
     "data": {
      "image/png": "[encoded data removed]",
      "text/plain": [
       "<Figure size 432x288 with 1 Axes>"
      ]
     },
     "metadata": {
      "needs_background": "light"
     },
     "output_type": "display_data"
    }
   ],
   "source": [
    "print(\"Number of data points with missing values in area\", data['area'].isna().sum())\n",
    "plt.scatter(data.price, data.area)"
   ]
  },
  {
   "cell_type": "markdown",
   "metadata": {},
   "source": [
    "### Working on the column: condo_fee\n",
    "Placing the mean condo fee for missing values."
   ]
  },
  {
   "cell_type": "code",
   "execution_count": 223,
   "metadata": {},
   "outputs": [
    {
     "name": "stdout",
     "output_type": "stream",
     "text": [
      "Number of data points with missing values in area 12\n",
      "Number of data points with missing values in area 0\n"
     ]
    }
   ],
   "source": [
    "print(\"Number of data points with missing values in area\", data['condo_fee'].isna().sum())\n",
    "data.loc[data.condo_fee.isna(), \"condo_fee\"] = round(data['condo_fee'].mean())\n",
    "print(\"Number of data points with missing values in area\", data['condo_fee'].isna().sum())"
   ]
  },
  {
   "cell_type": "markdown",
   "metadata": {},
   "source": [
    "### Working on the column : parking_spots\n",
    "\n",
    "The negative values are impossible. We suspect that the negative sign was incrrectly placed.\n",
    "As the erroneous data has already negatively impacted the mean value, it will be good not to use the mean.\n",
    "1. We instead take absolute value first.\n",
    "2. Next, we replace the missing values with the corrected mean."
   ]
  },
  {
   "cell_type": "code",
   "execution_count": 224,
   "metadata": {},
   "outputs": [
    {
     "name": "stdout",
     "output_type": "stream",
     "text": [
      "[ 3.  1.  8.  0.  2. nan -2.  9. -7.  7. -5.  5.  4. 10. 14. 12. 24.]\n",
      "[ 3.  1.  8.  0.  2. nan  9.  7.  5.  4. 10. 14. 12. 24.]\n",
      "[ 3.  1.  8.  0.  2.  9.  7.  5.  4. 10. 14. 12. 24.]\n"
     ]
    }
   ],
   "source": [
    "print(data.parking_spots.unique())\n",
    "data.loc[data['parking_spots'] < 0, 'parking_spots'] = abs(data['parking_spots'])\n",
    "print(data.parking_spots.unique())\n",
    "data.loc[data.parking_spots.isna(), \"parking_spots\"] = round(data['parking_spots'].mean())\n",
    "print(data.parking_spots.unique())"
   ]
  },
  {
   "cell_type": "code",
   "execution_count": 225,
   "metadata": {},
   "outputs": [
    {
     "data": {
      "text/plain": [
       "<matplotlib.collections.PathCollection at 0x128f426d0>"
      ]
     },
     "execution_count": 225,
     "metadata": {},
     "output_type": "execute_result"
    },
    {
     "data": {
      "image/png": "[encoded data removed]",
      "text/plain": [
       "<Figure size 432x288 with 1 Axes>"
      ]
     },
     "metadata": {
      "needs_background": "light"
     },
     "output_type": "display_data"
    }
   ],
   "source": [
    "plt.scatter(data.price, data.parking_spots)"
   ]
  },
  {
   "cell_type": "markdown",
   "metadata": {},
   "source": [
    "### Working on the column: attached_rooms, lat, lon, year_built\n",
    "\n",
    "1. Placing the rounded mean values for the missing columns.\n",
    "2. The year_built data shows the it has houses of same price from different years. The outliers are not too weird, they are fairly new houses.\n",
    "3. The attached_rooms has 2 outliers that we have spoken about already."
   ]
  },
  {
   "cell_type": "code",
   "execution_count": 226,
   "metadata": {},
   "outputs": [
    {
     "name": "stdout",
     "output_type": "stream",
     "text": [
      "Number of data points with missing values in attached_rooms 12\n",
      "Number of data points with missing values in lat 9\n",
      "Number of data points with missing values in lon 14\n",
      "Number of data points with missing values in year_built 1523\n",
      "Number of data points with missing values in attached_rooms 0\n",
      "Number of data points with missing values in lat 0\n",
      "Number of data points with missing values in lon 0\n",
      "Number of data points with missing values in year_built 0\n"
     ]
    }
   ],
   "source": [
    "print(\"Number of data points with missing values in attached_rooms\", data['attached_rooms'].isna().sum())\n",
    "print(\"Number of data points with missing values in lat\", data['lat'].isna().sum())\n",
    "print(\"Number of data points with missing values in lon\", data['lon'].isna().sum())\n",
    "print(\"Number of data points with missing values in year_built\", data['year_built'].isna().sum())\n",
    "data.loc[data.attached_rooms.isna(), 'attached_rooms'] = round(data['attached_rooms'].mean())\n",
    "data.loc[data.lat.isna(), 'lat'] = round(data['lat'].mean())\n",
    "data.loc[data.lon.isna(), 'lon'] = round(data['lon'].mean())\n",
    "data.loc[data.year_built.isna(), 'year_built'] = round(data['year_built'].mean())\n",
    "print(\"Number of data points with missing values in attached_rooms\", data['attached_rooms'].isna().sum())  \n",
    "print(\"Number of data points with missing values in lat\", data['lat'].isna().sum())\n",
    "print(\"Number of data points with missing values in lon\", data['lon'].isna().sum())\n",
    "print(\"Number of data points with missing values in year_built\", data['year_built'].isna().sum())"
   ]
  },
  {
   "cell_type": "code",
   "execution_count": 227,
   "metadata": {},
   "outputs": [
    {
     "data": {
      "text/plain": [
       "<matplotlib.collections.PathCollection at 0x128de4d30>"
      ]
     },
     "execution_count": 227,
     "metadata": {},
     "output_type": "execute_result"
    },
    {
     "data": {
      "image/png": "[encoded data removed]",
      "text/plain": [
       "<Figure size 432x288 with 1 Axes>"
      ]
     },
     "metadata": {
      "needs_background": "light"
     },
     "output_type": "display_data"
    }
   ],
   "source": [
    "plt.scatter(data.price, data.attached_rooms)"
   ]
  },
  {
   "cell_type": "code",
   "execution_count": 228,
   "metadata": {},
   "outputs": [
    {
     "data": {
      "text/plain": [
       "<matplotlib.collections.PathCollection at 0x128b77820>"
      ]
     },
     "execution_count": 228,
     "metadata": {},
     "output_type": "execute_result"
    },
    {
     "data": {
      "image/png": "[encoded data removed]",
      "text/plain": [
       "<Figure size 432x288 with 1 Axes>"
      ]
     },
     "metadata": {
      "needs_background": "light"
     },
     "output_type": "display_data"
    }
   ],
   "source": [
    "plt.scatter(data.price, data.year_built)"
   ]
  },
  {
   "cell_type": "markdown",
   "metadata": {},
   "source": [
    "### Working on the column: has_elevator\n",
    "\n",
    "We are changing the has_elevator column values to binary values. From the scatter plot, we observe 2 data points without elevator to have high price. However, the price has the same range in both categories. Hence, the data seems fine."
   ]
  },
  {
   "cell_type": "code",
   "execution_count": 229,
   "metadata": {},
   "outputs": [
    {
     "name": "stdout",
     "output_type": "stream",
     "text": [
      "['Yes' 'y' 'yes' 'No' 'nop' 'no']\n",
      "[1 0]\n",
      "object\n"
     ]
    }
   ],
   "source": [
    "print(data.has_elevator.unique())\n",
    "\n",
    "data.loc[data.has_elevator == \"Yes\", \"has_elevator\"] = 1\n",
    "data.loc[data.has_elevator == \"yes\", \"has_elevator\"] = 1\n",
    "data.loc[data.has_elevator == \"y\", \"has_elevator\"] = 1\n",
    "\n",
    "data.loc[data.has_elevator == \"No\", \"has_elevator\"] = 0\n",
    "data.loc[data.has_elevator == \"nop\", \"has_elevator\"] = 0\n",
    "data.loc[data.has_elevator == \"no\", \"has_elevator\"] = 0\n",
    "\n",
    "print(data.has_elevator.unique())\n",
    "print(data.has_elevator.dtype)"
   ]
  },
  {
   "cell_type": "code",
   "execution_count": 230,
   "metadata": {},
   "outputs": [
    {
     "name": "stdout",
     "output_type": "stream",
     "text": [
      "float64\n"
     ]
    }
   ],
   "source": [
    "data = data.astype({'has_elevator': float})\n",
    "print(data.has_elevator.dtype)"
   ]
  },
  {
   "cell_type": "code",
   "execution_count": 231,
   "metadata": {},
   "outputs": [
    {
     "data": {
      "text/plain": [
       "<matplotlib.collections.PathCollection at 0x128b4e850>"
      ]
     },
     "execution_count": 231,
     "metadata": {},
     "output_type": "execute_result"
    },
    {
     "data": {
      "image/png": "[encoded data removed]",
      "text/plain": [
       "<Figure size 432x288 with 1 Axes>"
      ]
     },
     "metadata": {
      "needs_background": "light"
     },
     "output_type": "display_data"
    }
   ],
   "source": [
    "plt.scatter(data.price, data.has_elevator)"
   ]
  },
  {
   "cell_type": "markdown",
   "metadata": {},
   "source": [
    "### Working on the column : overall_condition\n",
    "\n",
    "The scores are modified to integer values."
   ]
  },
  {
   "cell_type": "code",
   "execution_count": 232,
   "metadata": {},
   "outputs": [
    {
     "name": "stdout",
     "output_type": "stream",
     "text": [
      "['Score 3' 'Score 6' 'Score 4' 'Score 5' 'Score 7' 'Score 2' 'Score 9'\n",
      " 'Score 8' 'Score 1' 'Score 0']\n",
      "[3 6 4 5 7 2 9 8 1 0]\n"
     ]
    },
    {
     "data": {
      "text/plain": [
       "<matplotlib.collections.PathCollection at 0x128b4df70>"
      ]
     },
     "execution_count": 232,
     "metadata": {},
     "output_type": "execute_result"
    },
    {
     "data": {
      "image/png": "[encoded data removed]",
      "text/plain": [
       "<Figure size 432x288 with 1 Axes>"
      ]
     },
     "metadata": {
      "needs_background": "light"
     },
     "output_type": "display_data"
    }
   ],
   "source": [
    "print(data.overall_condition.unique())\n",
    "data['overall_condition'] = data['overall_condition'].str.split(n=1).str[1]\n",
    "data['overall_condition'] = pd.to_numeric(data['overall_condition'])\n",
    "print(data.overall_condition.unique())\n",
    "\n",
    "plt.scatter(data.price, data.overall_condition)"
   ]
  },
  {
   "cell_type": "markdown",
   "metadata": {},
   "source": [
    "### Working on the column : type\n",
    "\n",
    "1. more than 84% are apartments. Hence, we assume nan values are apartments\n",
    "2. apartment = 2, house = 1, other = 0"
   ]
  },
  {
   "cell_type": "code",
   "execution_count": 233,
   "metadata": {},
   "outputs": [
    {
     "name": "stdout",
     "output_type": "stream",
     "text": [
      "['house' 'apartment' 'other' nan]\n",
      "Number of data points with missing values in type 9\n",
      "84.39349112426035  % are apartments\n",
      "['house' 'apartment' 'other']\n",
      "[1. 2. 0.]\n"
     ]
    },
    {
     "data": {
      "image/png": "[encoded data removed]",
      "text/plain": [
       "<Figure size 432x288 with 1 Axes>"
      ]
     },
     "metadata": {
      "needs_background": "light"
     },
     "output_type": "display_data"
    }
   ],
   "source": [
    "print(data['type'].unique())\n",
    "#plt.scatter(data.price, data.type)\n",
    "print(\"Number of data points with missing values in type\", data['type'].isna().sum())\n",
    "data['type'].value_counts().plot(kind='bar')\n",
    "sns.despine\n",
    "\n",
    "print(data[data['type'] == \"apartment\"].shape[0] / data.shape[0] * 100, \" % are apartments\")\n",
    "data.loc[data.type.isna(), 'type'] = \"apartment\"\n",
    "print(data['type'].unique())\n",
    "\n",
    "data.loc[data['type'] == \"apartment\", 'type'] = 2\n",
    "data.loc[data['type'] == \"house\", 'type'] = 1\n",
    "data.loc[data['type'] == \"other\", 'type'] = 0\n",
    "\n",
    "data = data.astype({'type': float})\n",
    "print(data['type'].unique())"
   ]
  },
  {
   "cell_type": "markdown",
   "metadata": {},
   "source": [
    "### Working on the column : leasures_available\n",
    "\n",
    "Replacing the leasures_available with the length of the object after splitting by commas. This parameter can be used as another feature as it denotes how many leasure objects are available. However, for a better system, we should have separate binary columns for every individual leasure item in the list. "
   ]
  },
  {
   "cell_type": "code",
   "execution_count": 234,
   "metadata": {},
   "outputs": [
    {
     "name": "stdout",
     "output_type": "stream",
     "text": [
      "1429\n",
      "0\n",
      "object\n"
     ]
    },
    {
     "data": {
      "text/html": [
       "<div>\n",
       "<style scoped>\n",
       "    .dataframe tbody tr th:only-of-type {\n",
       "        vertical-align: middle;\n",
       "    }\n",
       "\n",
       "    .dataframe tbody tr th {\n",
       "        vertical-align: top;\n",
       "    }\n",
       "\n",
       "    .dataframe thead th {\n",
       "        text-align: right;\n",
       "    }\n",
       "</style>\n",
       "<table border=\"1\" class=\"dataframe\">\n",
       "  <thead>\n",
       "    <tr style=\"text-align: right;\">\n",
       "      <th></th>\n",
       "      <th>id</th>\n",
       "      <th>area</th>\n",
       "      <th>bathrooms</th>\n",
       "      <th>bedrooms</th>\n",
       "      <th>condo_fee</th>\n",
       "      <th>parking_spots</th>\n",
       "      <th>attached_rooms</th>\n",
       "      <th>type</th>\n",
       "      <th>lat</th>\n",
       "      <th>lon</th>\n",
       "      <th>year_built</th>\n",
       "      <th>overall_condition</th>\n",
       "      <th>has_elevator</th>\n",
       "      <th>price</th>\n",
       "      <th>num_leasures</th>\n",
       "    </tr>\n",
       "  </thead>\n",
       "  <tbody>\n",
       "    <tr>\n",
       "      <th>count</th>\n",
       "      <td>4056.000000</td>\n",
       "      <td>4056.000000</td>\n",
       "      <td>4056.000000</td>\n",
       "      <td>4056.000000</td>\n",
       "      <td>4056.000000</td>\n",
       "      <td>4056.000000</td>\n",
       "      <td>4056.00000</td>\n",
       "      <td>4056.000000</td>\n",
       "      <td>4056.000000</td>\n",
       "      <td>4056.000000</td>\n",
       "      <td>4056.000000</td>\n",
       "      <td>4056.000000</td>\n",
       "      <td>4056.000000</td>\n",
       "      <td>4.056000e+03</td>\n",
       "      <td>4056.000000</td>\n",
       "    </tr>\n",
       "    <tr>\n",
       "      <th>mean</th>\n",
       "      <td>2377.640039</td>\n",
       "      <td>107.705621</td>\n",
       "      <td>2.267505</td>\n",
       "      <td>2.641026</td>\n",
       "      <td>354.115878</td>\n",
       "      <td>1.652367</td>\n",
       "      <td>1.36859</td>\n",
       "      <td>1.789201</td>\n",
       "      <td>-5.836012</td>\n",
       "      <td>-35.202802</td>\n",
       "      <td>1987.853304</td>\n",
       "      <td>5.048323</td>\n",
       "      <td>0.745809</td>\n",
       "      <td>3.962545e+05</td>\n",
       "      <td>0.744822</td>\n",
       "    </tr>\n",
       "    <tr>\n",
       "      <th>std</th>\n",
       "      <td>1386.164798</td>\n",
       "      <td>95.332348</td>\n",
       "      <td>1.237789</td>\n",
       "      <td>0.855436</td>\n",
       "      <td>366.053766</td>\n",
       "      <td>0.977407</td>\n",
       "      <td>1.01699</td>\n",
       "      <td>0.529469</td>\n",
       "      <td>0.034906</td>\n",
       "      <td>0.020360</td>\n",
       "      <td>12.180655</td>\n",
       "      <td>1.217477</td>\n",
       "      <td>0.435459</td>\n",
       "      <td>2.677453e+05</td>\n",
       "      <td>0.963564</td>\n",
       "    </tr>\n",
       "    <tr>\n",
       "      <th>min</th>\n",
       "      <td>0.000000</td>\n",
       "      <td>20.000000</td>\n",
       "      <td>0.000000</td>\n",
       "      <td>0.000000</td>\n",
       "      <td>0.000000</td>\n",
       "      <td>0.000000</td>\n",
       "      <td>0.00000</td>\n",
       "      <td>0.000000</td>\n",
       "      <td>-6.000000</td>\n",
       "      <td>-35.244931</td>\n",
       "      <td>1956.000000</td>\n",
       "      <td>0.000000</td>\n",
       "      <td>0.000000</td>\n",
       "      <td>6.000000e+04</td>\n",
       "      <td>0.000000</td>\n",
       "    </tr>\n",
       "    <tr>\n",
       "      <th>25%</th>\n",
       "      <td>1177.750000</td>\n",
       "      <td>57.000000</td>\n",
       "      <td>1.000000</td>\n",
       "      <td>2.000000</td>\n",
       "      <td>0.000000</td>\n",
       "      <td>1.000000</td>\n",
       "      <td>1.00000</td>\n",
       "      <td>2.000000</td>\n",
       "      <td>-5.866287</td>\n",
       "      <td>-35.213640</td>\n",
       "      <td>1985.000000</td>\n",
       "      <td>4.000000</td>\n",
       "      <td>0.000000</td>\n",
       "      <td>2.300000e+05</td>\n",
       "      <td>0.000000</td>\n",
       "    </tr>\n",
       "    <tr>\n",
       "      <th>50%</th>\n",
       "      <td>2362.500000</td>\n",
       "      <td>91.000000</td>\n",
       "      <td>2.000000</td>\n",
       "      <td>3.000000</td>\n",
       "      <td>320.000000</td>\n",
       "      <td>2.000000</td>\n",
       "      <td>1.00000</td>\n",
       "      <td>2.000000</td>\n",
       "      <td>-5.828469</td>\n",
       "      <td>-35.202946</td>\n",
       "      <td>1988.000000</td>\n",
       "      <td>5.000000</td>\n",
       "      <td>1.000000</td>\n",
       "      <td>3.300000e+05</td>\n",
       "      <td>0.000000</td>\n",
       "    </tr>\n",
       "    <tr>\n",
       "      <th>75%</th>\n",
       "      <td>3592.250000</td>\n",
       "      <td>128.250000</td>\n",
       "      <td>3.000000</td>\n",
       "      <td>3.000000</td>\n",
       "      <td>560.000000</td>\n",
       "      <td>2.000000</td>\n",
       "      <td>2.00000</td>\n",
       "      <td>2.000000</td>\n",
       "      <td>-5.808273</td>\n",
       "      <td>-35.196668</td>\n",
       "      <td>1998.000000</td>\n",
       "      <td>6.000000</td>\n",
       "      <td>1.000000</td>\n",
       "      <td>5.000000e+05</td>\n",
       "      <td>1.000000</td>\n",
       "    </tr>\n",
       "    <tr>\n",
       "      <th>max</th>\n",
       "      <td>4771.000000</td>\n",
       "      <td>4200.000000</td>\n",
       "      <td>22.000000</td>\n",
       "      <td>22.000000</td>\n",
       "      <td>2500.000000</td>\n",
       "      <td>24.000000</td>\n",
       "      <td>22.00000</td>\n",
       "      <td>2.000000</td>\n",
       "      <td>-5.726315</td>\n",
       "      <td>-35.000000</td>\n",
       "      <td>2010.000000</td>\n",
       "      <td>9.000000</td>\n",
       "      <td>1.000000</td>\n",
       "      <td>5.300000e+06</td>\n",
       "      <td>5.000000</td>\n",
       "    </tr>\n",
       "  </tbody>\n",
       "</table>\n",
       "</div>"
      ],
      "text/plain": [
       "                id         area    bathrooms     bedrooms    condo_fee  \\\n",
       "count  4056.000000  4056.000000  4056.000000  4056.000000  4056.000000   \n",
       "mean   2377.640039   107.705621     2.267505     2.641026   354.115878   \n",
       "std    1386.164798    95.332348     1.237789     0.855436   366.053766   \n",
       "min       0.000000    20.000000     0.000000     0.000000     0.000000   \n",
       "25%    1177.750000    57.000000     1.000000     2.000000     0.000000   \n",
       "50%    2362.500000    91.000000     2.000000     3.000000   320.000000   \n",
       "75%    3592.250000   128.250000     3.000000     3.000000   560.000000   \n",
       "max    4771.000000  4200.000000    22.000000    22.000000  2500.000000   \n",
       "\n",
       "       parking_spots  attached_rooms         type          lat          lon  \\\n",
       "count    4056.000000      4056.00000  4056.000000  4056.000000  4056.000000   \n",
       "mean        1.652367         1.36859     1.789201    -5.836012   -35.202802   \n",
       "std         0.977407         1.01699     0.529469     0.034906     0.020360   \n",
       "min         0.000000         0.00000     0.000000    -6.000000   -35.244931   \n",
       "25%         1.000000         1.00000     2.000000    -5.866287   -35.213640   \n",
       "50%         2.000000         1.00000     2.000000    -5.828469   -35.202946   \n",
       "75%         2.000000         2.00000     2.000000    -5.808273   -35.196668   \n",
       "max        24.000000        22.00000     2.000000    -5.726315   -35.000000   \n",
       "\n",
       "        year_built  overall_condition  has_elevator         price  \\\n",
       "count  4056.000000        4056.000000   4056.000000  4.056000e+03   \n",
       "mean   1987.853304           5.048323      0.745809  3.962545e+05   \n",
       "std      12.180655           1.217477      0.435459  2.677453e+05   \n",
       "min    1956.000000           0.000000      0.000000  6.000000e+04   \n",
       "25%    1985.000000           4.000000      0.000000  2.300000e+05   \n",
       "50%    1988.000000           5.000000      1.000000  3.300000e+05   \n",
       "75%    1998.000000           6.000000      1.000000  5.000000e+05   \n",
       "max    2010.000000           9.000000      1.000000  5.300000e+06   \n",
       "\n",
       "       num_leasures  \n",
       "count   4056.000000  \n",
       "mean       0.744822  \n",
       "std        0.963564  \n",
       "min        0.000000  \n",
       "25%        0.000000  \n",
       "50%        0.000000  \n",
       "75%        1.000000  \n",
       "max        5.000000  "
      ]
     },
     "execution_count": 234,
     "metadata": {},
     "output_type": "execute_result"
    }
   ],
   "source": [
    "print(data.leasures_available.isna().sum())\n",
    "data.loc[data.leasures_available.isna(), 'leasures_available'] = 0\n",
    "print(data.leasures_available.isna().sum())\n",
    "print(data.leasures_available.dtypes)\n",
    "data['num_leasures'] = data['leasures_available'].apply(lambda x: int(x.count(',')) if isinstance(x, str) else 0)\n",
    "data = data.drop('leasures_available', axis = 1)\n",
    "data.describe()"
   ]
  },
  {
   "cell_type": "code",
   "execution_count": 235,
   "metadata": {},
   "outputs": [
    {
     "data": {
      "text/plain": [
       "<function seaborn.utils.despine(fig=None, ax=None, top=True, right=True, left=False, bottom=False, offset=None, trim=False)>"
      ]
     },
     "execution_count": 235,
     "metadata": {},
     "output_type": "execute_result"
    },
    {
     "data": {
      "image/png": "[encoded data removed]",
      "text/plain": [
       "<Figure size 432x288 with 1 Axes>"
      ]
     },
     "metadata": {
      "needs_background": "light"
     },
     "output_type": "display_data"
    }
   ],
   "source": [
    "data['num_leasures'].value_counts().plot(kind='bar')\n",
    "sns.despine"
   ]
  },
  {
   "cell_type": "markdown",
   "metadata": {},
   "source": [
    "## Visualization, Modeling, Machine Learning\n",
    "\n",
    "Can you build a model that can predict property prices and identify how different features influence their decision? Please explain your findings effectively to technical and non-technical audiences using comments and visualizations, if appropriate.\n",
    "- **Build an optimized model that effectively solves the business problem.**\n",
    "- **The model would be evaluated on the basis of mean absolute percent error.**\n",
    "- **Read the Test.csv file and prepare features for testing.**"
   ]
  },
  {
   "cell_type": "code",
   "execution_count": 236,
   "metadata": {},
   "outputs": [
    {
     "data": {
      "text/html": [
       "<div>\n",
       "<style scoped>\n",
       "    .dataframe tbody tr th:only-of-type {\n",
       "        vertical-align: middle;\n",
       "    }\n",
       "\n",
       "    .dataframe tbody tr th {\n",
       "        vertical-align: top;\n",
       "    }\n",
       "\n",
       "    .dataframe thead th {\n",
       "        text-align: right;\n",
       "    }\n",
       "</style>\n",
       "<table border=\"1\" class=\"dataframe\">\n",
       "  <thead>\n",
       "    <tr style=\"text-align: right;\">\n",
       "      <th></th>\n",
       "      <th>id</th>\n",
       "      <th>area</th>\n",
       "      <th>bathrooms</th>\n",
       "      <th>bedrooms</th>\n",
       "      <th>condo_fee</th>\n",
       "      <th>parking_spots</th>\n",
       "      <th>attached_rooms</th>\n",
       "      <th>type</th>\n",
       "      <th>lat</th>\n",
       "      <th>lon</th>\n",
       "      <th>year_built</th>\n",
       "      <th>overall_condition</th>\n",
       "      <th>has_elevator</th>\n",
       "      <th>leasures_available</th>\n",
       "    </tr>\n",
       "  </thead>\n",
       "  <tbody>\n",
       "    <tr>\n",
       "      <th>0</th>\n",
       "      <td>2590</td>\n",
       "      <td>54</td>\n",
       "      <td>2.0</td>\n",
       "      <td>2.0</td>\n",
       "      <td>0</td>\n",
       "      <td>1</td>\n",
       "      <td>1</td>\n",
       "      <td>apartment</td>\n",
       "      <td>-5.882136</td>\n",
       "      <td>-35.172217</td>\n",
       "      <td>2004.0</td>\n",
       "      <td>Score 6</td>\n",
       "      <td>yes</td>\n",
       "      <td>NaN</td>\n",
       "    </tr>\n",
       "    <tr>\n",
       "      <th>1</th>\n",
       "      <td>242</td>\n",
       "      <td>92</td>\n",
       "      <td>3.0</td>\n",
       "      <td>3.0</td>\n",
       "      <td>575</td>\n",
       "      <td>2</td>\n",
       "      <td>1</td>\n",
       "      <td>apartment</td>\n",
       "      <td>-5.867429</td>\n",
       "      <td>-35.196668</td>\n",
       "      <td>1966.0</td>\n",
       "      <td>Score 6</td>\n",
       "      <td>yes</td>\n",
       "      <td>BARBECUE SPACE,PLAYGROUND,SPORTS COURT</td>\n",
       "    </tr>\n",
       "    <tr>\n",
       "      <th>2</th>\n",
       "      <td>2946</td>\n",
       "      <td>98</td>\n",
       "      <td>2.0</td>\n",
       "      <td>4.0</td>\n",
       "      <td>0</td>\n",
       "      <td>2</td>\n",
       "      <td>2</td>\n",
       "      <td>apartment</td>\n",
       "      <td>-5.857640</td>\n",
       "      <td>-35.201449</td>\n",
       "      <td>NaN</td>\n",
       "      <td>Score 2</td>\n",
       "      <td>Yes</td>\n",
       "      <td>NaN</td>\n",
       "    </tr>\n",
       "    <tr>\n",
       "      <th>3</th>\n",
       "      <td>758</td>\n",
       "      <td>182</td>\n",
       "      <td>5.0</td>\n",
       "      <td>3.0</td>\n",
       "      <td>1200</td>\n",
       "      <td>3</td>\n",
       "      <td>3</td>\n",
       "      <td>apartment</td>\n",
       "      <td>-5.812787</td>\n",
       "      <td>-35.204990</td>\n",
       "      <td>1993.0</td>\n",
       "      <td>Score 5</td>\n",
       "      <td>nop</td>\n",
       "      <td>steam room,gym,sports court</td>\n",
       "    </tr>\n",
       "    <tr>\n",
       "      <th>4</th>\n",
       "      <td>1160</td>\n",
       "      <td>69</td>\n",
       "      <td>2.0</td>\n",
       "      <td>3.0</td>\n",
       "      <td>250</td>\n",
       "      <td>1</td>\n",
       "      <td>0</td>\n",
       "      <td>apartment</td>\n",
       "      <td>-5.843724</td>\n",
       "      <td>-35.221448</td>\n",
       "      <td>2001.0</td>\n",
       "      <td>Score 4</td>\n",
       "      <td>No</td>\n",
       "      <td>barbecue space,PLAYGROUND</td>\n",
       "    </tr>\n",
       "  </tbody>\n",
       "</table>\n",
       "</div>"
      ],
      "text/plain": [
       "     id  area  bathrooms  bedrooms  condo_fee  parking_spots  attached_rooms  \\\n",
       "0  2590    54        2.0       2.0          0              1               1   \n",
       "1   242    92        3.0       3.0        575              2               1   \n",
       "2  2946    98        2.0       4.0          0              2               2   \n",
       "3   758   182        5.0       3.0       1200              3               3   \n",
       "4  1160    69        2.0       3.0        250              1               0   \n",
       "\n",
       "        type       lat        lon  year_built overall_condition has_elevator  \\\n",
       "0  apartment -5.882136 -35.172217      2004.0           Score 6          yes   \n",
       "1  apartment -5.867429 -35.196668      1966.0           Score 6          yes   \n",
       "2  apartment -5.857640 -35.201449         NaN           Score 2          Yes   \n",
       "3  apartment -5.812787 -35.204990      1993.0           Score 5          nop   \n",
       "4  apartment -5.843724 -35.221448      2001.0           Score 4           No   \n",
       "\n",
       "                       leasures_available  \n",
       "0                                     NaN  \n",
       "1  BARBECUE SPACE,PLAYGROUND,SPORTS COURT  \n",
       "2                                     NaN  \n",
       "3             steam room,gym,sports court  \n",
       "4               barbecue space,PLAYGROUND  "
      ]
     },
     "execution_count": 236,
     "metadata": {},
     "output_type": "execute_result"
    }
   ],
   "source": [
    "#Loading Test data\n",
    "test_data=pd.read_csv('test.csv')\n",
    "test_data.head()"
   ]
  },
  {
   "cell_type": "markdown",
   "metadata": {},
   "source": []
  },
  {
   "cell_type": "markdown",
   "metadata": {},
   "source": [
    "\n",
    "\n",
    "**The management wants to know what are the most important features for your model.  Can you tell them?**\n",
    "\n",
    "> #### Task:\n",
    "- **Visualize the top 20 features and their feature importance.**\n"
   ]
  },
  {
   "cell_type": "markdown",
   "metadata": {},
   "source": [
    "## Understanding Feature correlation\n",
    "Using Pearson Correlation to understand the relation between different columns and price.\n",
    "It nicely plots a heatmap from the covariance matrix of the features.\n",
    "\n",
    "Note that we are highly interested with the correlation of different features with price.\n",
    "From the following plot we have a few observations.\n",
    "1. We observe area has a high pearson coefficient with price.\n",
    "2. We observe that if we sort the features according to their pearson correlation, they are as follows. area, attached_room, bathroom, bedroom, parking_slot, condo fee, etc.\n"
   ]
  },
  {
   "cell_type": "code",
   "execution_count": 251,
   "metadata": {},
   "outputs": [
    {
     "name": "stderr",
     "output_type": "stream",
     "text": [
      "/usr/local/lib/python3.9/site-packages/pandas/plotting/_matplotlib/tools.py:331: MatplotlibDeprecationWarning: \n",
      "The is_first_col function was deprecated in Matplotlib 3.4 and will be removed two minor releases later. Use ax.get_subplotspec().is_first_col() instead.\n",
      "  if ax.is_first_col():\n"
     ]
    },
    {
     "data": {
      "text/plain": [
       "array([[<AxesSubplot:title={'center':'area'}>,\n",
       "        <AxesSubplot:title={'center':'bathrooms'}>,\n",
       "        <AxesSubplot:title={'center':'bedrooms'}>,\n",
       "        <AxesSubplot:title={'center':'condo_fee'}>],\n",
       "       [<AxesSubplot:title={'center':'parking_spots'}>,\n",
       "        <AxesSubplot:title={'center':'attached_rooms'}>,\n",
       "        <AxesSubplot:title={'center':'type'}>,\n",
       "        <AxesSubplot:title={'center':'lat'}>],\n",
       "       [<AxesSubplot:title={'center':'lon'}>,\n",
       "        <AxesSubplot:title={'center':'year_built'}>,\n",
       "        <AxesSubplot:title={'center':'overall_condition'}>,\n",
       "        <AxesSubplot:title={'center':'has_elevator'}>],\n",
       "       [<AxesSubplot:title={'center':'num_leasures'}>, <AxesSubplot:>,\n",
       "        <AxesSubplot:>, <AxesSubplot:>]], dtype=object)"
      ]
     },
     "execution_count": 251,
     "metadata": {},
     "output_type": "execute_result"
    },
    {
     "data": {
      "image/png": "[encoded data removed]",
      "text/plain": [
       "<Figure size 432x288 with 16 Axes>"
      ]
     },
     "metadata": {
      "needs_background": "light"
     },
     "output_type": "display_data"
    }
   ],
   "source": [
    "data.hist()"
   ]
  },
  {
   "cell_type": "code",
   "execution_count": 237,
   "metadata": {},
   "outputs": [
    {
     "data": {
      "image/png": "[encoded data removed]",
      "text/plain": [
       "<Figure size 864x720 with 2 Axes>"
      ]
     },
     "metadata": {
      "needs_background": "light"
     },
     "output_type": "display_data"
    }
   ],
   "source": [
    "data = data.drop('id', axis = 1)\n",
    "\n",
    "plt.figure(figsize=(12,10))\n",
    "cor = data.corr()\n",
    "sns.heatmap(cor, annot=True, cmap=plt.cm.Reds)\n",
    "plt.show()"
   ]
  },
  {
   "cell_type": "markdown",
   "metadata": {},
   "source": [
    "### This is a crucial step for Variable elimination.\n",
    "\n",
    "We want to get rid of the nuisance variables. One of the ways to do that is to use marginalisation.\n",
    "https://towardsdatascience.com/probability-concepts-explained-marginalisation-2296846344fc\n",
    "\n",
    "\n",
    "### Feature selection \n",
    "\n",
    "A crucial step is a feature selection. The reason we should not provide all the features as input and let the ML algorithm decide is as follows.\n",
    "1. Curse of dimentionality: the feature space increases unnecessarily -> the number of configurations grow exponentially -> the number of observations for each configuration decreases.\n",
    "2. Occam's razor: the model becomes unnesarily complex and unexplainable.\n",
    "3. Poor input leads to poor output. we should not let the garbage in, such as id or name.\n",
    "\n",
    "There are primarily three ways to decide what are the most important features.\n",
    "1. Filter based: We specify some metric and based on that filter features. An example of such a metric could be correlation/chi-square.\n",
    "2. Wrapper-based: Wrapper methods consider the selection of a set of features as a search problem. Example: Recursive Feature Elimination\n",
    "3. Embedded: Embedded methods use algorithms that have built-in feature selection methods. For instance, Lasso and RF have their own feature selection methods.\n",
    "\n",
    "Pearson correlation is a popular measure to understand correlation between the target variable and the features. \n",
    "Pearson correlation, $r = \\frac{\\sum{(x - \\bar{x})(y - \\bar{y})}}{\\sqrt{\\sum{(x - \\bar{x})^2 (y - \\bar{y})^2}}}$\n",
    "\n",
    "There can be redundant features that are linearly correlated.\n",
    "\n",
    "Similarly, chi-square between the target variable and a numerical feature (the more, the merrier) is defined as follows.\n",
    "Chi-square, ${\\chi}^2 = \\sum_{i=1}^{n} \\frac{(O_i - E_i)^2}{E_i}$ \n",
    "Where $O_i$ is the number of observation in a class and $E_i$ denotes the number of expected observations in a class if there was no relationship between the feature and the target.\n",
    "\n",
    "The goal of recursive feature elimination (RFE) is to select features by recursively considering smaller and smaller sets of features. First, the estimator is trained on the initial set of features and the importance of each feature is obtained either through a coef_ attribute or through a feature_importances_ attribute. Then, the least important features are pruned from current set of features. That procedure is recursively repeated on the pruned set until the desired number of features to select is eventually reached.\n",
    "\n",
    "\n",
    "https://towardsdatascience.com/the-5-feature-selection-algorithms-every-data-scientist-need-to-know-3a6b566efd2"
   ]
  },
  {
   "cell_type": "code",
   "execution_count": 238,
   "metadata": {},
   "outputs": [
    {
     "name": "stdout",
     "output_type": "stream",
     "text": [
      "['area', 'bathrooms', 'bedrooms', 'condo_fee', 'parking_spots', 'attached_rooms', 'type', 'lat', 'lon', 'year_built', 'overall_condition', 'has_elevator', 'price', 'num_leasures']\n",
      "[1. 2. 0.]\n",
      "area 0.6273551305345832\n",
      "bathrooms 0.47275380592430816\n",
      "bedrooms 0.42008215306515473\n",
      "condo_fee 0.20159336324070137\n",
      "parking_spots 0.5807394849199811\n",
      "attached_rooms 0.5311750908460413\n",
      "type 0.009966991932332428\n",
      "lat 0.11058709693791825\n",
      "lon 0.15373506123586106\n",
      "year_built 0.0046630489037768124\n",
      "overall_condition 0.005879178183218056\n",
      "has_elevator 0.004163538537371853\n",
      "price 1.0\n",
      "num_leasures 0.07079365388315832\n",
      "[0.6273551305345832, 0.47275380592430816, 0.42008215306515473, 0.20159336324070137, 0.5807394849199811, 0.5311750908460413, 0.009966991932332428, 0.11058709693791825, 0.15373506123586106, 0.0046630489037768124, 0.005879178183218056, 0.004163538537371853, 1.0, 0.07079365388315832] ['type', 'num_leasures', 'lat', 'lon', 'condo_fee', 'bedrooms', 'bathrooms', 'attached_rooms', 'parking_spots', 'area', 'price'] [True, True, True, True, True, True, True, True, True, False, False, False, True, True]\n"
     ]
    }
   ],
   "source": [
    "cor_list = []\n",
    "feature_name = data.columns.tolist()\n",
    "print(feature_name)\n",
    "print(data.type.unique())\n",
    "for i in feature_name:\n",
    "    cor = np.corrcoef(data[i], data['price'])\n",
    "    print(i, cor[0,1])\n",
    "    cor_list.append(cor[0,1])\n",
    "cor_list = [0 if np.isnan(i) else i for i in cor_list]\n",
    "cor_feature = data.iloc[:,np.argsort(np.abs(cor_list))[-11:]].columns.tolist()\n",
    "cor_support = [True if i in cor_feature else False for i in feature_name]\n",
    "print(cor_list, cor_feature, cor_support)"
   ]
  },
  {
   "cell_type": "code",
   "execution_count": 239,
   "metadata": {},
   "outputs": [
    {
     "name": "stdout",
     "output_type": "stream",
     "text": [
      "11 selected features are: ['area', 'bathrooms', 'condo_fee', 'parking_spots', 'attached_rooms', 'type', 'lon', 'year_built', 'has_elevator', 'price', 'num_leasures']\n"
     ]
    }
   ],
   "source": [
    "from sklearn.feature_selection import SelectKBest\n",
    "from sklearn.feature_selection import chi2\n",
    "from sklearn.preprocessing import MinMaxScaler\n",
    "data_norm = MinMaxScaler().fit_transform(data)\n",
    "chi_selector = SelectKBest(chi2, k=11)\n",
    "chi_selector.fit(data_norm, data['price'])\n",
    "chi_support = chi_selector.get_support()\n",
    "chi_feature = data.loc[:,chi_support].columns.tolist()\n",
    "print(str(len(chi_feature)), 'selected features are:', chi_feature)"
   ]
  },
  {
   "cell_type": "code",
   "execution_count": 240,
   "metadata": {},
   "outputs": [
    {
     "name": "stdout",
     "output_type": "stream",
     "text": [
      "Fitting estimator with 14 features.\n"
     ]
    },
    {
     "name": "stderr",
     "output_type": "stream",
     "text": [
      "/usr/local/lib/python3.9/site-packages/sklearn/linear_model/_logistic.py:814: ConvergenceWarning: lbfgs failed to converge (status=1):\n",
      "STOP: TOTAL NO. of ITERATIONS REACHED LIMIT.\n",
      "\n",
      "Increase the number of iterations (max_iter) or scale the data as shown in:\n",
      "    https://scikit-learn.org/stable/modules/preprocessing.html\n",
      "Please also refer to the documentation for alternative solver options:\n",
      "    https://scikit-learn.org/stable/modules/linear_model.html#logistic-regression\n",
      "  n_iter_i = _check_optimize_result(\n"
     ]
    },
    {
     "name": "stdout",
     "output_type": "stream",
     "text": [
      "5 selected features are: ['bathrooms', 'type', 'lat', 'has_elevator', 'price']\n"
     ]
    },
    {
     "name": "stderr",
     "output_type": "stream",
     "text": [
      "/usr/local/lib/python3.9/site-packages/sklearn/linear_model/_logistic.py:814: ConvergenceWarning: lbfgs failed to converge (status=1):\n",
      "STOP: TOTAL NO. of ITERATIONS REACHED LIMIT.\n",
      "\n",
      "Increase the number of iterations (max_iter) or scale the data as shown in:\n",
      "    https://scikit-learn.org/stable/modules/preprocessing.html\n",
      "Please also refer to the documentation for alternative solver options:\n",
      "    https://scikit-learn.org/stable/modules/linear_model.html#logistic-regression\n",
      "  n_iter_i = _check_optimize_result(\n"
     ]
    }
   ],
   "source": [
    "from sklearn.feature_selection import RFE\n",
    "from sklearn.linear_model import LogisticRegression\n",
    "rfe_selector = RFE(estimator=LogisticRegression(), n_features_to_select=5, step=10, verbose=5)\n",
    "rfe_selector.fit(data_norm, data['price'])\n",
    "rfe_support = rfe_selector.get_support()\n",
    "rfe_feature = data.loc[:,rfe_support].columns.tolist()\n",
    "print(str(len(rfe_feature)), 'selected features are:', rfe_feature)"
   ]
  },
  {
   "cell_type": "markdown",
   "metadata": {},
   "source": [
    "#### Checking the accuracy of the system built with different feature selection algorithms\n",
    "\n",
    "We use two feature selection algorithms here. \n",
    "1. correlation statistics (measures Pearson correlation coefficient)\n",
    "2. mutual information statistics (measures the reduction in uncertainty for one variable given a known value of the other variable)\n",
    "\n",
    "https://machinelearningmastery.com/feature-selection-for-regression-data/"
   ]
  },
  {
   "cell_type": "code",
   "execution_count": null,
   "metadata": {},
   "outputs": [],
   "source": [
    "y = pd.DataFrame(data['price'])\n",
    "y = np.ravel(y)\n",
    "data = data.drop('price', axis = 1)"
   ]
  },
  {
   "cell_type": "code",
   "execution_count": 250,
   "metadata": {},
   "outputs": [
    {
     "name": "stdout",
     "output_type": "stream",
     "text": [
      "MAE: 99449.755\n",
      "MAE / X_test_average_price: 0.24904585695077325\n"
     ]
    }
   ],
   "source": [
    "from sklearn.model_selection import train_test_split\n",
    "from sklearn.feature_selection import SelectKBest\n",
    "from sklearn.feature_selection import f_regression\n",
    "from sklearn.metrics import mean_absolute_error\n",
    "\n",
    "\n",
    "def select_correlated_beased_features(X_train, y_train, X_test):\n",
    "    # configure to select a subset of features\n",
    "    fs = SelectKBest(score_func=f_regression, k=10)\n",
    "    # learn relationship from training data\n",
    "    fs.fit(X_train, y_train)\n",
    "    # transform train input data\n",
    "    X_train_fs = fs.transform(X_train)\n",
    "    # transform test input data\n",
    "    X_test_fs = fs.transform(X_test)\n",
    "    return X_train_fs, X_test_fs, fs\n",
    "\n",
    "from sklearn.feature_selection import mutual_info_regression\n",
    "def select_ig_based_features(X_train, y_train, X_test):\n",
    "    # configure to select a subset of features\n",
    "    fs = SelectKBest(score_func=mutual_info_regression, k=10)\n",
    "    # learn relationship from training data\n",
    "    fs.fit(X_train, y_train)\n",
    "    # transform train input data\n",
    "    X_train_fs = fs.transform(X_train)\n",
    "    # transform test input data\n",
    "    X_test_fs = fs.transform(X_test)\n",
    "    return X_train_fs, X_test_fs, fs\n",
    "\n",
    "\n",
    "X_train, X_test, y_train, y_test = train_test_split(data, y, test_size=0.33, random_state=1)\n",
    "X_train_fs, X_test_fs, fs = select_correlated_beased_features(X_train, y_train, X_test)\n",
    "semi_model = LinearRegression()\n",
    "semi_model.fit(X_train_fs, y_train)\n",
    "# evaluate the model\n",
    "yhat = semi_model.predict(X_test_fs)\n",
    "# evaluate predictions with mae error\n",
    "mae = mean_absolute_error(y_test, yhat)\n",
    "print('MAE: %.3f' % mae)\n",
    "print(\"MAE / X_test_average_price:\", mae / y_test.mean())"
   ]
  },
  {
   "cell_type": "markdown",
   "metadata": {},
   "source": [
    "## Bias vs Variance:\n",
    "\n",
    "Tradeoff between a model’s ability to minimize bias and variance. In other words, high variance leads to overfitting and high bias leads to underfitting. Ideally, we want a system with no prediction error => low bias and low variance.\n",
    "\n",
    "$\\text{Error in model } X = {Bias}^2 + {Variance} + \\text{Irreducible error}$\n",
    "\n",
    "### Bias\n",
    "Bias is the amount that a model’s prediction differs from the target value, compared to the training data. Bias error results from simplifying the assumptions used in a model so the target functions are easier to approximate. Bias can be introduced by model selection. \n",
    "\n",
    "Data scientists conduct resampling to repeat the model building process and derive the average of prediction values. Resampling data is the process of extracting new samples from a data set in order to get more accurate results. There are a variety of ways to resample data including:\n",
    "1. K fold resampling, in which a given data set is split into a K number of sections, or folds, where each fold is used as a testing set.\n",
    "2. Bootstrapping, which involves iteratively resampling a dataset with replacement.\n",
    "\n",
    "\n",
    "### Variance\n",
    "Variation in the ML model's prediction -> spread of prediction. Model with high variance does not generalize the data it has not seen before. Hence, model perform well on the training data, but poorly on the testing data. Variance measures the inconsistency of different predictions using different training sets — it’s not a measure of overall accuracy.\n",
    "\n",
    "In supervised learning, underfitting happens when a model unable to capture the underlying pattern of the data. These models usually have high bias and low variance usually in following occassions. \n",
    "1. We have very less amount of data to build an accurate model \n",
    "2. We try to build a linear model with a nonlinear data. \n",
    "3. Very simple models (like Linear and Logistic regression) are used to capture the complex patterns in data.\n",
    "\n",
    "In supervised learning, overfitting happens when our model captures the noise along with the underlying pattern in data. These models have low bias and high variance.\n",
    "1. It happens when we train our model a lot over noisy dataset. \n",
    "2. These models are very complex like Decision trees which are prone to overfitting.\n",
    "\n",
    "\n",
    "references:\n",
    "https://towardsdatascience.com/understanding-the-bias-variance-tradeoff-165e6942b229\n"
   ]
  },
  {
   "cell_type": "markdown",
   "metadata": {},
   "source": [
    "## Creating the model with linear regression\n",
    "\n",
    "For a linear regression problem, input feature vector = $x^{i}$ and target variable = $y^{i}$. We refer to $(x^{i}, y^{i})$ as a training pair. $X = \\{x^{i}\\}$ and $y = \\{y^{i}\\}$ are the training vector and labels.\n",
    "\n",
    "An **hypothesis** is an assumption of a linear equation that fits over the data, say $(\\theta_0, \\theta_1)$, i.e. the equation is $\\theta_0 . x^{i} + \\theta_1 = y^{i}$ is the hypothesis $h_{\\theta}$.\n",
    "\n",
    "**Cost function:** Measurement of accuracy of the hypothesis over $m$ sample points (training data points). One such. good measure is half of the mean of squares of difference between predicted and actual label.\n",
    "$$J(\\theta_0, \\theta_1) = \\frac{1}{2m} \\sum_{i = 1}^{m} (\\hat{y_i} - y_i)^2 = \\frac{1}{2m} \\sum_{i = 1}^{m} (h_{\\theta}(x_i) - y_i)^2$$\n",
    "\n",
    "Our objective is to reduce the error/cost function: $minimize_{\\theta_0, \\theta_1} J(\\theta_0, \\theta_1)$.\n",
    "For the best fitted line: $J(\\theta_0, \\theta_1) = 0$.\n",
    "\n",
    "For linear regression, the objective function that we are trying to minimize is a convex function. Gradeient descent is an efficient algorithm to optimize the cost function and hence to find the best fitted line."
   ]
  },
  {
   "cell_type": "markdown",
   "metadata": {},
   "source": [
    "## Gradient Descent Variants\n",
    "\n",
    "### Batch Gradient Descent (GD)\n",
    "Vanilla gradient descent, aka batch gradient descent, computes the gradient of the cost function w.r.t. to the parameters for the entire training dataset. It updates the $\\theta_{i}$'s so that $J(\\theta_0, \\theta_1) = J(\\theta)$ minimizes and reaches the minima eventually.\n",
    "$$\\theta = \\theta - \\eta . \\frac{\\partial J(\\theta)}{\\partial \\theta_j} = \\theta - \\eta . \\nabla_{\\theta} J(\\theta) \\text{ , where } J(\\theta) \\text{ is the loss function and } \\eta \\text{ is the learning rate.}$$\n",
    "\n",
    "The updates happen as follows:\n",
    "$$ temp_0 = \\theta_0 - \\eta . \\nabla_{\\theta_0} J(\\theta_0, \\theta_1) $$\n",
    "$$ temp_1 = \\theta_1 - \\eta . \\nabla_{\\theta_1} J(\\theta_0, \\theta_1) $$\n",
    "$$ \\theta_0 = temp_0 \\text{ and } \\theta_1 = temp_1 $$\n",
    "\n",
    "For a convex function with only a global minima, it is guaranteed to converge. If the starting point is at right of the minima, the derivative is positive as the slope is positive. Similarly, if the starting point is at left side of the minima, the derivative is negative as the slope is negative.\n",
    "\n",
    "#### Q: How does the choice of $\\eta$ matter?\n",
    "1. If $\\eta$ is too small: GD takes too long to stabilize.\n",
    "2. If $\\eta$ is too large: GD may overshoot the minima, hence fail to converge, even diverge. With $\\eta$ sufficiently large, $J(\\theta)$ increases at every iteration.\n",
    "\n",
    "#### Q: Do we need to reduce $\\eta$ as we proceed towards convergence?\n",
    "As we move closer to the minima, GD needs to take smaller steps to prevent overshooting. Does it need to reduce $\\eta$? No! Because the other term, the slope, is getting smaller and smaller. It makes GD take smaller step at every iteration.\n",
    "\n",
    "![alt text](learning_rate.jpg \"Learning Rate\")\n",
    "\n",
    "#### Example\n",
    "\n",
    "$$\\frac{\\partial J(\\theta)}{\\partial \\theta_j} = \\frac{\\partial }{\\partial \\theta_j} \\frac{1}{2}(h_{\\theta}(x) - y)^2 = (h_{\\theta}(x) - y) \\frac{\\partial }{\\partial \\theta_j} (h_{\\theta}(x) - y) = (h_{\\theta}(x) - y) \\frac{\\partial }{\\partial \\theta_j} (\\sum_{i = 0}^{n} \\theta_i x_i - y) = (h_{\\theta}(x) - y) x_j$$\n",
    "$$h_{\\theta}(x) = \\theta_0 + \\theta_1 x_1 + \\dots + \\theta_n x_n = [\\theta_0 \\theta_1 ... \\theta_n] . [x_1 x_2 \\dots x_n]^{T} = \\theta^{T} x \\implies \\theta_j = \\theta_j - \\frac{\\eta}{m} \\sum_{i = 1}^{m} (h_{\\theta}(x^{(i)}) - y^{(i)}) x_j^{(i)}$$\n",
    "\n",
    "#### Disadvantage:\n",
    "As we need to calculate the gradients for the whole dataset to perform just one update, batch gradient descent can be very slow and is intractable for datasets that don't fit in memory. Batch gradient descent also doesn't allow us to update our model online, i.e. with new examples on-the-fly.\n",
    "\n",
    "For a pre-defined number of epochs, we first compute the gradient vector of the loss function for the whole dataset w.r.t. our parameter vector. We then update our parameters in the opposite direction of the gradients with the learning rate determining how big of an update we perform. Batch gradient descent is guaranteed to converge to the global minimum for convex error surfaces and to a local minimum for non-convex surfaces."
   ]
  },
  {
   "cell_type": "code",
   "execution_count": 166,
   "metadata": {},
   "outputs": [
    {
     "data": {
      "text/plain": [
       "LinearRegression()"
      ]
     },
     "execution_count": 166,
     "metadata": {},
     "output_type": "execute_result"
    }
   ],
   "source": [
    "model = LinearRegression()\n",
    "model.fit(data, y)"
   ]
  },
  {
   "cell_type": "markdown",
   "metadata": {},
   "source": [
    "### Normalization\n",
    "\n",
    "Normalization is a useful trick for **quick stabilization of gradient descent**. It is a combination of feature scaling and mean normalization: $x_i = \\frac{x_i - \\mu_i}{\\sigma_i}$.\n",
    "\n",
    "Finding $\\theta$ without any iteration: $\\theta = (X^{T}X)^{-1} X^{T} y$."
   ]
  },
  {
   "cell_type": "markdown",
   "metadata": {},
   "source": [
    "### Stochastic Gradient Descent (SGD)\n",
    "SGD, in contrast, performs a parameter update for each training example $x_i$ and label $y_i$.\n",
    "$$\\theta = \\theta - \\eta . \\Delta_{\\theta} J(\\theta; x^{(i)}; y^{(i)})$$\n",
    "Batch gradient descent performs redundant computations for large datasets, as it recomputes gradients for similar examples before each parameter update. SGD does away with this redundancy by performing one update at a time. It is therefore usually much faster and can also be used to learn online. \n",
    "\n",
    "SGD performs frequent updates with a high variance that cause the objective function to fluctuate heavily. While batch gradient descent converges to the minimum of the basin the parameters are placed in, SGD's fluctuation, on the one hand, enables it to jump to new and potentially better local minima. On the other hand, this ultimately complicates convergence to the exact minimum, as SGD will keep overshooting. However, it has been shown that when we slowly decrease the learning rate, SGD shows the same convergence behaviour as batch gradient descent, almost certainly converging to a local or the global minimum for non-convex and convex optimization respectively.\n",
    "\n",
    "### Mini-batch gradient descent\n",
    "Mini-batch gradient descent finally takes the best of both worlds and performs an update for every mini-batch of n training examples.\n",
    "$$\\theta = \\theta - \\eta . \\Delta_{\\theta} J(\\theta; x^{(i:i+n)}; y^{(i:i+n)})$$\n",
    "Advantage:\n",
    "1. It reduces the variance of the parameter updates, which can lead to more stable convergence\n",
    "2. It can make use of highly optimized matrix optimizations common to state-of-the-art deep learning libraries that make computing the gradient w.r.t. a mini-batch very efficient.\n",
    "\n",
    "## Gradient Descent Optimization\n",
    "\n",
    "### Momentum\n",
    "SGD has trouble navigating ravines, i.e. areas where the surface curves much more steeply in one dimension than in another, which are common around local optima. In these scenarios, SGD oscillates across the slopes of the ravine while only making hesitant progress along the bottom towards the local optimum.\n",
    "\n",
    "Momentum is a method that helps accelerate SGD in the relevant direction and dampens oscillations. It does this by adding a fraction $\\gamma$ of the update vector of the past time step to the current update vector:\n",
    "$$v_t = \\gamma . v_{t-1} + \\eta . \\nabla_{\\theta} J(\\theta) \\text{ and } \\theta = \\theta - v_t$$\n",
    "\n",
    "Essentially, when using momentum, we push a ball down a hill. The ball accumulates momentum as it rolls downhill, becoming faster and faster on the way (until it reaches its terminal velocity if there is air resistance, i.e. $\\gamma < 1$). The same thing happens to our parameter updates: The momentum term increases for dimensions whose gradients point in the same directions and reduces updates for dimensions whose gradients change directions. As a result, we gain faster convergence and reduced oscillation.\n",
    "\n",
    "### Nesterov Accelerated Gradient\n",
    "What if the ball that rolls down a hill, instead of blindly following the slope, is smarter and has a notion of where it is going in that it knows to slow down before the hill slopes up again. We achieve that using Nesterov accelerated gradient (NAG). We modify the update function as follows.\n",
    "$$v_t = \\gamma . v_{t-1} + \\eta . \\nabla_{\\theta} J(\\theta - \\gamma v_{t-1}) \\text{ and } \\theta = \\theta - v_t$$\n",
    "\n",
    "This gives us an approximation of the next position of the parameters (the gradient is missing for the full update), a rough idea where our parameters are going to be. We can now effectively look ahead by calculating the gradient not w.r.t. to our current parameters $\\theta$ but w.r.t. the approximate future position of our parameters.\n",
    "\n",
    "### Adaptive Moment Estimation (Adam)\n",
    "It computes adaptive learning rates for each parameter. In addition to storing an exponentially decaying average of past squared gradients $v_t$. Adam also keeps an exponentially decaying average of past gradients $m_t$. Whereas momentum can be seen as a ball running down a slope, Adam behaves like a heavy ball with friction, which thus prefers flat minima in the error surface. We compute the decaying averages of past and past squared gradients $m_t$ and $v_t$ respectively as follows. \n",
    "$$m_t = \\beta_1 m_{t-1} + (1 - \\beta_1)g_t \\text{ and } v_t = \\beta_2 v_{t-1} + (1 - \\beta_2)g_t^2$$\n",
    "$m_t$ and $v_t$ are estimates of the first moment (the mean) and the second moment (the uncentered variance) of the gradients respectively.\n",
    "\n",
    "As $m_t$ and $v_t$ are initialized as vectors of 0's, the authors of Adam observe that they are biased towards zero, especially during the initial time steps, and especially when the decay rates are small (i.e. $\\beta_1$ and $\\beta_2$ are close to 1). To counteract these biases, we compute bias-corrected first and second moment estimates as follows.\n",
    "$$\\hat{m_t} = \\frac{m_t}{1 - \\beta_1^{t}} \\text{ and } \\hat{v_t} = \\frac{v_t}{1 - \\beta_2^{t}}$$\n",
    "\n",
    "https://ruder.io/optimizing-gradient-descent/\n",
    "https://towardsdatascience.com/linear-regression-using-gradient-descent-97a6c8700931"
   ]
  },
  {
   "cell_type": "markdown",
   "metadata": {},
   "source": [
    "> #### Task:\n",
    "- **Submit the predictions on the test dataset using your optimized model** <br/>\n",
    "    For each record in the test set (`Test.csv`), you must predict the value of the `price` variable. You should submit a CSV file with a header row and one row per test entry. The file (submissions.csv) should have exactly 2 columns:\n",
    "\n",
    "The file (`submissions.csv`) should have exactly 2 columns:\n",
    "   - **id**\n",
    "   - **price**"
   ]
  },
  {
   "cell_type": "code",
   "execution_count": 169,
   "metadata": {},
   "outputs": [
    {
     "name": "stdout",
     "output_type": "stream",
     "text": [
      "Index(['area', 'bathrooms', 'bedrooms', 'condo_fee', 'parking_spots',\n",
      "       'attached_rooms', 'type', 'lat', 'lon', 'year_built',\n",
      "       'overall_condition', 'has_elevator', 'num_leasures'],\n",
      "      dtype='object')\n"
     ]
    },
    {
     "data": {
      "text/html": [
       "<div>\n",
       "<style scoped>\n",
       "    .dataframe tbody tr th:only-of-type {\n",
       "        vertical-align: middle;\n",
       "    }\n",
       "\n",
       "    .dataframe tbody tr th {\n",
       "        vertical-align: top;\n",
       "    }\n",
       "\n",
       "    .dataframe thead th {\n",
       "        text-align: right;\n",
       "    }\n",
       "</style>\n",
       "<table border=\"1\" class=\"dataframe\">\n",
       "  <thead>\n",
       "    <tr style=\"text-align: right;\">\n",
       "      <th></th>\n",
       "      <th>area</th>\n",
       "      <th>bathrooms</th>\n",
       "      <th>bedrooms</th>\n",
       "      <th>condo_fee</th>\n",
       "      <th>parking_spots</th>\n",
       "      <th>attached_rooms</th>\n",
       "      <th>type</th>\n",
       "      <th>lat</th>\n",
       "      <th>lon</th>\n",
       "      <th>year_built</th>\n",
       "      <th>overall_condition</th>\n",
       "      <th>has_elevator</th>\n",
       "      <th>leasures_available</th>\n",
       "    </tr>\n",
       "  </thead>\n",
       "  <tbody>\n",
       "    <tr>\n",
       "      <th>0</th>\n",
       "      <td>54</td>\n",
       "      <td>2.0</td>\n",
       "      <td>2.0</td>\n",
       "      <td>0</td>\n",
       "      <td>1</td>\n",
       "      <td>1</td>\n",
       "      <td>apartment</td>\n",
       "      <td>-5.882136</td>\n",
       "      <td>-35.172217</td>\n",
       "      <td>2004.0</td>\n",
       "      <td>Score 6</td>\n",
       "      <td>yes</td>\n",
       "      <td>NaN</td>\n",
       "    </tr>\n",
       "    <tr>\n",
       "      <th>1</th>\n",
       "      <td>92</td>\n",
       "      <td>3.0</td>\n",
       "      <td>3.0</td>\n",
       "      <td>575</td>\n",
       "      <td>2</td>\n",
       "      <td>1</td>\n",
       "      <td>apartment</td>\n",
       "      <td>-5.867429</td>\n",
       "      <td>-35.196668</td>\n",
       "      <td>1966.0</td>\n",
       "      <td>Score 6</td>\n",
       "      <td>yes</td>\n",
       "      <td>BARBECUE SPACE,PLAYGROUND,SPORTS COURT</td>\n",
       "    </tr>\n",
       "    <tr>\n",
       "      <th>2</th>\n",
       "      <td>98</td>\n",
       "      <td>2.0</td>\n",
       "      <td>4.0</td>\n",
       "      <td>0</td>\n",
       "      <td>2</td>\n",
       "      <td>2</td>\n",
       "      <td>apartment</td>\n",
       "      <td>-5.857640</td>\n",
       "      <td>-35.201449</td>\n",
       "      <td>NaN</td>\n",
       "      <td>Score 2</td>\n",
       "      <td>Yes</td>\n",
       "      <td>NaN</td>\n",
       "    </tr>\n",
       "    <tr>\n",
       "      <th>3</th>\n",
       "      <td>182</td>\n",
       "      <td>5.0</td>\n",
       "      <td>3.0</td>\n",
       "      <td>1200</td>\n",
       "      <td>3</td>\n",
       "      <td>3</td>\n",
       "      <td>apartment</td>\n",
       "      <td>-5.812787</td>\n",
       "      <td>-35.204990</td>\n",
       "      <td>1993.0</td>\n",
       "      <td>Score 5</td>\n",
       "      <td>nop</td>\n",
       "      <td>steam room,gym,sports court</td>\n",
       "    </tr>\n",
       "    <tr>\n",
       "      <th>4</th>\n",
       "      <td>69</td>\n",
       "      <td>2.0</td>\n",
       "      <td>3.0</td>\n",
       "      <td>250</td>\n",
       "      <td>1</td>\n",
       "      <td>0</td>\n",
       "      <td>apartment</td>\n",
       "      <td>-5.843724</td>\n",
       "      <td>-35.221448</td>\n",
       "      <td>2001.0</td>\n",
       "      <td>Score 4</td>\n",
       "      <td>No</td>\n",
       "      <td>barbecue space,PLAYGROUND</td>\n",
       "    </tr>\n",
       "  </tbody>\n",
       "</table>\n",
       "</div>"
      ],
      "text/plain": [
       "   area  bathrooms  bedrooms  condo_fee  parking_spots  attached_rooms  \\\n",
       "0    54        2.0       2.0          0              1               1   \n",
       "1    92        3.0       3.0        575              2               1   \n",
       "2    98        2.0       4.0          0              2               2   \n",
       "3   182        5.0       3.0       1200              3               3   \n",
       "4    69        2.0       3.0        250              1               0   \n",
       "\n",
       "        type       lat        lon  year_built overall_condition has_elevator  \\\n",
       "0  apartment -5.882136 -35.172217      2004.0           Score 6          yes   \n",
       "1  apartment -5.867429 -35.196668      1966.0           Score 6          yes   \n",
       "2  apartment -5.857640 -35.201449         NaN           Score 2          Yes   \n",
       "3  apartment -5.812787 -35.204990      1993.0           Score 5          nop   \n",
       "4  apartment -5.843724 -35.221448      2001.0           Score 4           No   \n",
       "\n",
       "                       leasures_available  \n",
       "0                                     NaN  \n",
       "1  BARBECUE SPACE,PLAYGROUND,SPORTS COURT  \n",
       "2                                     NaN  \n",
       "3             steam room,gym,sports court  \n",
       "4               barbecue space,PLAYGROUND  "
      ]
     },
     "execution_count": 169,
     "metadata": {},
     "output_type": "execute_result"
    }
   ],
   "source": [
    "print(data.columns)\n",
    "X_test = pd.DataFrame(columns = ['area', 'bathrooms', 'bedrooms', 'condo_fee', 'parking_spots',\n",
    "       'attached_rooms', 'type', 'lat', 'lon', 'year_built',\n",
    "       'overall_condition', 'has_elevator'])\n",
    "X_test['area'] = test_data['area']\n",
    "X_test['bathrooms'] = test_data['bathrooms']\n",
    "X_test['bedrooms'] = test_data['bedrooms']\n",
    "X_test['condo_fee'] = test_data['condo_fee']\n",
    "X_test['parking_spots'] = test_data['parking_spots']\n",
    "X_test['attached_rooms'] = test_data['attached_rooms']\n",
    "X_test['type'] = test_data['type']\n",
    "X_test['lat'] = test_data['lat']\n",
    "X_test['lon'] = test_data['lon']\n",
    "X_test['year_built'] = test_data['year_built']\n",
    "X_test['overall_condition'] = test_data['overall_condition']\n",
    "X_test['has_elevator'] = test_data['has_elevator']\n",
    "X_test['leasures_available'] = test_data['leasures_available']\n",
    "X_test.head()"
   ]
  },
  {
   "cell_type": "code",
   "execution_count": 170,
   "metadata": {},
   "outputs": [],
   "source": [
    "X_test.loc[X_test['type'] == \"apartment\", 'type'] = 2\n",
    "X_test.loc[X_test['type'] == \"house\", 'type'] = 1\n",
    "X_test.loc[X_test['type'] == \"other\", 'type'] = 0\n",
    "X_test = X_test.astype({'type': float})\n",
    "\n",
    "X_test['overall_condition'] = X_test['overall_condition'].str.split(n=1).str[1]\n",
    "X_test['overall_condition'] = pd.to_numeric(X_test['overall_condition'])\n",
    "\n",
    "X_test.loc[X_test.has_elevator == \"Yes\", \"has_elevator\"] = 1\n",
    "X_test.loc[X_test.has_elevator == \"yes\", \"has_elevator\"] = 1\n",
    "X_test.loc[X_test.has_elevator == \"y\", \"has_elevator\"] = 1\n",
    "\n",
    "X_test.loc[X_test.has_elevator == \"No\", \"has_elevator\"] = 0\n",
    "X_test.loc[X_test.has_elevator == \"nop\", \"has_elevator\"] = 0\n",
    "X_test.loc[X_test.has_elevator == \"no\", \"has_elevator\"] = 0\n",
    "X_test = X_test.astype({'has_elevator': float})"
   ]
  },
  {
   "cell_type": "code",
   "execution_count": 171,
   "metadata": {},
   "outputs": [
    {
     "name": "stdout",
     "output_type": "stream",
     "text": [
      "0\n"
     ]
    }
   ],
   "source": [
    "X_test.loc[X_test.bathrooms.isna(), \"bathrooms\"] = 2\n",
    "X_test.loc[X_test.bedrooms.isna(), \"bedrooms\"] = 3\n",
    "print(X_test['area'].isna().sum())\n",
    "X_test.loc[X_test.condo_fee.isna(), \"condo_fee\"] = round(X_test['condo_fee'].mean())\n",
    "X_test.loc[X_test['parking_spots'] < 0, 'parking_spots'] = abs(X_test['parking_spots'])\n",
    "X_test.loc[X_test.parking_spots.isna(), \"parking_spots\"] = round(X_test['parking_spots'].mean())\n",
    "X_test.loc[X_test.lat.isna(), 'lat'] = round(data['lat'].mean())\n",
    "X_test.loc[X_test.lon.isna(), 'lon'] = round(data['lon'].mean())\n",
    "X_test.loc[X_test.year_built.isna(), 'year_built'] = round(X_test['year_built'].mean())\n",
    "X_test.loc[X_test.type.isna(), 'type'] = round(X_test['type'].mean())"
   ]
  },
  {
   "cell_type": "code",
   "execution_count": 172,
   "metadata": {},
   "outputs": [
    {
     "name": "stdout",
     "output_type": "stream",
     "text": [
      "261\n",
      "0\n",
      "object\n"
     ]
    }
   ],
   "source": [
    "print(X_test.leasures_available.isna().sum())\n",
    "X_test.loc[X_test.leasures_available.isna(), 'leasures_available'] = 0\n",
    "print(X_test.leasures_available.isna().sum())\n",
    "print(X_test.leasures_available.dtypes)\n",
    "X_test['num_leasures'] = X_test['leasures_available'].apply(lambda x: int(x.count(',')) if isinstance(x, str) else 0)\n",
    "X_test = X_test.drop('leasures_available', axis = 1)"
   ]
  },
  {
   "cell_type": "code",
   "execution_count": 173,
   "metadata": {},
   "outputs": [
    {
     "name": "stdout",
     "output_type": "stream",
     "text": [
      "0\n",
      "0\n",
      "0\n",
      "0\n",
      "0\n",
      "0\n",
      "0\n",
      "0\n",
      "0\n",
      "0\n",
      "0\n",
      "0\n"
     ]
    }
   ],
   "source": [
    "print(X_test['area'].isna().sum())\n",
    "print(X_test['bathrooms'].isna().sum())\n",
    "print(X_test['bedrooms'].isna().sum())\n",
    "print(X_test['condo_fee'].isna().sum())\n",
    "print(X_test['parking_spots'].isna().sum())\n",
    "print(X_test['attached_rooms'].isna().sum())\n",
    "print(X_test['type'].isna().sum())\n",
    "print(X_test['lat'].isna().sum())\n",
    "print(X_test['lon'].isna().sum())\n",
    "print(X_test['year_built'].isna().sum())\n",
    "print(X_test['overall_condition'].isna().sum())\n",
    "print(X_test['has_elevator'].isna().sum())\n",
    "#df = df.replace(' ', np.nan)                   # to get rid of empty values\n",
    "#nan_values = df[df.isna().any(axis=1)]"
   ]
  },
  {
   "cell_type": "code",
   "execution_count": 174,
   "metadata": {},
   "outputs": [],
   "source": [
    "y_predict = model.predict(X_test)"
   ]
  },
  {
   "cell_type": "code",
   "execution_count": 175,
   "metadata": {},
   "outputs": [],
   "source": [
    "submission_df = pd.DataFrame(columns = ['id', 'price'])\n",
    "submission_df['id'] = test_data['id']\n",
    "submission_df['price'] = y_predict\n",
    "#os.remove('submission.csv')"
   ]
  },
  {
   "cell_type": "code",
   "execution_count": 176,
   "metadata": {},
   "outputs": [],
   "source": [
    "#Submission\n",
    "submission_df.to_csv('submissions.csv',index=False)"
   ]
  },
  {
   "cell_type": "markdown",
   "metadata": {},
   "source": [
    "Anything else than gradient descent that gives guarantee to converge in global minima"
   ]
  },
  {
   "cell_type": "markdown",
   "metadata": {},
   "source": [
    "---"
   ]
  }
 ],
 "metadata": {
  "kernelspec": {
   "display_name": "Python 3 (ipykernel)",
   "language": "python",
   "name": "python3"
  },
  "language_info": {
   "codemirror_mode": {
    "name": "ipython",
    "version": 3
   },
   "file_extension": ".py",
   "mimetype": "text/x-python",
   "name": "python",
   "nbconvert_exporter": "python",
   "pygments_lexer": "ipython3",
   "version": "3.9.6"
  },
  "toc": {
   "base_numbering": 1,
   "nav_menu": {},
   "number_sections": true,
   "sideBar": true,
   "skip_h1_title": false,
   "title_cell": "Table of Contents",
   "title_sidebar": "Contents",
   "toc_cell": false,
   "toc_position": {},
   "toc_section_display": true,
   "toc_window_display": false
  }
 },
 "nbformat": 4,
 "nbformat_minor": 4
}
