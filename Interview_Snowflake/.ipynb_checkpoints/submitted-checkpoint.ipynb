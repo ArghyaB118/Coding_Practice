{
 "cells": [
  {
   "cell_type": "markdown",
   "metadata": {},
   "source": [
    "# Data Science Challenge"
   ]
  },
  {
   "cell_type": "code",
   "execution_count": 9,
   "metadata": {},
   "outputs": [],
   "source": [
    "# If you'd like to install packages that aren't installed by default, uncomment the last two lines of this cell and replace <package list> with a list of your packages.\n",
    "# This will ensure your notebook has all the dependencies and works everywhere\n",
    "import os\n",
    "import sys\n",
    "#!{sys.executable} -m pip install <package list>"
   ]
  },
  {
   "cell_type": "code",
   "execution_count": 1,
   "metadata": {},
   "outputs": [
    {
     "ename": "ModuleNotFoundError",
     "evalue": "No module named 'seaborn'",
     "output_type": "error",
     "traceback": [
      "\u001b[0;31m---------------------------------------------------------------------------\u001b[0m",
      "\u001b[0;31mModuleNotFoundError\u001b[0m                       Traceback (most recent call last)",
      "\u001b[0;32m/var/folders/qd/8g6x79n52nlfjy48yd_8mr5w0000gn/T/ipykernel_3190/960601599.py\u001b[0m in \u001b[0;36m<module>\u001b[0;34m\u001b[0m\n\u001b[1;32m      3\u001b[0m \u001b[0;32mimport\u001b[0m \u001b[0mnumpy\u001b[0m \u001b[0;32mas\u001b[0m \u001b[0mnp\u001b[0m\u001b[0;34m\u001b[0m\u001b[0;34m\u001b[0m\u001b[0m\n\u001b[1;32m      4\u001b[0m \u001b[0;32mimport\u001b[0m \u001b[0mmatplotlib\u001b[0m\u001b[0;34m.\u001b[0m\u001b[0mpyplot\u001b[0m \u001b[0;32mas\u001b[0m \u001b[0mplt\u001b[0m\u001b[0;34m\u001b[0m\u001b[0;34m\u001b[0m\u001b[0m\n\u001b[0;32m----> 5\u001b[0;31m \u001b[0;32mimport\u001b[0m \u001b[0mseaborn\u001b[0m \u001b[0;32mas\u001b[0m \u001b[0msns\u001b[0m\u001b[0;34m\u001b[0m\u001b[0;34m\u001b[0m\u001b[0m\n\u001b[0m\u001b[1;32m      6\u001b[0m \u001b[0;32mfrom\u001b[0m \u001b[0msklearn\u001b[0m\u001b[0;34m.\u001b[0m\u001b[0mlinear_model\u001b[0m \u001b[0;32mimport\u001b[0m \u001b[0mLinearRegression\u001b[0m\u001b[0;34m\u001b[0m\u001b[0;34m\u001b[0m\u001b[0m\n\u001b[1;32m      7\u001b[0m \u001b[0mpd\u001b[0m\u001b[0;34m.\u001b[0m\u001b[0mset_option\u001b[0m\u001b[0;34m(\u001b[0m\u001b[0;34m\"display.max_columns\"\u001b[0m\u001b[0;34m,\u001b[0m \u001b[0;36m101\u001b[0m\u001b[0;34m)\u001b[0m\u001b[0;34m\u001b[0m\u001b[0;34m\u001b[0m\u001b[0m\n",
      "\u001b[0;31mModuleNotFoundError\u001b[0m: No module named 'seaborn'"
     ]
    }
   ],
   "source": [
    "#Libraries\n",
    "import pandas as pd\n",
    "import numpy as np\n",
    "import matplotlib.pyplot as plt \n",
    "import seaborn as sns\n",
    "from sklearn.linear_model import LinearRegression\n",
    "pd.set_option(\"display.max_columns\", 101)"
   ]
  },
  {
   "cell_type": "markdown",
   "metadata": {},
   "source": [
    "## Data Description"
   ]
  },
  {
   "cell_type": "markdown",
   "metadata": {},
   "source": [
    "Column | Description\n",
    ":---|:---\n",
    "`id` | Unique id of every property\n",
    "`area` | Area of the structure (sq. feet)\n",
    "`bathrooms` | Number of bathrooms\n",
    "`bedrooms` | Number of rooms\n",
    "`condo_fee`| Condominium fee `(US $$)` \n",
    "`parking_spots`| Number of parking spots\n",
    "`attached_rooms` | Number of bedrooms with direct access to a bathroom.\n",
    "`type` | Kind of real estate\n",
    "`lat` | Latitude of the property\n",
    "`lon` | Longitude of the property\n",
    "`year_built` | Year the real property was built\n",
    "`overall_condition` | Abstract evaluation of the owner\n",
    "`has_elevator` | If the property has elevator or not\n",
    "`leasures_available` | List of leasures in the property\n",
    "`price`| Price of the real estate `(US $$)`"
   ]
  },
  {
   "cell_type": "markdown",
   "metadata": {},
   "source": [
    "## Data Wrangling & Visualization"
   ]
  },
  {
   "cell_type": "code",
   "execution_count": 330,
   "metadata": {},
   "outputs": [],
   "source": [
    "# Dataset is already loaded below\n",
    "data = pd.read_csv(\"train.csv\")"
   ]
  },
  {
   "cell_type": "code",
   "execution_count": 331,
   "metadata": {},
   "outputs": [
    {
     "data": {
      "text/html": [
       "<div>\n",
       "<style scoped>\n",
       "    .dataframe tbody tr th:only-of-type {\n",
       "        vertical-align: middle;\n",
       "    }\n",
       "\n",
       "    .dataframe tbody tr th {\n",
       "        vertical-align: top;\n",
       "    }\n",
       "\n",
       "    .dataframe thead th {\n",
       "        text-align: right;\n",
       "    }\n",
       "</style>\n",
       "<table border=\"1\" class=\"dataframe\">\n",
       "  <thead>\n",
       "    <tr style=\"text-align: right;\">\n",
       "      <th></th>\n",
       "      <th>id</th>\n",
       "      <th>area</th>\n",
       "      <th>bathrooms</th>\n",
       "      <th>bedrooms</th>\n",
       "      <th>condo_fee</th>\n",
       "      <th>parking_spots</th>\n",
       "      <th>attached_rooms</th>\n",
       "      <th>type</th>\n",
       "      <th>lat</th>\n",
       "      <th>lon</th>\n",
       "      <th>year_built</th>\n",
       "      <th>overall_condition</th>\n",
       "      <th>has_elevator</th>\n",
       "      <th>leasures_available</th>\n",
       "      <th>price</th>\n",
       "    </tr>\n",
       "  </thead>\n",
       "  <tbody>\n",
       "    <tr>\n",
       "      <th>0</th>\n",
       "      <td>794</td>\n",
       "      <td>380</td>\n",
       "      <td>6.0</td>\n",
       "      <td>4.0</td>\n",
       "      <td>0.0</td>\n",
       "      <td>3.0</td>\n",
       "      <td>3.0</td>\n",
       "      <td>house</td>\n",
       "      <td>-5.855204</td>\n",
       "      <td>-35.220087</td>\n",
       "      <td>1974.0</td>\n",
       "      <td>Score 3</td>\n",
       "      <td>Yes</td>\n",
       "      <td>NaN</td>\n",
       "      <td>500000</td>\n",
       "    </tr>\n",
       "    <tr>\n",
       "      <th>1</th>\n",
       "      <td>199</td>\n",
       "      <td>60</td>\n",
       "      <td>2.0</td>\n",
       "      <td>2.0</td>\n",
       "      <td>0.0</td>\n",
       "      <td>1.0</td>\n",
       "      <td>1.0</td>\n",
       "      <td>apartment</td>\n",
       "      <td>-5.808983</td>\n",
       "      <td>-35.227251</td>\n",
       "      <td>NaN</td>\n",
       "      <td>Score 6</td>\n",
       "      <td>y</td>\n",
       "      <td>NaN</td>\n",
       "      <td>207480</td>\n",
       "    </tr>\n",
       "    <tr>\n",
       "      <th>2</th>\n",
       "      <td>1849</td>\n",
       "      <td>430</td>\n",
       "      <td>NaN</td>\n",
       "      <td>NaN</td>\n",
       "      <td>0.0</td>\n",
       "      <td>8.0</td>\n",
       "      <td>4.0</td>\n",
       "      <td>house</td>\n",
       "      <td>-5.843724</td>\n",
       "      <td>NaN</td>\n",
       "      <td>1980.0</td>\n",
       "      <td>Score 4</td>\n",
       "      <td>y</td>\n",
       "      <td>barbecue space</td>\n",
       "      <td>800000</td>\n",
       "    </tr>\n",
       "    <tr>\n",
       "      <th>3</th>\n",
       "      <td>33</td>\n",
       "      <td>55</td>\n",
       "      <td>2.0</td>\n",
       "      <td>2.0</td>\n",
       "      <td>280.0</td>\n",
       "      <td>0.0</td>\n",
       "      <td>1.0</td>\n",
       "      <td>apartment</td>\n",
       "      <td>-5.882136</td>\n",
       "      <td>-35.172217</td>\n",
       "      <td>1991.0</td>\n",
       "      <td>Score 5</td>\n",
       "      <td>yes</td>\n",
       "      <td>sports court</td>\n",
       "      <td>208900</td>\n",
       "    </tr>\n",
       "    <tr>\n",
       "      <th>4</th>\n",
       "      <td>179</td>\n",
       "      <td>50</td>\n",
       "      <td>2.0</td>\n",
       "      <td>2.0</td>\n",
       "      <td>420.0</td>\n",
       "      <td>1.0</td>\n",
       "      <td>2.0</td>\n",
       "      <td>apartment</td>\n",
       "      <td>-5.866124</td>\n",
       "      <td>-35.182770</td>\n",
       "      <td>2002.0</td>\n",
       "      <td>Score 4</td>\n",
       "      <td>y</td>\n",
       "      <td>BARBECUE SPACE,playground</td>\n",
       "      <td>210000</td>\n",
       "    </tr>\n",
       "  </tbody>\n",
       "</table>\n",
       "</div>"
      ],
      "text/plain": [
       "     id  area  bathrooms  bedrooms  condo_fee  parking_spots  attached_rooms  \\\n",
       "0   794   380        6.0       4.0        0.0            3.0             3.0   \n",
       "1   199    60        2.0       2.0        0.0            1.0             1.0   \n",
       "2  1849   430        NaN       NaN        0.0            8.0             4.0   \n",
       "3    33    55        2.0       2.0      280.0            0.0             1.0   \n",
       "4   179    50        2.0       2.0      420.0            1.0             2.0   \n",
       "\n",
       "        type       lat        lon  year_built overall_condition has_elevator  \\\n",
       "0      house -5.855204 -35.220087      1974.0           Score 3          Yes   \n",
       "1  apartment -5.808983 -35.227251         NaN           Score 6            y   \n",
       "2      house -5.843724        NaN      1980.0           Score 4            y   \n",
       "3  apartment -5.882136 -35.172217      1991.0           Score 5          yes   \n",
       "4  apartment -5.866124 -35.182770      2002.0           Score 4            y   \n",
       "\n",
       "          leasures_available   price  \n",
       "0                        NaN  500000  \n",
       "1                        NaN  207480  \n",
       "2             barbecue space  800000  \n",
       "3               sports court  208900  \n",
       "4  BARBECUE SPACE,playground  210000  "
      ]
     },
     "execution_count": 331,
     "metadata": {},
     "output_type": "execute_result"
    }
   ],
   "source": [
    "data.head()"
   ]
  },
  {
   "cell_type": "code",
   "execution_count": 332,
   "metadata": {},
   "outputs": [
    {
     "name": "stdout",
     "output_type": "stream",
     "text": [
      "Index(['id', 'area', 'bathrooms', 'bedrooms', 'condo_fee', 'parking_spots',\n",
      "       'attached_rooms', 'type', 'lat', 'lon', 'year_built',\n",
      "       'overall_condition', 'has_elevator', 'leasures_available', 'price'],\n",
      "      dtype='object')\n",
      "id                      int64\n",
      "area                    int64\n",
      "bathrooms             float64\n",
      "bedrooms              float64\n",
      "condo_fee             float64\n",
      "parking_spots         float64\n",
      "attached_rooms        float64\n",
      "type                   object\n",
      "lat                   float64\n",
      "lon                   float64\n",
      "year_built            float64\n",
      "overall_condition      object\n",
      "has_elevator           object\n",
      "leasures_available     object\n",
      "price                   int64\n",
      "dtype: object\n"
     ]
    }
   ],
   "source": [
    "#Explore columns\n",
    "print(data.columns)\n",
    "print(data.dtypes)"
   ]
  },
  {
   "cell_type": "code",
   "execution_count": 333,
   "metadata": {},
   "outputs": [
    {
     "data": {
      "text/html": [
       "<div>\n",
       "<style scoped>\n",
       "    .dataframe tbody tr th:only-of-type {\n",
       "        vertical-align: middle;\n",
       "    }\n",
       "\n",
       "    .dataframe tbody tr th {\n",
       "        vertical-align: top;\n",
       "    }\n",
       "\n",
       "    .dataframe thead th {\n",
       "        text-align: right;\n",
       "    }\n",
       "</style>\n",
       "<table border=\"1\" class=\"dataframe\">\n",
       "  <thead>\n",
       "    <tr style=\"text-align: right;\">\n",
       "      <th></th>\n",
       "      <th>id</th>\n",
       "      <th>area</th>\n",
       "      <th>bathrooms</th>\n",
       "      <th>bedrooms</th>\n",
       "      <th>condo_fee</th>\n",
       "      <th>parking_spots</th>\n",
       "      <th>attached_rooms</th>\n",
       "      <th>lat</th>\n",
       "      <th>lon</th>\n",
       "      <th>year_built</th>\n",
       "      <th>price</th>\n",
       "    </tr>\n",
       "  </thead>\n",
       "  <tbody>\n",
       "    <tr>\n",
       "      <th>count</th>\n",
       "      <td>4056.000000</td>\n",
       "      <td>4056.000000</td>\n",
       "      <td>4036.000000</td>\n",
       "      <td>4030.000000</td>\n",
       "      <td>4044.000000</td>\n",
       "      <td>4046.000000</td>\n",
       "      <td>4044.000000</td>\n",
       "      <td>4045.000000</td>\n",
       "      <td>4041.000000</td>\n",
       "      <td>2533.000000</td>\n",
       "      <td>4.056000e+03</td>\n",
       "    </tr>\n",
       "    <tr>\n",
       "      <th>mean</th>\n",
       "      <td>2377.640039</td>\n",
       "      <td>107.705621</td>\n",
       "      <td>2.268831</td>\n",
       "      <td>2.635732</td>\n",
       "      <td>354.116222</td>\n",
       "      <td>1.618389</td>\n",
       "      <td>1.369683</td>\n",
       "      <td>-5.835676</td>\n",
       "      <td>-35.203506</td>\n",
       "      <td>1987.765101</td>\n",
       "      <td>3.962545e+05</td>\n",
       "    </tr>\n",
       "    <tr>\n",
       "      <th>std</th>\n",
       "      <td>1386.164798</td>\n",
       "      <td>95.332348</td>\n",
       "      <td>1.240710</td>\n",
       "      <td>0.835317</td>\n",
       "      <td>366.596604</td>\n",
       "      <td>1.032332</td>\n",
       "      <td>1.018299</td>\n",
       "      <td>0.034061</td>\n",
       "      <td>0.016523</td>\n",
       "      <td>15.413998</td>\n",
       "      <td>2.677453e+05</td>\n",
       "    </tr>\n",
       "    <tr>\n",
       "      <th>min</th>\n",
       "      <td>0.000000</td>\n",
       "      <td>20.000000</td>\n",
       "      <td>0.000000</td>\n",
       "      <td>0.000000</td>\n",
       "      <td>0.000000</td>\n",
       "      <td>-7.000000</td>\n",
       "      <td>0.000000</td>\n",
       "      <td>-5.899991</td>\n",
       "      <td>-35.244931</td>\n",
       "      <td>1956.000000</td>\n",
       "      <td>6.000000e+04</td>\n",
       "    </tr>\n",
       "    <tr>\n",
       "      <th>25%</th>\n",
       "      <td>1177.750000</td>\n",
       "      <td>57.000000</td>\n",
       "      <td>1.000000</td>\n",
       "      <td>2.000000</td>\n",
       "      <td>0.000000</td>\n",
       "      <td>1.000000</td>\n",
       "      <td>1.000000</td>\n",
       "      <td>-5.866124</td>\n",
       "      <td>-35.213829</td>\n",
       "      <td>1973.000000</td>\n",
       "      <td>2.300000e+05</td>\n",
       "    </tr>\n",
       "    <tr>\n",
       "      <th>50%</th>\n",
       "      <td>2362.500000</td>\n",
       "      <td>91.000000</td>\n",
       "      <td>2.000000</td>\n",
       "      <td>3.000000</td>\n",
       "      <td>320.000000</td>\n",
       "      <td>2.000000</td>\n",
       "      <td>1.000000</td>\n",
       "      <td>-5.828402</td>\n",
       "      <td>-35.203220</td>\n",
       "      <td>1993.000000</td>\n",
       "      <td>3.300000e+05</td>\n",
       "    </tr>\n",
       "    <tr>\n",
       "      <th>75%</th>\n",
       "      <td>3592.250000</td>\n",
       "      <td>128.250000</td>\n",
       "      <td>3.000000</td>\n",
       "      <td>3.000000</td>\n",
       "      <td>561.000000</td>\n",
       "      <td>2.000000</td>\n",
       "      <td>2.000000</td>\n",
       "      <td>-5.808077</td>\n",
       "      <td>-35.196726</td>\n",
       "      <td>2002.000000</td>\n",
       "      <td>5.000000e+05</td>\n",
       "    </tr>\n",
       "    <tr>\n",
       "      <th>max</th>\n",
       "      <td>4771.000000</td>\n",
       "      <td>4200.000000</td>\n",
       "      <td>22.000000</td>\n",
       "      <td>22.000000</td>\n",
       "      <td>2500.000000</td>\n",
       "      <td>24.000000</td>\n",
       "      <td>22.000000</td>\n",
       "      <td>-5.726315</td>\n",
       "      <td>-35.170270</td>\n",
       "      <td>2010.000000</td>\n",
       "      <td>5.300000e+06</td>\n",
       "    </tr>\n",
       "  </tbody>\n",
       "</table>\n",
       "</div>"
      ],
      "text/plain": [
       "                id         area    bathrooms     bedrooms    condo_fee  \\\n",
       "count  4056.000000  4056.000000  4036.000000  4030.000000  4044.000000   \n",
       "mean   2377.640039   107.705621     2.268831     2.635732   354.116222   \n",
       "std    1386.164798    95.332348     1.240710     0.835317   366.596604   \n",
       "min       0.000000    20.000000     0.000000     0.000000     0.000000   \n",
       "25%    1177.750000    57.000000     1.000000     2.000000     0.000000   \n",
       "50%    2362.500000    91.000000     2.000000     3.000000   320.000000   \n",
       "75%    3592.250000   128.250000     3.000000     3.000000   561.000000   \n",
       "max    4771.000000  4200.000000    22.000000    22.000000  2500.000000   \n",
       "\n",
       "       parking_spots  attached_rooms          lat          lon   year_built  \\\n",
       "count    4046.000000     4044.000000  4045.000000  4041.000000  2533.000000   \n",
       "mean        1.618389        1.369683    -5.835676   -35.203506  1987.765101   \n",
       "std         1.032332        1.018299     0.034061     0.016523    15.413998   \n",
       "min        -7.000000        0.000000    -5.899991   -35.244931  1956.000000   \n",
       "25%         1.000000        1.000000    -5.866124   -35.213829  1973.000000   \n",
       "50%         2.000000        1.000000    -5.828402   -35.203220  1993.000000   \n",
       "75%         2.000000        2.000000    -5.808077   -35.196726  2002.000000   \n",
       "max        24.000000       22.000000    -5.726315   -35.170270  2010.000000   \n",
       "\n",
       "              price  \n",
       "count  4.056000e+03  \n",
       "mean   3.962545e+05  \n",
       "std    2.677453e+05  \n",
       "min    6.000000e+04  \n",
       "25%    2.300000e+05  \n",
       "50%    3.300000e+05  \n",
       "75%    5.000000e+05  \n",
       "max    5.300000e+06  "
      ]
     },
     "execution_count": 333,
     "metadata": {},
     "output_type": "execute_result"
    }
   ],
   "source": [
    "#Description\n",
    "data.describe()"
   ]
  },
  {
   "cell_type": "markdown",
   "metadata": {},
   "source": [
    "## Working on the column: bathrooms"
   ]
  },
  {
   "cell_type": "code",
   "execution_count": 334,
   "metadata": {},
   "outputs": [
    {
     "name": "stdout",
     "output_type": "stream",
     "text": [
      "[ 6.  2. nan  5.  4.  3.  1.  0. 15.  7. 22.  8. 12.]\n",
      "Number of houses with bathrooms not specified:  20\n",
      "Number of houses with 2 bathrooms 1351\n",
      "Number of total houses 4056\n"
     ]
    },
    {
     "data": {
      "image/png": "[encoded data removed]",
      "text/plain": [
       "<Figure size 432x288 with 1 Axes>"
      ]
     },
     "metadata": {
      "needs_background": "light"
     },
     "output_type": "display_data"
    }
   ],
   "source": [
    "#print(pd.isna(data['area']))\n",
    "#print(data[data['area'] == ''].index)\n",
    "print(data.bathrooms.unique())\n",
    "data['bathrooms'].value_counts().plot(kind='bar')\n",
    "sns.despine\n",
    "print(\"Number of houses with bathrooms not specified: \", data['bathrooms'].isna().sum())\n",
    "print(\"Number of houses with 2 bathrooms\", data[data['bathrooms'] == 2].shape[0])\n",
    "print(\"Number of total houses\", data.shape[0])"
   ]
  },
  {
   "cell_type": "markdown",
   "metadata": {},
   "source": [
    "From the above analysis it makes sense to apply the heavy hitter value to replace the nan values for this column."
   ]
  },
  {
   "cell_type": "code",
   "execution_count": 335,
   "metadata": {},
   "outputs": [
    {
     "name": "stdout",
     "output_type": "stream",
     "text": [
      "0\n",
      "1371\n"
     ]
    }
   ],
   "source": [
    "data.loc[data.bathrooms.isna(), \"bathrooms\"] = 2\n",
    "print(data['bathrooms'].isna().sum())\n",
    "print(data[data['bathrooms'] == 2].shape[0])"
   ]
  },
  {
   "cell_type": "code",
   "execution_count": 336,
   "metadata": {},
   "outputs": [
    {
     "data": {
      "text/plain": [
       "<matplotlib.collections.PathCollection at 0x7fcc9c83aa90>"
      ]
     },
     "execution_count": 336,
     "metadata": {},
     "output_type": "execute_result"
    },
    {
     "data": {
      "image/png": "[encoded data removed]",
      "text/plain": [
       "<Figure size 432x288 with 1 Axes>"
      ]
     },
     "metadata": {
      "needs_background": "light"
     },
     "output_type": "display_data"
    }
   ],
   "source": [
    "plt.scatter(data.price, data.bathrooms)"
   ]
  },
  {
   "cell_type": "markdown",
   "metadata": {},
   "source": [
    "## Same analysis on the column: bedrooms"
   ]
  },
  {
   "cell_type": "code",
   "execution_count": 337,
   "metadata": {},
   "outputs": [
    {
     "name": "stdout",
     "output_type": "stream",
     "text": [
      "[ 4.  2. nan  3.  1.  0.  6.  9. 22.  5. 18.  7.]\n",
      "Number of houses with bedrooms not specified:  26\n",
      "Number of houses with 3 bathrooms 2095\n",
      "Number of total houses 4056\n",
      "51.65187376725838 % houses have 3 bedrooms\n",
      "0\n",
      "2121\n"
     ]
    },
    {
     "data": {
      "image/png": "[encoded data removed]",
      "text/plain": [
       "<Figure size 432x288 with 1 Axes>"
      ]
     },
     "metadata": {
      "needs_background": "light"
     },
     "output_type": "display_data"
    }
   ],
   "source": [
    "print(data.bedrooms.unique())\n",
    "data['bedrooms'].value_counts().plot(kind='bar')\n",
    "sns.despine\n",
    "print(\"Number of houses with bedrooms not specified: \", data['bedrooms'].isna().sum())\n",
    "print(\"Number of houses with 3 bathrooms\", data[data['bedrooms'] == 3].shape[0])\n",
    "print(\"Number of total houses\", data.shape[0]) \n",
    "print(data[data['bedrooms'] == 3].shape[0] / data.shape[0] * 100, \"% houses have 3 bedrooms\")\n",
    "\n",
    "data.loc[data.bedrooms.isna(), \"bedrooms\"] = 3\n",
    "print(data['bedrooms'].isna().sum())\n",
    "print(data[data['bedrooms'] == 3].shape[0])"
   ]
  },
  {
   "cell_type": "markdown",
   "metadata": {},
   "source": [
    "## Working on the column: area\n",
    "### A few questions we need to answer regarding the importance of different columns\n",
    "1. Is there any nan values in area?\n",
    "2. Does price depend on area?\n",
    "\n",
    "From the following scatter plot, it looks like area is going to be an important feature in our analysis."
   ]
  },
  {
   "cell_type": "code",
   "execution_count": 338,
   "metadata": {},
   "outputs": [
    {
     "name": "stdout",
     "output_type": "stream",
     "text": [
      "0\n"
     ]
    },
    {
     "data": {
      "text/plain": [
       "<matplotlib.collections.PathCollection at 0x7fcc9c899250>"
      ]
     },
     "execution_count": 338,
     "metadata": {},
     "output_type": "execute_result"
    },
    {
     "data": {
      "image/png": "[encoded data removed]",
      "text/plain": [
       "<Figure size 432x288 with 1 Axes>"
      ]
     },
     "metadata": {
      "needs_background": "light"
     },
     "output_type": "display_data"
    }
   ],
   "source": [
    "print(data['area'].isna().sum())\n",
    "plt.scatter(data.price, data.area)"
   ]
  },
  {
   "cell_type": "markdown",
   "metadata": {},
   "source": [
    "## Working on the column: condo_fee\n",
    "placing the mean condo fee for nan values"
   ]
  },
  {
   "cell_type": "code",
   "execution_count": 339,
   "metadata": {},
   "outputs": [
    {
     "name": "stdout",
     "output_type": "stream",
     "text": [
      "12\n",
      "0\n"
     ]
    }
   ],
   "source": [
    "print(data['condo_fee'].isna().sum())\n",
    "data.loc[data.condo_fee.isna(), \"condo_fee\"] = 354.116222\n",
    "print(data['condo_fee'].isna().sum())"
   ]
  },
  {
   "cell_type": "markdown",
   "metadata": {},
   "source": [
    "## Working on the column : parking_spots\n",
    "The negative values are impossible. We suspect the. negative sign was incrrectly placed.\n",
    "As the erroneous data has already negatively impacted the mean value, it will be good not to use the mean.\n",
    "1. We instead take absolute value first.\n",
    "2. Next, we replace the nan values with the corrected mean."
   ]
  },
  {
   "cell_type": "code",
   "execution_count": 340,
   "metadata": {},
   "outputs": [
    {
     "name": "stdout",
     "output_type": "stream",
     "text": [
      "[ 3.  1.  8.  0.  2. nan -2.  9. -7.  7. -5.  5.  4. 10. 14. 12. 24.]\n",
      "[ 3.  1.  8.  0.  2. nan  9.  7.  5.  4. 10. 14. 12. 24.]\n",
      "[ 3.  1.  8.  0.  2.  9.  7.  5.  4. 10. 14. 12. 24.]\n"
     ]
    }
   ],
   "source": [
    "print(data.parking_spots.unique())\n",
    "data.loc[data['parking_spots'] < 0, 'parking_spots'] = abs(data['parking_spots'])\n",
    "print(data.parking_spots.unique())\n",
    "data.loc[data.parking_spots.isna(), \"parking_spots\"] = round(data['parking_spots'].mean())\n",
    "print(data.parking_spots.unique())"
   ]
  },
  {
   "cell_type": "markdown",
   "metadata": {},
   "source": [
    "## Working on the column: attached_rooms, lat, lon, year_built\n",
    "Placing the rounded mean values for the nan columns"
   ]
  },
  {
   "cell_type": "code",
   "execution_count": 341,
   "metadata": {},
   "outputs": [
    {
     "name": "stdout",
     "output_type": "stream",
     "text": [
      "[ 3.  1.  4.  2.  0. nan 15.  5.  6. 22.  7.]\n",
      "[ 3.  1.  4.  2.  0. 15.  5.  6. 22.  7.]\n"
     ]
    }
   ],
   "source": [
    "print(data.attached_rooms.unique())\n",
    "data.loc[data.attached_rooms.isna(), 'attached_rooms'] = round(data['attached_rooms'].mean())\n",
    "print(data.attached_rooms.unique())                                                  "
   ]
  },
  {
   "cell_type": "code",
   "execution_count": 342,
   "metadata": {},
   "outputs": [
    {
     "name": "stdout",
     "output_type": "stream",
     "text": [
      "11\n",
      "15\n",
      "1523\n",
      "0\n",
      "0\n",
      "0\n"
     ]
    }
   ],
   "source": [
    "print(data['lat'].isna().sum())\n",
    "print(data['lon'].isna().sum())\n",
    "print(data['year_built'].isna().sum())\n",
    "data.loc[data.lat.isna(), 'lat'] = round(data['lat'].mean())\n",
    "data.loc[data.lon.isna(), 'lon'] = round(data['lon'].mean())\n",
    "data.loc[data.year_built.isna(), 'year_built'] = round(data['year_built'].mean())\n",
    "print(data['lat'].isna().sum())\n",
    "print(data['lon'].isna().sum())\n",
    "print(data['year_built'].isna().sum())"
   ]
  },
  {
   "cell_type": "markdown",
   "metadata": {},
   "source": [
    "## Working on the column: has_elevator\n",
    "Cleaning the column values"
   ]
  },
  {
   "cell_type": "code",
   "execution_count": 343,
   "metadata": {},
   "outputs": [
    {
     "name": "stdout",
     "output_type": "stream",
     "text": [
      "['Yes' 'y' 'yes' 'No' 'nop' 'no']\n",
      "[1 0]\n"
     ]
    }
   ],
   "source": [
    "print(data.has_elevator.unique())\n",
    "\n",
    "data.loc[data.has_elevator == \"Yes\", \"has_elevator\"] = 1\n",
    "data.loc[data.has_elevator == \"yes\", \"has_elevator\"] = 1\n",
    "data.loc[data.has_elevator == \"y\", \"has_elevator\"] = 1\n",
    "\n",
    "data.loc[data.has_elevator == \"No\", \"has_elevator\"] = 0\n",
    "data.loc[data.has_elevator == \"nop\", \"has_elevator\"] = 0\n",
    "data.loc[data.has_elevator == \"no\", \"has_elevator\"] = 0\n",
    "\n",
    "print(data.has_elevator.unique())"
   ]
  },
  {
   "cell_type": "markdown",
   "metadata": {},
   "source": [
    "## Working on the column : overall_condition\n",
    "The scores are modified to integer values."
   ]
  },
  {
   "cell_type": "code",
   "execution_count": 344,
   "metadata": {},
   "outputs": [
    {
     "name": "stdout",
     "output_type": "stream",
     "text": [
      "['Score 3' 'Score 6' 'Score 4' 'Score 5' 'Score 7' 'Score 2' 'Score 9'\n",
      " 'Score 8' 'Score 1' 'Score 0']\n",
      "['3' '6' '4' '5' '7' '2' '9' '8' '1' '0']\n"
     ]
    }
   ],
   "source": [
    "print(data.overall_condition.unique())\n",
    "data['overall_condition'] = data['overall_condition'].str.split(n=1).str[1]\n",
    "print(data.overall_condition.unique())"
   ]
  },
  {
   "cell_type": "code",
   "execution_count": 345,
   "metadata": {},
   "outputs": [
    {
     "data": {
      "text/plain": [
       "<matplotlib.collections.PathCollection at 0x7fcc9d29d790>"
      ]
     },
     "execution_count": 345,
     "metadata": {},
     "output_type": "execute_result"
    },
    {
     "data": {
      "image/png": "[encoded data removed]",
      "text/plain": [
       "<Figure size 432x288 with 1 Axes>"
      ]
     },
     "metadata": {
      "needs_background": "light"
     },
     "output_type": "display_data"
    }
   ],
   "source": [
    "data['overall_condition'] = pd.to_numeric(data['overall_condition'])\n",
    "plt.scatter(data.price, data.overall_condition)"
   ]
  },
  {
   "cell_type": "markdown",
   "metadata": {},
   "source": [
    "## Working on the column : type\n",
    "1. more than 84% are apartments. Hence, we assume nan values are apartments\n",
    "2. apartment = 2, house = 1, other = 0"
   ]
  },
  {
   "cell_type": "code",
   "execution_count": 346,
   "metadata": {},
   "outputs": [
    {
     "name": "stdout",
     "output_type": "stream",
     "text": [
      "['house' 'apartment' 'other' nan]\n",
      "10\n",
      "84.39349112426035  % are apartments\n",
      "['house' 'apartment' 'other']\n",
      "[1 2 0]\n"
     ]
    },
    {
     "data": {
      "image/png": "[encoded data removed]",
      "text/plain": [
       "<Figure size 432x288 with 1 Axes>"
      ]
     },
     "metadata": {
      "needs_background": "light"
     },
     "output_type": "display_data"
    }
   ],
   "source": [
    "print(data['type'].unique())\n",
    "#plt.scatter(data.price, data.type)\n",
    "print(data['type'].isna().sum())\n",
    "data['type'].value_counts().plot(kind='bar')\n",
    "sns.despine\n",
    "print(data[data['type'] == \"apartment\"].shape[0] / data.shape[0] * 100, \" % are apartments\")\n",
    "data.loc[data.type.isna(), 'type'] = \"apartment\"\n",
    "print(data['type'].unique())\n",
    "\n",
    "data.loc[data['type'] == \"apartment\", 'type'] = 2\n",
    "data.loc[data['type'] == \"house\", 'type'] = 1\n",
    "data.loc[data['type'] == \"other\", 'type'] = 0\n",
    "\n",
    "print(data['type'].unique())"
   ]
  },
  {
   "cell_type": "markdown",
   "metadata": {},
   "source": [
    "I tried replacing the leasures_available with the length of the object after splitting by commas. however, for dearth of time the code is not finished and debugged. The above said parameter can be used as another feature as it denotes how many leasure objects are available. \n",
    "\n",
    "\n",
    "print(data['leasures_available'].isna().sum())\n",
    "data['leasures'] = len(str(data['leisures_available']).split(','))\n",
    "#data['leisures_available'] = data['leisures_available'].str.split(',').shape[0]\n",
    "#data.loc[data.leasures_available.isna(), 'leisures_available'] = 0\n",
    "#print(data['leasures_available'].isna().sum())\n",
    "#data['leisures_available'] = data['leisures_available']\n",
    "data.head()"
   ]
  },
  {
   "cell_type": "markdown",
   "metadata": {},
   "source": []
  },
  {
   "cell_type": "code",
   "execution_count": 347,
   "metadata": {},
   "outputs": [
    {
     "name": "stdout",
     "output_type": "stream",
     "text": [
      "0\n",
      "0\n",
      "0\n",
      "0\n",
      "4200\n",
      "22.0\n",
      "22.0\n",
      "5300000\n"
     ]
    },
    {
     "data": {
      "text/plain": [
       "array([ 6.,  2.,  5.,  4.,  3.,  1.,  0., 15.,  7., 22.,  8., 12.])"
      ]
     },
     "execution_count": 347,
     "metadata": {},
     "output_type": "execute_result"
    }
   ],
   "source": [
    "print(data['area'].isna().sum())\n",
    "print(data['bathrooms'].isna().sum())\n",
    "print(data['bedrooms'].isna().sum())\n",
    "print(data['price'].isna().sum())\n",
    "\n",
    "\n",
    "print(data['area'].max())\n",
    "print(data['bathrooms'].max())\n",
    "print(data['bedrooms'].max())\n",
    "print(data['price'].max())\n",
    "\n",
    "data['bathrooms'].unique()"
   ]
  },
  {
   "cell_type": "code",
   "execution_count": 369,
   "metadata": {},
   "outputs": [],
   "source": [
    "#np.any(np.isnan(data))\n",
    "#np.all(np.isfinite(data))\n",
    "\n",
    "#data.replace([np.inf, -np.inf], np.nan, inplace=True)\n",
    "#data['bathrooms'].dropna(inplace=True)"
   ]
  },
  {
   "cell_type": "markdown",
   "metadata": {},
   "source": [
    "## Visualization, Modeling, Machine Learning\n",
    "\n",
    "Can you build a model that can predict property prices and identify how different features influence their decision? Please explain your findings effectively to technical and non-technical audiences using comments and visualizations, if appropriate.\n",
    "- **Build an optimized model that effectively solves the business problem.**\n",
    "- **The model would be evaluated on the basis of mean absolute percent error.**\n",
    "- **Read the Test.csv file and prepare features for testing.**"
   ]
  },
  {
   "cell_type": "code",
   "execution_count": 349,
   "metadata": {},
   "outputs": [
    {
     "data": {
      "text/html": [
       "<div>\n",
       "<style scoped>\n",
       "    .dataframe tbody tr th:only-of-type {\n",
       "        vertical-align: middle;\n",
       "    }\n",
       "\n",
       "    .dataframe tbody tr th {\n",
       "        vertical-align: top;\n",
       "    }\n",
       "\n",
       "    .dataframe thead th {\n",
       "        text-align: right;\n",
       "    }\n",
       "</style>\n",
       "<table border=\"1\" class=\"dataframe\">\n",
       "  <thead>\n",
       "    <tr style=\"text-align: right;\">\n",
       "      <th></th>\n",
       "      <th>id</th>\n",
       "      <th>area</th>\n",
       "      <th>bathrooms</th>\n",
       "      <th>bedrooms</th>\n",
       "      <th>condo_fee</th>\n",
       "      <th>parking_spots</th>\n",
       "      <th>attached_rooms</th>\n",
       "      <th>type</th>\n",
       "      <th>lat</th>\n",
       "      <th>lon</th>\n",
       "      <th>year_built</th>\n",
       "      <th>overall_condition</th>\n",
       "      <th>has_elevator</th>\n",
       "      <th>leasures_available</th>\n",
       "    </tr>\n",
       "  </thead>\n",
       "  <tbody>\n",
       "    <tr>\n",
       "      <th>0</th>\n",
       "      <td>2590</td>\n",
       "      <td>54</td>\n",
       "      <td>2.0</td>\n",
       "      <td>2.0</td>\n",
       "      <td>0</td>\n",
       "      <td>1</td>\n",
       "      <td>1</td>\n",
       "      <td>apartment</td>\n",
       "      <td>-5.882136</td>\n",
       "      <td>-35.172217</td>\n",
       "      <td>2004.0</td>\n",
       "      <td>Score 6</td>\n",
       "      <td>yes</td>\n",
       "      <td>NaN</td>\n",
       "    </tr>\n",
       "    <tr>\n",
       "      <th>1</th>\n",
       "      <td>242</td>\n",
       "      <td>92</td>\n",
       "      <td>3.0</td>\n",
       "      <td>3.0</td>\n",
       "      <td>575</td>\n",
       "      <td>2</td>\n",
       "      <td>1</td>\n",
       "      <td>apartment</td>\n",
       "      <td>-5.867429</td>\n",
       "      <td>-35.196668</td>\n",
       "      <td>1966.0</td>\n",
       "      <td>Score 6</td>\n",
       "      <td>yes</td>\n",
       "      <td>BARBECUE SPACE,PLAYGROUND,SPORTS COURT</td>\n",
       "    </tr>\n",
       "    <tr>\n",
       "      <th>2</th>\n",
       "      <td>2946</td>\n",
       "      <td>98</td>\n",
       "      <td>2.0</td>\n",
       "      <td>4.0</td>\n",
       "      <td>0</td>\n",
       "      <td>2</td>\n",
       "      <td>2</td>\n",
       "      <td>apartment</td>\n",
       "      <td>-5.857640</td>\n",
       "      <td>-35.201449</td>\n",
       "      <td>NaN</td>\n",
       "      <td>Score 2</td>\n",
       "      <td>Yes</td>\n",
       "      <td>NaN</td>\n",
       "    </tr>\n",
       "    <tr>\n",
       "      <th>3</th>\n",
       "      <td>758</td>\n",
       "      <td>182</td>\n",
       "      <td>5.0</td>\n",
       "      <td>3.0</td>\n",
       "      <td>1200</td>\n",
       "      <td>3</td>\n",
       "      <td>3</td>\n",
       "      <td>apartment</td>\n",
       "      <td>-5.812787</td>\n",
       "      <td>-35.204990</td>\n",
       "      <td>1993.0</td>\n",
       "      <td>Score 5</td>\n",
       "      <td>nop</td>\n",
       "      <td>steam room,gym,sports court</td>\n",
       "    </tr>\n",
       "    <tr>\n",
       "      <th>4</th>\n",
       "      <td>1160</td>\n",
       "      <td>69</td>\n",
       "      <td>2.0</td>\n",
       "      <td>3.0</td>\n",
       "      <td>250</td>\n",
       "      <td>1</td>\n",
       "      <td>0</td>\n",
       "      <td>apartment</td>\n",
       "      <td>-5.843724</td>\n",
       "      <td>-35.221448</td>\n",
       "      <td>2001.0</td>\n",
       "      <td>Score 4</td>\n",
       "      <td>No</td>\n",
       "      <td>barbecue space,PLAYGROUND</td>\n",
       "    </tr>\n",
       "  </tbody>\n",
       "</table>\n",
       "</div>"
      ],
      "text/plain": [
       "     id  area  bathrooms  bedrooms  condo_fee  parking_spots  attached_rooms  \\\n",
       "0  2590    54        2.0       2.0          0              1               1   \n",
       "1   242    92        3.0       3.0        575              2               1   \n",
       "2  2946    98        2.0       4.0          0              2               2   \n",
       "3   758   182        5.0       3.0       1200              3               3   \n",
       "4  1160    69        2.0       3.0        250              1               0   \n",
       "\n",
       "        type       lat        lon  year_built overall_condition has_elevator  \\\n",
       "0  apartment -5.882136 -35.172217      2004.0           Score 6          yes   \n",
       "1  apartment -5.867429 -35.196668      1966.0           Score 6          yes   \n",
       "2  apartment -5.857640 -35.201449         NaN           Score 2          Yes   \n",
       "3  apartment -5.812787 -35.204990      1993.0           Score 5          nop   \n",
       "4  apartment -5.843724 -35.221448      2001.0           Score 4           No   \n",
       "\n",
       "                       leasures_available  \n",
       "0                                     NaN  \n",
       "1  BARBECUE SPACE,PLAYGROUND,SPORTS COURT  \n",
       "2                                     NaN  \n",
       "3             steam room,gym,sports court  \n",
       "4               barbecue space,PLAYGROUND  "
      ]
     },
     "execution_count": 349,
     "metadata": {},
     "output_type": "execute_result"
    }
   ],
   "source": [
    "#Loading Test data\n",
    "test_data=pd.read_csv('test.csv')\n",
    "test_data.head()"
   ]
  },
  {
   "cell_type": "markdown",
   "metadata": {},
   "source": []
  },
  {
   "cell_type": "markdown",
   "metadata": {},
   "source": [
    "\n",
    "\n",
    "**The management wants to know what are the most important features for your model.  Can you tell them?**\n",
    "\n",
    "> #### Task:\n",
    "- **Visualize the top 20 features and their feature importance.**\n"
   ]
  },
  {
   "cell_type": "markdown",
   "metadata": {},
   "source": [
    "## Understanding Feature correlation\n",
    "Using Pearson Correlation to understand the relation between different columns and price.\n",
    "It nicely plots a heatmap from the covariance matrix of the features.\n",
    "\n",
    "Note that we are highly interested with the correlation of different features with price\n",
    "From the following plot we have a few observations.\n",
    "1. We observe area has a high pearson coefficient with price.\n",
    "2. We observe that if we sort the features according to their pearson correlation, they are as follows. area, attached_room, bathroom, bedroom, parking_slot, condo fee, etc.\n"
   ]
  },
  {
   "cell_type": "code",
   "execution_count": 350,
   "metadata": {},
   "outputs": [
    {
     "data": {
      "image/png": "[encoded data removed]",
      "text/plain": [
       "<Figure size 864x720 with 2 Axes>"
      ]
     },
     "metadata": {
      "needs_background": "light"
     },
     "output_type": "display_data"
    }
   ],
   "source": [
    "data = data.drop('id', axis = 1)\n",
    "data = data.drop('leasures_available', axis = 1)\n",
    "plt.figure(figsize=(12,10))\n",
    "cor = data.corr()\n",
    "sns.heatmap(cor, annot=True, cmap=plt.cm.Reds)\n",
    "plt.show()"
   ]
  },
  {
   "cell_type": "markdown",
   "metadata": {},
   "source": [
    "## Creating the model with linear regression"
   ]
  },
  {
   "cell_type": "code",
   "execution_count": 351,
   "metadata": {},
   "outputs": [
    {
     "data": {
      "text/plain": [
       "LinearRegression(copy_X=True, fit_intercept=True, n_jobs=None, normalize=False)"
      ]
     },
     "execution_count": 351,
     "metadata": {},
     "output_type": "execute_result"
    }
   ],
   "source": [
    "y = pd.DataFrame(data['price'])\n",
    "data = data.drop('price', axis = 1)\n",
    "model = LinearRegression()\n",
    "model.fit(data, y)"
   ]
  },
  {
   "cell_type": "markdown",
   "metadata": {},
   "source": [
    "> #### Task:\n",
    "- **Submit the predictions on the test dataset using your optimized model** <br/>\n",
    "    For each record in the test set (`Test.csv`), you must predict the value of the `price` variable. You should submit a CSV file with a header row and one row per test entry. The file (submissions.csv) should have exactly 2 columns:\n",
    "\n",
    "The file (`submissions.csv`) should have exactly 2 columns:\n",
    "   - **id**\n",
    "   - **price**"
   ]
  },
  {
   "cell_type": "code",
   "execution_count": 352,
   "metadata": {},
   "outputs": [
    {
     "name": "stdout",
     "output_type": "stream",
     "text": [
      "Index(['area', 'bathrooms', 'bedrooms', 'condo_fee', 'parking_spots',\n",
      "       'attached_rooms', 'type', 'lat', 'lon', 'year_built',\n",
      "       'overall_condition', 'has_elevator'],\n",
      "      dtype='object')\n",
      "   area  bathrooms  bedrooms  condo_fee  parking_spots  attached_rooms  \\\n",
      "0    54        2.0       2.0          0              1               1   \n",
      "1    92        3.0       3.0        575              2               1   \n",
      "2    98        2.0       4.0          0              2               2   \n",
      "3   182        5.0       3.0       1200              3               3   \n",
      "4    69        2.0       3.0        250              1               0   \n",
      "\n",
      "        type       lat        lon  year_built overall_condition has_elevator  \n",
      "0  apartment -5.882136 -35.172217      2004.0           Score 6          yes  \n",
      "1  apartment -5.867429 -35.196668      1966.0           Score 6          yes  \n",
      "2  apartment -5.857640 -35.201449         NaN           Score 2          Yes  \n",
      "3  apartment -5.812787 -35.204990      1993.0           Score 5          nop  \n",
      "4  apartment -5.843724 -35.221448      2001.0           Score 4           No  \n"
     ]
    }
   ],
   "source": [
    "print(data.columns)\n",
    "X_test = pd.DataFrame(columns = ['area', 'bathrooms', 'bedrooms', 'condo_fee', 'parking_spots',\n",
    "       'attached_rooms', 'type', 'lat', 'lon', 'year_built',\n",
    "       'overall_condition', 'has_elevator'])\n",
    "X_test['area'] = test_data['area']\n",
    "X_test['bathrooms'] = test_data['bathrooms']\n",
    "X_test['bedrooms'] = test_data['bedrooms']\n",
    "X_test['condo_fee'] = test_data['condo_fee']\n",
    "X_test['parking_spots'] = test_data['parking_spots']\n",
    "X_test['attached_rooms'] = test_data['attached_rooms']\n",
    "X_test['type'] = test_data['type']\n",
    "X_test['lat'] = test_data['lat']\n",
    "X_test['lon'] = test_data['lon']\n",
    "X_test['year_built'] = test_data['year_built']\n",
    "X_test['overall_condition'] = test_data['overall_condition']\n",
    "X_test['has_elevator'] = test_data['has_elevator']\n",
    "print(X_test.head())\n"
   ]
  },
  {
   "cell_type": "code",
   "execution_count": 353,
   "metadata": {},
   "outputs": [],
   "source": [
    "X_test.loc[X_test['type'] == \"apartment\", 'type'] = 2\n",
    "X_test.loc[X_test['type'] == \"house\", 'type'] = 1\n",
    "X_test.loc[X_test['type'] == \"other\", 'type'] = 0\n",
    "\n",
    "X_test['overall_condition'] = X_test['overall_condition'].str.split(n=1).str[1]\n",
    "X_test['overall_condition'] = pd.to_numeric(X_test['overall_condition'])\n",
    "\n",
    "X_test.loc[X_test.has_elevator == \"Yes\", \"has_elevator\"] = 1\n",
    "X_test.loc[X_test.has_elevator == \"yes\", \"has_elevator\"] = 1\n",
    "X_test.loc[X_test.has_elevator == \"y\", \"has_elevator\"] = 1\n",
    "\n",
    "X_test.loc[X_test.has_elevator == \"No\", \"has_elevator\"] = 0\n",
    "X_test.loc[X_test.has_elevator == \"nop\", \"has_elevator\"] = 0\n",
    "X_test.loc[X_test.has_elevator == \"no\", \"has_elevator\"] = 0"
   ]
  },
  {
   "cell_type": "code",
   "execution_count": 363,
   "metadata": {},
   "outputs": [
    {
     "name": "stdout",
     "output_type": "stream",
     "text": [
      "0\n"
     ]
    }
   ],
   "source": [
    "X_test.loc[X_test.bathrooms.isna(), \"bathrooms\"] = 2\n",
    "X_test.loc[X_test.bedrooms.isna(), \"bedrooms\"] = 3\n",
    "print(X_test['area'].isna().sum())\n",
    "X_test.loc[X_test.condo_fee.isna(), \"condo_fee\"] = 354.116222\n",
    "X_test.loc[X_test['parking_spots'] < 0, 'parking_spots'] = abs(X_test['parking_spots'])\n",
    "X_test.loc[X_test.parking_spots.isna(), \"parking_spots\"] = round(X_test['parking_spots'].mean())\n",
    "X_test.loc[X_test.lat.isna(), 'lat'] = round(data['lat'].mean())\n",
    "X_test.loc[X_test.lon.isna(), 'lon'] = round(data['lon'].mean())\n",
    "X_test.loc[X_test.year_built.isna(), 'year_built'] = round(X_test['year_built'].mean())\n",
    "X_test.loc[X_test.type.isna(), 'type'] = round(X_test['type'].mean())"
   ]
  },
  {
   "cell_type": "code",
   "execution_count": 364,
   "metadata": {},
   "outputs": [
    {
     "name": "stdout",
     "output_type": "stream",
     "text": [
      "0\n",
      "0\n",
      "0\n",
      "0\n",
      "0\n",
      "0\n",
      "0\n",
      "0\n",
      "0\n",
      "0\n",
      "0\n",
      "0\n"
     ]
    }
   ],
   "source": [
    "print(X_test['area'].isna().sum())\n",
    "print(X_test['bathrooms'].isna().sum())\n",
    "print(X_test['bedrooms'].isna().sum())\n",
    "print(X_test['condo_fee'].isna().sum())\n",
    "print(X_test['parking_spots'].isna().sum())\n",
    "print(X_test['attached_rooms'].isna().sum())\n",
    "print(X_test['type'].isna().sum())\n",
    "print(X_test['lat'].isna().sum())\n",
    "print(X_test['lon'].isna().sum())\n",
    "print(X_test['year_built'].isna().sum())\n",
    "print(X_test['overall_condition'].isna().sum())\n",
    "print(X_test['has_elevator'].isna().sum())\n"
   ]
  },
  {
   "cell_type": "code",
   "execution_count": 365,
   "metadata": {},
   "outputs": [],
   "source": [
    "y_predict = model.predict(X_test)"
   ]
  },
  {
   "cell_type": "code",
   "execution_count": 367,
   "metadata": {},
   "outputs": [],
   "source": [
    "submission_df = pd.DataFrame(columns = ['id', 'price'])\n",
    "submission_df['id'] = test_data['id']\n",
    "submission_df['price'] = y_predict\n",
    "#os.remove('submission.csv')"
   ]
  },
  {
   "cell_type": "code",
   "execution_count": 368,
   "metadata": {},
   "outputs": [],
   "source": [
    "#Submission\n",
    "submission_df.to_csv('submissions.csv',index=False)"
   ]
  },
  {
   "cell_type": "markdown",
   "metadata": {},
   "source": [
    "---"
   ]
  }
 ],
 "metadata": {
  "kernelspec": {
   "display_name": "Python 3 (ipykernel)",
   "language": "python",
   "name": "python3"
  },
  "language_info": {
   "codemirror_mode": {
    "name": "ipython",
    "version": 3
   },
   "file_extension": ".py",
   "mimetype": "text/x-python",
   "name": "python",
   "nbconvert_exporter": "python",
   "pygments_lexer": "ipython3",
   "version": "3.9.6"
  },
  "toc": {
   "base_numbering": 1,
   "nav_menu": {},
   "number_sections": true,
   "sideBar": true,
   "skip_h1_title": false,
   "title_cell": "Table of Contents",
   "title_sidebar": "Contents",
   "toc_cell": false,
   "toc_position": {},
   "toc_section_display": true,
   "toc_window_display": false
  }
 },
 "nbformat": 4,
 "nbformat_minor": 4
}
